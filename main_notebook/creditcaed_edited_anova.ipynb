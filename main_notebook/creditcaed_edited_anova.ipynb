{
  "cells": [
    {
      "cell_type": "markdown",
      "metadata": {
        "id": "6mu37oVIx5oA"
      },
      "source": [
        "# Steps:\n",
        "\n",
        ">\n",
        "1. data analysis on the data\n",
        "2. determine the important features, and extract them from the dataset.\n",
        "3. split the data to train, test datasets [for original_data and extracted features_data]\n",
        "4. standraize the x_train dataset for both original_data and extract_data.\n",
        "5. overSample the train datasets using random and SMOTE\n",
        "6. use machine data models [RandomForest, LogisticRegression, SVM, Adaboost, Xgboost]\n",
        "7. cost function: recall, precision, f_score, auc\n",
        "8. compare the results and choose the best one\n",
        "\n"
      ]
    },
    {
      "cell_type": "markdown",
      "metadata": {
        "id": "ljadUkHIK6bm"
      },
      "source": [
        "# Data Analysis:"
      ]
    },
    {
      "cell_type": "code",
      "execution_count": null,
      "metadata": {
        "colab": {
          "base_uri": "https://localhost:8080/"
        },
        "id": "ZMK7HyZ0q4IZ",
        "outputId": "65ef5b45-ce1d-414e-9371-70f1b1fe69d2"
      },
      "outputs": [
        {
          "output_type": "stream",
          "name": "stdout",
          "text": [
            "rm: cannot remove 'data/': No such file or directory\n",
            "/usr/local/lib/python3.7/dist-packages/gdown/cli.py:131: FutureWarning: Option `--id` was deprecated in version 4.3.1 and will be removed in 5.0. You don't need to pass it anymore to use a file ID.\n",
            "  category=FutureWarning,\n",
            "Downloading...\n",
            "From: https://drive.google.com/uc?id=1ml7ZGeaTNYoiGubT5vRHWIFSD2S9jcso\n",
            "To: /content/creditcard.csv\n",
            "100% 151M/151M [00:01<00:00, 78.5MB/s]\n"
          ]
        }
      ],
      "source": [
        "import pandas as pd\n",
        "import numpy as np\n",
        "# download Dataset\n",
        "!rm -r data/\n",
        "!gdown --id 1ml7ZGeaTNYoiGubT5vRHWIFSD2S9jcso\n",
        "\n",
        "# https://drive.google.com/uc?export=download&id=1ml7ZGeaTNYoiGubT5vRHWIFSD2S9jcso\n",
        "#save Dataset to dataframe\n",
        "data = pd.read_csv('creditcard.csv')"
      ]
    },
    {
      "cell_type": "code",
      "execution_count": null,
      "metadata": {
        "colab": {
          "base_uri": "https://localhost:8080/",
          "height": 299
        },
        "id": "sFPBFq4Mq9cC",
        "outputId": "22036fd0-0b54-4bed-ad47-b8b552f52804"
      },
      "outputs": [
        {
          "data": {
            "text/html": [
              "\n",
              "  <div id=\"df-2ee5b8e1-97d7-4858-8cb4-5eb849458ce4\">\n",
              "    <div class=\"colab-df-container\">\n",
              "      <div>\n",
              "<style scoped>\n",
              "    .dataframe tbody tr th:only-of-type {\n",
              "        vertical-align: middle;\n",
              "    }\n",
              "\n",
              "    .dataframe tbody tr th {\n",
              "        vertical-align: top;\n",
              "    }\n",
              "\n",
              "    .dataframe thead th {\n",
              "        text-align: right;\n",
              "    }\n",
              "</style>\n",
              "<table border=\"1\" class=\"dataframe\">\n",
              "  <thead>\n",
              "    <tr style=\"text-align: right;\">\n",
              "      <th></th>\n",
              "      <th>Time</th>\n",
              "      <th>V1</th>\n",
              "      <th>V2</th>\n",
              "      <th>V3</th>\n",
              "      <th>V4</th>\n",
              "      <th>V5</th>\n",
              "      <th>V6</th>\n",
              "      <th>V7</th>\n",
              "      <th>V8</th>\n",
              "      <th>V9</th>\n",
              "      <th>...</th>\n",
              "      <th>V21</th>\n",
              "      <th>V22</th>\n",
              "      <th>V23</th>\n",
              "      <th>V24</th>\n",
              "      <th>V25</th>\n",
              "      <th>V26</th>\n",
              "      <th>V27</th>\n",
              "      <th>V28</th>\n",
              "      <th>Amount</th>\n",
              "      <th>Class</th>\n",
              "    </tr>\n",
              "  </thead>\n",
              "  <tbody>\n",
              "    <tr>\n",
              "      <th>284802</th>\n",
              "      <td>172786.0</td>\n",
              "      <td>-11.881118</td>\n",
              "      <td>10.071785</td>\n",
              "      <td>-9.834783</td>\n",
              "      <td>-2.066656</td>\n",
              "      <td>-5.364473</td>\n",
              "      <td>-2.606837</td>\n",
              "      <td>-4.918215</td>\n",
              "      <td>7.305334</td>\n",
              "      <td>1.914428</td>\n",
              "      <td>...</td>\n",
              "      <td>0.213454</td>\n",
              "      <td>0.111864</td>\n",
              "      <td>1.014480</td>\n",
              "      <td>-0.509348</td>\n",
              "      <td>1.436807</td>\n",
              "      <td>0.250034</td>\n",
              "      <td>0.943651</td>\n",
              "      <td>0.823731</td>\n",
              "      <td>0.77</td>\n",
              "      <td>0</td>\n",
              "    </tr>\n",
              "    <tr>\n",
              "      <th>284803</th>\n",
              "      <td>172787.0</td>\n",
              "      <td>-0.732789</td>\n",
              "      <td>-0.055080</td>\n",
              "      <td>2.035030</td>\n",
              "      <td>-0.738589</td>\n",
              "      <td>0.868229</td>\n",
              "      <td>1.058415</td>\n",
              "      <td>0.024330</td>\n",
              "      <td>0.294869</td>\n",
              "      <td>0.584800</td>\n",
              "      <td>...</td>\n",
              "      <td>0.214205</td>\n",
              "      <td>0.924384</td>\n",
              "      <td>0.012463</td>\n",
              "      <td>-1.016226</td>\n",
              "      <td>-0.606624</td>\n",
              "      <td>-0.395255</td>\n",
              "      <td>0.068472</td>\n",
              "      <td>-0.053527</td>\n",
              "      <td>24.79</td>\n",
              "      <td>0</td>\n",
              "    </tr>\n",
              "    <tr>\n",
              "      <th>284804</th>\n",
              "      <td>172788.0</td>\n",
              "      <td>1.919565</td>\n",
              "      <td>-0.301254</td>\n",
              "      <td>-3.249640</td>\n",
              "      <td>-0.557828</td>\n",
              "      <td>2.630515</td>\n",
              "      <td>3.031260</td>\n",
              "      <td>-0.296827</td>\n",
              "      <td>0.708417</td>\n",
              "      <td>0.432454</td>\n",
              "      <td>...</td>\n",
              "      <td>0.232045</td>\n",
              "      <td>0.578229</td>\n",
              "      <td>-0.037501</td>\n",
              "      <td>0.640134</td>\n",
              "      <td>0.265745</td>\n",
              "      <td>-0.087371</td>\n",
              "      <td>0.004455</td>\n",
              "      <td>-0.026561</td>\n",
              "      <td>67.88</td>\n",
              "      <td>0</td>\n",
              "    </tr>\n",
              "    <tr>\n",
              "      <th>284805</th>\n",
              "      <td>172788.0</td>\n",
              "      <td>-0.240440</td>\n",
              "      <td>0.530483</td>\n",
              "      <td>0.702510</td>\n",
              "      <td>0.689799</td>\n",
              "      <td>-0.377961</td>\n",
              "      <td>0.623708</td>\n",
              "      <td>-0.686180</td>\n",
              "      <td>0.679145</td>\n",
              "      <td>0.392087</td>\n",
              "      <td>...</td>\n",
              "      <td>0.265245</td>\n",
              "      <td>0.800049</td>\n",
              "      <td>-0.163298</td>\n",
              "      <td>0.123205</td>\n",
              "      <td>-0.569159</td>\n",
              "      <td>0.546668</td>\n",
              "      <td>0.108821</td>\n",
              "      <td>0.104533</td>\n",
              "      <td>10.00</td>\n",
              "      <td>0</td>\n",
              "    </tr>\n",
              "    <tr>\n",
              "      <th>284806</th>\n",
              "      <td>172792.0</td>\n",
              "      <td>-0.533413</td>\n",
              "      <td>-0.189733</td>\n",
              "      <td>0.703337</td>\n",
              "      <td>-0.506271</td>\n",
              "      <td>-0.012546</td>\n",
              "      <td>-0.649617</td>\n",
              "      <td>1.577006</td>\n",
              "      <td>-0.414650</td>\n",
              "      <td>0.486180</td>\n",
              "      <td>...</td>\n",
              "      <td>0.261057</td>\n",
              "      <td>0.643078</td>\n",
              "      <td>0.376777</td>\n",
              "      <td>0.008797</td>\n",
              "      <td>-0.473649</td>\n",
              "      <td>-0.818267</td>\n",
              "      <td>-0.002415</td>\n",
              "      <td>0.013649</td>\n",
              "      <td>217.00</td>\n",
              "      <td>0</td>\n",
              "    </tr>\n",
              "  </tbody>\n",
              "</table>\n",
              "<p>5 rows × 31 columns</p>\n",
              "</div>\n",
              "      <button class=\"colab-df-convert\" onclick=\"convertToInteractive('df-2ee5b8e1-97d7-4858-8cb4-5eb849458ce4')\"\n",
              "              title=\"Convert this dataframe to an interactive table.\"\n",
              "              style=\"display:none;\">\n",
              "        \n",
              "  <svg xmlns=\"http://www.w3.org/2000/svg\" height=\"24px\"viewBox=\"0 0 24 24\"\n",
              "       width=\"24px\">\n",
              "    <path d=\"M0 0h24v24H0V0z\" fill=\"none\"/>\n",
              "    <path d=\"M18.56 5.44l.94 2.06.94-2.06 2.06-.94-2.06-.94-.94-2.06-.94 2.06-2.06.94zm-11 1L8.5 8.5l.94-2.06 2.06-.94-2.06-.94L8.5 2.5l-.94 2.06-2.06.94zm10 10l.94 2.06.94-2.06 2.06-.94-2.06-.94-.94-2.06-.94 2.06-2.06.94z\"/><path d=\"M17.41 7.96l-1.37-1.37c-.4-.4-.92-.59-1.43-.59-.52 0-1.04.2-1.43.59L10.3 9.45l-7.72 7.72c-.78.78-.78 2.05 0 2.83L4 21.41c.39.39.9.59 1.41.59.51 0 1.02-.2 1.41-.59l7.78-7.78 2.81-2.81c.8-.78.8-2.07 0-2.86zM5.41 20L4 18.59l7.72-7.72 1.47 1.35L5.41 20z\"/>\n",
              "  </svg>\n",
              "      </button>\n",
              "      \n",
              "  <style>\n",
              "    .colab-df-container {\n",
              "      display:flex;\n",
              "      flex-wrap:wrap;\n",
              "      gap: 12px;\n",
              "    }\n",
              "\n",
              "    .colab-df-convert {\n",
              "      background-color: #E8F0FE;\n",
              "      border: none;\n",
              "      border-radius: 50%;\n",
              "      cursor: pointer;\n",
              "      display: none;\n",
              "      fill: #1967D2;\n",
              "      height: 32px;\n",
              "      padding: 0 0 0 0;\n",
              "      width: 32px;\n",
              "    }\n",
              "\n",
              "    .colab-df-convert:hover {\n",
              "      background-color: #E2EBFA;\n",
              "      box-shadow: 0px 1px 2px rgba(60, 64, 67, 0.3), 0px 1px 3px 1px rgba(60, 64, 67, 0.15);\n",
              "      fill: #174EA6;\n",
              "    }\n",
              "\n",
              "    [theme=dark] .colab-df-convert {\n",
              "      background-color: #3B4455;\n",
              "      fill: #D2E3FC;\n",
              "    }\n",
              "\n",
              "    [theme=dark] .colab-df-convert:hover {\n",
              "      background-color: #434B5C;\n",
              "      box-shadow: 0px 1px 3px 1px rgba(0, 0, 0, 0.15);\n",
              "      filter: drop-shadow(0px 1px 2px rgba(0, 0, 0, 0.3));\n",
              "      fill: #FFFFFF;\n",
              "    }\n",
              "  </style>\n",
              "\n",
              "      <script>\n",
              "        const buttonEl =\n",
              "          document.querySelector('#df-2ee5b8e1-97d7-4858-8cb4-5eb849458ce4 button.colab-df-convert');\n",
              "        buttonEl.style.display =\n",
              "          google.colab.kernel.accessAllowed ? 'block' : 'none';\n",
              "\n",
              "        async function convertToInteractive(key) {\n",
              "          const element = document.querySelector('#df-2ee5b8e1-97d7-4858-8cb4-5eb849458ce4');\n",
              "          const dataTable =\n",
              "            await google.colab.kernel.invokeFunction('convertToInteractive',\n",
              "                                                     [key], {});\n",
              "          if (!dataTable) return;\n",
              "\n",
              "          const docLinkHtml = 'Like what you see? Visit the ' +\n",
              "            '<a target=\"_blank\" href=https://colab.research.google.com/notebooks/data_table.ipynb>data table notebook</a>'\n",
              "            + ' to learn more about interactive tables.';\n",
              "          element.innerHTML = '';\n",
              "          dataTable['output_type'] = 'display_data';\n",
              "          await google.colab.output.renderOutput(dataTable, element);\n",
              "          const docLink = document.createElement('div');\n",
              "          docLink.innerHTML = docLinkHtml;\n",
              "          element.appendChild(docLink);\n",
              "        }\n",
              "      </script>\n",
              "    </div>\n",
              "  </div>\n",
              "  "
            ],
            "text/plain": [
              "            Time         V1         V2        V3        V4        V5  \\\n",
              "284802  172786.0 -11.881118  10.071785 -9.834783 -2.066656 -5.364473   \n",
              "284803  172787.0  -0.732789  -0.055080  2.035030 -0.738589  0.868229   \n",
              "284804  172788.0   1.919565  -0.301254 -3.249640 -0.557828  2.630515   \n",
              "284805  172788.0  -0.240440   0.530483  0.702510  0.689799 -0.377961   \n",
              "284806  172792.0  -0.533413  -0.189733  0.703337 -0.506271 -0.012546   \n",
              "\n",
              "              V6        V7        V8        V9  ...       V21       V22  \\\n",
              "284802 -2.606837 -4.918215  7.305334  1.914428  ...  0.213454  0.111864   \n",
              "284803  1.058415  0.024330  0.294869  0.584800  ...  0.214205  0.924384   \n",
              "284804  3.031260 -0.296827  0.708417  0.432454  ...  0.232045  0.578229   \n",
              "284805  0.623708 -0.686180  0.679145  0.392087  ...  0.265245  0.800049   \n",
              "284806 -0.649617  1.577006 -0.414650  0.486180  ...  0.261057  0.643078   \n",
              "\n",
              "             V23       V24       V25       V26       V27       V28  Amount  \\\n",
              "284802  1.014480 -0.509348  1.436807  0.250034  0.943651  0.823731    0.77   \n",
              "284803  0.012463 -1.016226 -0.606624 -0.395255  0.068472 -0.053527   24.79   \n",
              "284804 -0.037501  0.640134  0.265745 -0.087371  0.004455 -0.026561   67.88   \n",
              "284805 -0.163298  0.123205 -0.569159  0.546668  0.108821  0.104533   10.00   \n",
              "284806  0.376777  0.008797 -0.473649 -0.818267 -0.002415  0.013649  217.00   \n",
              "\n",
              "        Class  \n",
              "284802      0  \n",
              "284803      0  \n",
              "284804      0  \n",
              "284805      0  \n",
              "284806      0  \n",
              "\n",
              "[5 rows x 31 columns]"
            ]
          },
          "execution_count": 2,
          "metadata": {},
          "output_type": "execute_result"
        }
      ],
      "source": [
        "data.tail()"
      ]
    },
    {
      "cell_type": "code",
      "execution_count": null,
      "metadata": {
        "colab": {
          "base_uri": "https://localhost:8080/"
        },
        "id": "F43R_LksxdOD",
        "outputId": "6cc049cc-7889-4f18-843b-344ab92f9c6c"
      },
      "outputs": [
        {
          "data": {
            "text/plain": [
              "(284807, 31)"
            ]
          },
          "execution_count": 3,
          "metadata": {},
          "output_type": "execute_result"
        }
      ],
      "source": [
        "data.shape"
      ]
    },
    {
      "cell_type": "code",
      "execution_count": null,
      "metadata": {
        "colab": {
          "base_uri": "https://localhost:8080/",
          "height": 165
        },
        "id": "X_2PLn58q-kp",
        "outputId": "07bac17c-cc67-4579-d781-3548122c57b3"
      },
      "outputs": [
        {
          "output_type": "error",
          "ename": "NameError",
          "evalue": "ignored",
          "traceback": [
            "\u001b[0;31m---------------------------------------------------------------------------\u001b[0m",
            "\u001b[0;31mNameError\u001b[0m                                 Traceback (most recent call last)",
            "\u001b[0;32m<ipython-input-2-6208d269f320>\u001b[0m in \u001b[0;36m<module>\u001b[0;34m\u001b[0m\n\u001b[0;32m----> 1\u001b[0;31m \u001b[0mdata\u001b[0m\u001b[0;34m.\u001b[0m\u001b[0minfo\u001b[0m\u001b[0;34m(\u001b[0m\u001b[0;34m)\u001b[0m\u001b[0;34m\u001b[0m\u001b[0;34m\u001b[0m\u001b[0m\n\u001b[0m",
            "\u001b[0;31mNameError\u001b[0m: name 'data' is not defined"
          ]
        }
      ],
      "source": [
        "data.info()"
      ]
    },
    {
      "cell_type": "code",
      "execution_count": null,
      "metadata": {
        "colab": {
          "base_uri": "https://localhost:8080/",
          "height": 282
        },
        "id": "TEtTVu2crYZm",
        "outputId": "afce7f67-fa5c-40da-f112-efd1c596fd1e"
      },
      "outputs": [
        {
          "data": {
            "text/plain": [
              "<matplotlib.axes._subplots.AxesSubplot at 0x7fbcb0189910>"
            ]
          },
          "execution_count": 5,
          "metadata": {},
          "output_type": "execute_result"
        },
        {
          "data": {
            "image/png": "[encoded data removed]",
            "text/plain": [
              "<Figure size 432x288 with 1 Axes>"
            ]
          },
          "metadata": {},
          "output_type": "display_data"
        }
      ],
      "source": [
        " \n",
        "count_classes =pd.value_counts(data['Class'],sort =True)\n",
        "count_classes.plot(kind='bar',rot=0)\n",
        "\n",
        " "
      ]
    },
    {
      "cell_type": "markdown",
      "metadata": {
        "id": "-sI7jD9tzZRN"
      },
      "source": [
        "## Search for the important features:"
      ]
    },
    {
      "cell_type": "code",
      "execution_count": null,
      "metadata": {
        "id": "ZzkbzAWYra_x"
      },
      "outputs": [],
      "source": [
        "import seaborn as sns"
      ]
    },
    {
      "cell_type": "code",
      "execution_count": null,
      "metadata": {
        "colab": {
          "base_uri": "https://localhost:8080/",
          "height": 235
        },
        "id": "Tzz999GWrm4N",
        "outputId": "7a25e7fc-3704-4dc4-923b-bab2b5e141b9"
      },
      "outputs": [
        {
          "ename": "NameError",
          "evalue": "ignored",
          "output_type": "error",
          "traceback": [
            "\u001b[0;31m---------------------------------------------------------------------------\u001b[0m",
            "\u001b[0;31mNameError\u001b[0m                                 Traceback (most recent call last)",
            "\u001b[0;32m<ipython-input-7-f3b3793dfa9c>\u001b[0m in \u001b[0;36m<module>\u001b[0;34m\u001b[0m\n\u001b[1;32m      1\u001b[0m \u001b[0mdata_fraud_parameter\u001b[0m \u001b[0;34m=\u001b[0m\u001b[0mdata\u001b[0m\u001b[0;34m.\u001b[0m\u001b[0mdrop\u001b[0m\u001b[0;34m(\u001b[0m\u001b[0;34m[\u001b[0m\u001b[0;34m'Class'\u001b[0m\u001b[0;34m]\u001b[0m\u001b[0;34m,\u001b[0m\u001b[0maxis\u001b[0m\u001b[0;34m=\u001b[0m\u001b[0;36m1\u001b[0m\u001b[0;34m)\u001b[0m\u001b[0;34m\u001b[0m\u001b[0;34m\u001b[0m\u001b[0m\n\u001b[1;32m      2\u001b[0m \u001b[0;34m\u001b[0m\u001b[0m\n\u001b[0;32m----> 3\u001b[0;31m \u001b[0mfig\u001b[0m\u001b[0;34m,\u001b[0m \u001b[0max\u001b[0m\u001b[0;34m=\u001b[0m\u001b[0mplt\u001b[0m\u001b[0;34m.\u001b[0m\u001b[0msubplots\u001b[0m\u001b[0;34m(\u001b[0m\u001b[0mncols\u001b[0m\u001b[0;34m=\u001b[0m\u001b[0;36m4\u001b[0m\u001b[0;34m,\u001b[0m \u001b[0mnrows\u001b[0m\u001b[0;34m=\u001b[0m\u001b[0;36m8\u001b[0m\u001b[0;34m,\u001b[0m\u001b[0mfigsize\u001b[0m\u001b[0;34m=\u001b[0m\u001b[0;34m(\u001b[0m\u001b[0;36m20\u001b[0m\u001b[0;34m,\u001b[0m\u001b[0;36m30\u001b[0m\u001b[0;34m)\u001b[0m\u001b[0;34m)\u001b[0m\u001b[0;34m\u001b[0m\u001b[0;34m\u001b[0m\u001b[0m\n\u001b[0m\u001b[1;32m      4\u001b[0m \u001b[0;34m\u001b[0m\u001b[0m\n\u001b[1;32m      5\u001b[0m \u001b[0max\u001b[0m\u001b[0;34m=\u001b[0m\u001b[0max\u001b[0m\u001b[0;34m.\u001b[0m\u001b[0mflatten\u001b[0m\u001b[0;34m(\u001b[0m\u001b[0;34m)\u001b[0m\u001b[0;34m\u001b[0m\u001b[0;34m\u001b[0m\u001b[0m\n",
            "\u001b[0;31mNameError\u001b[0m: name 'plt' is not defined"
          ]
        }
      ],
      "source": [
        "data_fraud_parameter =data.drop(['Class'],axis=1)\n",
        "\n",
        "fig, ax=plt.subplots(ncols=4, nrows=8,figsize=(20,30))\n",
        "\n",
        "ax=ax.flatten()\n",
        "\n",
        "for i, col in enumerate(data_fraud_parameter):\n",
        "  sns.distplot(data_fraud_parameter[col].loc[data['Class']==1],ax=ax[i],color='red')\n",
        "  sns.distplot(data_fraud_parameter[col].loc[data['Class']==0],ax=ax[i],color='blue')\n",
        "  \n",
        "\n",
        "plt.tight_layout()\n",
        "\n",
        " \n"
      ]
    },
    {
      "cell_type": "markdown",
      "metadata": {
        "id": "4_LQW6Ulx0_G"
      },
      "source": [
        "improtant features according to figures:\n",
        "v3,v4,v9,v10,v11,v12,v14,v16,v17,v18.\n",
        " \n"
      ]
    },
    {
      "cell_type": "code",
      "execution_count": null,
      "metadata": {
        "id": "HjD2kFQLu-WQ"
      },
      "outputs": [],
      "source": [
        "#plt.figure(figsize=(40,50))\n",
        "sns.set(rc={'figure.figsize':(40,30)})\n",
        "sns.heatmap(data.corr(),annot=True)\n",
        "plt.show()"
      ]
    },
    {
      "cell_type": "markdown",
      "metadata": {
        "id": "YC85SaXAyTAA"
      },
      "source": [
        "improtant features according to heatmap:\n",
        "v1,v3,v4,v7,v10,v11,v12,v14,v16,v17,v18."
      ]
    },
    {
      "cell_type": "code",
      "execution_count": null,
      "metadata": {
        "colab": {
          "base_uri": "https://localhost:8080/"
        },
        "id": "uUA7r11o1lLV",
        "outputId": "b896868d-6b5a-401b-a24c-62addeb7d6eb"
      },
      "outputs": [
        {
          "data": {
            "text/plain": [
              "V1       0.101347\n",
              "V3       0.192961\n",
              "V4       0.133447\n",
              "V7       0.187257\n",
              "V10      0.216883\n",
              "V11      0.154876\n",
              "V12      0.260593\n",
              "V14      0.302544\n",
              "V16      0.196539\n",
              "V17      0.326481\n",
              "V18      0.111485\n",
              "Class    1.000000\n",
              "Name: Class, dtype: float64"
            ]
          },
          "execution_count": 9,
          "metadata": {},
          "output_type": "execute_result"
        }
      ],
      "source": [
        "cor =data.corr()\n",
        "\n",
        "#correlation with output variable\n",
        "cor_target=abs(cor[\"Class\"])\n",
        "\n",
        "#Selecting highly correlated features\n",
        "relevant_features =cor_target[cor_target>=0.1]\n",
        "relevant_features   "
      ]
    },
    {
      "cell_type": "markdown",
      "metadata": {
        "id": "Z0Sadb1JzoPh"
      },
      "source": [
        "### see the corlation between the featrues and it self:\n"
      ]
    },
    {
      "cell_type": "code",
      "execution_count": null,
      "metadata": {
        "id": "TdpIOwSaznYn"
      },
      "outputs": [],
      "source": [
        "features_name =relevant_features.keys()\n",
        "for i in range(len(features_name)-2):\n",
        "  j=i+1\n",
        "  for j in range(len(features_name)-1):\n",
        "    if abs(data[[features_name[i],features_name[i+1]]].corr().iat[0,1]) >=0.5:\n",
        "      print(data[[features_name[i],features_name[i+1]]].corr())\n",
        "\n",
        "   "
      ]
    },
    {
      "cell_type": "markdown",
      "metadata": {
        "id": "s3xL5x5o8gHi"
      },
      "source": [
        "there are no correlation between the features, so we can't rid of one them.\n"
      ]
    },
    {
      "cell_type": "markdown",
      "metadata": {
        "id": "OuzqKv_dzf38"
      },
      "source": [
        "## check for the outliers to:\n",
        "\n",
        "\n",
        "> 1. see what model to use\n",
        "> 2. \n",
        "> which method used to normalize\n",
        "\n",
        "\n",
        "\n",
        "\n",
        "\n"
      ]
    },
    {
      "cell_type": "code",
      "execution_count": null,
      "metadata": {
        "id": "7bmrsMfzzfTm"
      },
      "outputs": [],
      "source": [
        "data.columns"
      ]
    },
    {
      "cell_type": "code",
      "execution_count": null,
      "metadata": {
        "id": "awpaJbSbzfQK"
      },
      "outputs": [],
      "source": [
        "import seaborn as sns\n",
        "\n",
        "fig, ax=plt.subplots(ncols=4, nrows=8,figsize=(20,30))\n",
        "\n",
        "ax=ax.flatten()\n",
        "\n",
        "for i, col in enumerate(data):\n",
        "  #sns.boxplot(data_fraud_parameter[col].loc[data['Class']==1],ax=ax[i],color='red')\n",
        "  #sns.boxplot(data_fraud_parameter[col].loc[data['Class']==0],ax=ax[i],color='blue')\n",
        "  sns.boxplot(data[col],ax=ax[i],color='blue')\n",
        "  \n",
        "\n",
        "plt.tight_layout()"
      ]
    },
    {
      "cell_type": "markdown",
      "metadata": {
        "id": "tKfvVtLruNW7"
      },
      "source": [
        "many ouliers in the data:\n",
        "\n",
        "\n",
        "> models to use:\n",
        "> 1. random forest\n",
        "> 2. logestic regression\n",
        "> 3. SVM\n",
        "\n",
        "\n",
        "\n",
        "> use standraziation to standraize the data\n",
        "\n",
        "\n",
        "\n"
      ]
    },
    {
      "cell_type": "markdown",
      "metadata": {
        "id": "pLF6SR1230Ph"
      },
      "source": [
        "## features selection using anova:"
      ]
    },
    {
      "cell_type": "code",
      "execution_count": null,
      "metadata": {
        "id": "ji0YF1py4jaK"
      },
      "outputs": [],
      "source": [
        "from sklearn.feature_selection import SelectKBest, f_classif"
      ]
    },
    {
      "cell_type": "code",
      "execution_count": null,
      "metadata": {
        "id": "oh2DUmcn3yzf"
      },
      "outputs": [],
      "source": [
        "features_cols =data.drop(['Class'],axis=1)\n",
        "target_cols =data['Class']"
      ]
    },
    {
      "cell_type": "code",
      "execution_count": null,
      "metadata": {
        "id": "-y12EjF74d_d"
      },
      "outputs": [],
      "source": [
        "fvalue_selector =SelectKBest(f_classif,k=20)\n",
        "\n",
        "X_kbest =fvalue_selector.fit(features_cols,target_cols)"
      ]
    },
    {
      "cell_type": "code",
      "execution_count": null,
      "metadata": {
        "colab": {
          "base_uri": "https://localhost:8080/"
        },
        "id": "Ipwz27AU6Fzo",
        "outputId": "85f7682e-59c5-4694-dae1-a713b8478665"
      },
      "outputs": [
        {
          "output_type": "stream",
          "name": "stdout",
          "text": [
            "   Input_Feature       F_Score  P_Value\n",
            "17           V17  33979.168593      0.0\n",
            "14           V14  28695.547788      0.0\n",
            "12           V12  20749.822361      0.0\n",
            "10           V10  14057.979985      0.0\n",
            "16           V16  11443.349428      0.0\n",
            "3             V3  11014.508305      0.0\n",
            "7             V7  10349.605408      0.0\n",
            "11           V11   6999.355047      0.0\n",
            "4             V4   5163.832114      0.0\n",
            "18           V18   3584.380605      0.0\n",
            "1             V1   2955.668946      0.0\n",
            "9             V9   2746.600273      0.0\n",
            "5             V5   2592.357929      0.0\n",
            "2             V2   2393.401678      0.0\n"
          ]
        }
      ],
      "source": [
        "features_score =pd.DataFrame(X_kbest.scores_)\n",
        "features_pvalue =pd.DataFrame(np.round(X_kbest.pvalues_,4))\n",
        "features_name =pd.DataFrame(features_cols.columns)\n",
        "feature_score =pd.concat([features_name,features_score,features_pvalue],axis=1)\n",
        "\n",
        "#assign the column names\n",
        "feature_score.columns=['Input_Feature', 'F_Score','P_Value']\n",
        "print(feature_score.nlargest(14,columns='F_Score'))\n",
        "      "
      ]
    },
    {
      "cell_type": "code",
      "execution_count": null,
      "metadata": {
        "id": "QpEyguKS8U68"
      },
      "outputs": [],
      "source": [
        "selected_features =feature_score .nlargest(14,columns='F_Score')['Input_Feature']"
      ]
    },
    {
      "cell_type": "code",
      "execution_count": null,
      "metadata": {
        "id": "tOyaejTP9K52"
      },
      "outputs": [],
      "source": [
        "features_name=selected_features"
      ]
    },
    {
      "cell_type": "markdown",
      "metadata": {
        "id": "33a7jxIOzb08"
      },
      "source": [
        "# Machine Learning"
      ]
    },
    {
      "cell_type": "markdown",
      "metadata": {
        "id": "nf3uNTPE0DXm"
      },
      "source": [
        "### split the original data to train, test datasets"
      ]
    },
    {
      "cell_type": "code",
      "execution_count": null,
      "metadata": {
        "id": "YxfZO-Kf0Vbs"
      },
      "outputs": [],
      "source": [
        "from sklearn.model_selection import train_test_split"
      ]
    },
    {
      "cell_type": "code",
      "execution_count": null,
      "metadata": {
        "id": "YM8hFN2ez3d8"
      },
      "outputs": [],
      "source": [
        "# split the data dataset\n",
        "\n",
        "x_data =data.drop(['Class'],axis=1).values\n",
        "y_data=data['Class'].values\n",
        "\n",
        "x_train, x_test, y_train, y_test =train_test_split(x_data,y_data,test_size=0.3,random_state=1,stratify=y_data)"
      ]
    },
    {
      "cell_type": "code",
      "execution_count": null,
      "metadata": {
        "id": "Etb4QxAhAWHH"
      },
      "outputs": [],
      "source": [
        "# take a copy from the original_train_dataset\n",
        "\n",
        "x_train_without_standarization = x_train"
      ]
    },
    {
      "cell_type": "code",
      "execution_count": null,
      "metadata": {
        "colab": {
          "base_uri": "https://localhost:8080/"
        },
        "id": "oRKbyHWlTtgU",
        "outputId": "3021feb5-7ba0-4817-dca7-fb5303cfb026"
      },
      "outputs": [
        {
          "output_type": "execute_result",
          "data": {
            "text/plain": [
              "(148,)"
            ]
          },
          "metadata": {},
          "execution_count": 11
        }
      ],
      "source": [
        "# data['Class'][data['Class']==1] \n",
        "y_train[y_train==1].shape\n",
        "y_test[y_test==1].shape"
      ]
    },
    {
      "cell_type": "markdown",
      "metadata": {
        "id": "P2A-2tj-oeSm"
      },
      "source": [
        "### split the extracted features to train, test datasets"
      ]
    },
    {
      "cell_type": "code",
      "execution_count": null,
      "metadata": {
        "id": "DpNyQ7zbopdj"
      },
      "outputs": [],
      "source": [
        "# split the data dataset\n",
        "\n",
        "x_data_extract =data[features_name[:-1]].values\n",
        "\n",
        "x_train_extract, x_test_exctract, y_train_extract, y_test_extract =train_test_split(x_data_extract,y_data,test_size=0.3,random_state=1,stratify=y_data)"
      ]
    },
    {
      "cell_type": "code",
      "execution_count": null,
      "metadata": {
        "colab": {
          "base_uri": "https://localhost:8080/",
          "height": 206
        },
        "id": "1NPv54uCopH9",
        "outputId": "15f6bb17-9c02-45cc-fbbf-5ab3e9e38b25"
      },
      "outputs": [
        {
          "output_type": "execute_result",
          "data": {
            "text/plain": [
              "Input_Feature       V17       V14       V12       V10       V16        V3  \\\n",
              "0              1.648897 -0.252977  0.752264  0.396879 -3.211514  0.703924   \n",
              "1             -0.405073 -0.149358  0.375166 -1.275754  0.802805  1.347969   \n",
              "2             -0.035668 -0.859411 -1.407557  2.035115  0.099132  2.615556   \n",
              "3             -0.207755  0.156943  1.138109 -0.939787 -0.419096  0.755202   \n",
              "4             -0.216624  0.250706  1.016011  0.015787 -0.130522  0.784402   \n",
              "\n",
              "Input_Feature        V7       V11        V4       V18        V1        V9  \\\n",
              "0             -0.897198  0.268544  0.069871 -1.297012  1.135011 -0.478801   \n",
              "1              0.081125 -1.871478 -0.379954  0.153925 -1.786262  0.042585   \n",
              "2              0.574245 -0.564418  2.362138 -0.053624 -0.683414 -0.811409   \n",
              "3             -0.794616  1.101727 -0.963160  0.403235  1.183540  1.656943   \n",
              "4             -0.161727  1.084154  1.254973 -0.058071  1.137583  0.280587   \n",
              "\n",
              "Input_Feature        V5  \n",
              "0             -0.488154  \n",
              "1             -1.240680  \n",
              "2             -0.012716  \n",
              "3             -0.850295  \n",
              "4             -0.600870  "
            ],
            "text/html": [
              "\n",
              "  <div id=\"df-a0d5a947-ab8b-429d-9f4f-4ea7271a0209\">\n",
              "    <div class=\"colab-df-container\">\n",
              "      <div>\n",
              "<style scoped>\n",
              "    .dataframe tbody tr th:only-of-type {\n",
              "        vertical-align: middle;\n",
              "    }\n",
              "\n",
              "    .dataframe tbody tr th {\n",
              "        vertical-align: top;\n",
              "    }\n",
              "\n",
              "    .dataframe thead th {\n",
              "        text-align: right;\n",
              "    }\n",
              "</style>\n",
              "<table border=\"1\" class=\"dataframe\">\n",
              "  <thead>\n",
              "    <tr style=\"text-align: right;\">\n",
              "      <th>Input_Feature</th>\n",
              "      <th>V17</th>\n",
              "      <th>V14</th>\n",
              "      <th>V12</th>\n",
              "      <th>V10</th>\n",
              "      <th>V16</th>\n",
              "      <th>V3</th>\n",
              "      <th>V7</th>\n",
              "      <th>V11</th>\n",
              "      <th>V4</th>\n",
              "      <th>V18</th>\n",
              "      <th>V1</th>\n",
              "      <th>V9</th>\n",
              "      <th>V5</th>\n",
              "    </tr>\n",
              "  </thead>\n",
              "  <tbody>\n",
              "    <tr>\n",
              "      <th>0</th>\n",
              "      <td>1.648897</td>\n",
              "      <td>-0.252977</td>\n",
              "      <td>0.752264</td>\n",
              "      <td>0.396879</td>\n",
              "      <td>-3.211514</td>\n",
              "      <td>0.703924</td>\n",
              "      <td>-0.897198</td>\n",
              "      <td>0.268544</td>\n",
              "      <td>0.069871</td>\n",
              "      <td>-1.297012</td>\n",
              "      <td>1.135011</td>\n",
              "      <td>-0.478801</td>\n",
              "      <td>-0.488154</td>\n",
              "    </tr>\n",
              "    <tr>\n",
              "      <th>1</th>\n",
              "      <td>-0.405073</td>\n",
              "      <td>-0.149358</td>\n",
              "      <td>0.375166</td>\n",
              "      <td>-1.275754</td>\n",
              "      <td>0.802805</td>\n",
              "      <td>1.347969</td>\n",
              "      <td>0.081125</td>\n",
              "      <td>-1.871478</td>\n",
              "      <td>-0.379954</td>\n",
              "      <td>0.153925</td>\n",
              "      <td>-1.786262</td>\n",
              "      <td>0.042585</td>\n",
              "      <td>-1.240680</td>\n",
              "    </tr>\n",
              "    <tr>\n",
              "      <th>2</th>\n",
              "      <td>-0.035668</td>\n",
              "      <td>-0.859411</td>\n",
              "      <td>-1.407557</td>\n",
              "      <td>2.035115</td>\n",
              "      <td>0.099132</td>\n",
              "      <td>2.615556</td>\n",
              "      <td>0.574245</td>\n",
              "      <td>-0.564418</td>\n",
              "      <td>2.362138</td>\n",
              "      <td>-0.053624</td>\n",
              "      <td>-0.683414</td>\n",
              "      <td>-0.811409</td>\n",
              "      <td>-0.012716</td>\n",
              "    </tr>\n",
              "    <tr>\n",
              "      <th>3</th>\n",
              "      <td>-0.207755</td>\n",
              "      <td>0.156943</td>\n",
              "      <td>1.138109</td>\n",
              "      <td>-0.939787</td>\n",
              "      <td>-0.419096</td>\n",
              "      <td>0.755202</td>\n",
              "      <td>-0.794616</td>\n",
              "      <td>1.101727</td>\n",
              "      <td>-0.963160</td>\n",
              "      <td>0.403235</td>\n",
              "      <td>1.183540</td>\n",
              "      <td>1.656943</td>\n",
              "      <td>-0.850295</td>\n",
              "    </tr>\n",
              "    <tr>\n",
              "      <th>4</th>\n",
              "      <td>-0.216624</td>\n",
              "      <td>0.250706</td>\n",
              "      <td>1.016011</td>\n",
              "      <td>0.015787</td>\n",
              "      <td>-0.130522</td>\n",
              "      <td>0.784402</td>\n",
              "      <td>-0.161727</td>\n",
              "      <td>1.084154</td>\n",
              "      <td>1.254973</td>\n",
              "      <td>-0.058071</td>\n",
              "      <td>1.137583</td>\n",
              "      <td>0.280587</td>\n",
              "      <td>-0.600870</td>\n",
              "    </tr>\n",
              "  </tbody>\n",
              "</table>\n",
              "</div>\n",
              "      <button class=\"colab-df-convert\" onclick=\"convertToInteractive('df-a0d5a947-ab8b-429d-9f4f-4ea7271a0209')\"\n",
              "              title=\"Convert this dataframe to an interactive table.\"\n",
              "              style=\"display:none;\">\n",
              "        \n",
              "  <svg xmlns=\"http://www.w3.org/2000/svg\" height=\"24px\"viewBox=\"0 0 24 24\"\n",
              "       width=\"24px\">\n",
              "    <path d=\"M0 0h24v24H0V0z\" fill=\"none\"/>\n",
              "    <path d=\"M18.56 5.44l.94 2.06.94-2.06 2.06-.94-2.06-.94-.94-2.06-.94 2.06-2.06.94zm-11 1L8.5 8.5l.94-2.06 2.06-.94-2.06-.94L8.5 2.5l-.94 2.06-2.06.94zm10 10l.94 2.06.94-2.06 2.06-.94-2.06-.94-.94-2.06-.94 2.06-2.06.94z\"/><path d=\"M17.41 7.96l-1.37-1.37c-.4-.4-.92-.59-1.43-.59-.52 0-1.04.2-1.43.59L10.3 9.45l-7.72 7.72c-.78.78-.78 2.05 0 2.83L4 21.41c.39.39.9.59 1.41.59.51 0 1.02-.2 1.41-.59l7.78-7.78 2.81-2.81c.8-.78.8-2.07 0-2.86zM5.41 20L4 18.59l7.72-7.72 1.47 1.35L5.41 20z\"/>\n",
              "  </svg>\n",
              "      </button>\n",
              "      \n",
              "  <style>\n",
              "    .colab-df-container {\n",
              "      display:flex;\n",
              "      flex-wrap:wrap;\n",
              "      gap: 12px;\n",
              "    }\n",
              "\n",
              "    .colab-df-convert {\n",
              "      background-color: #E8F0FE;\n",
              "      border: none;\n",
              "      border-radius: 50%;\n",
              "      cursor: pointer;\n",
              "      display: none;\n",
              "      fill: #1967D2;\n",
              "      height: 32px;\n",
              "      padding: 0 0 0 0;\n",
              "      width: 32px;\n",
              "    }\n",
              "\n",
              "    .colab-df-convert:hover {\n",
              "      background-color: #E2EBFA;\n",
              "      box-shadow: 0px 1px 2px rgba(60, 64, 67, 0.3), 0px 1px 3px 1px rgba(60, 64, 67, 0.15);\n",
              "      fill: #174EA6;\n",
              "    }\n",
              "\n",
              "    [theme=dark] .colab-df-convert {\n",
              "      background-color: #3B4455;\n",
              "      fill: #D2E3FC;\n",
              "    }\n",
              "\n",
              "    [theme=dark] .colab-df-convert:hover {\n",
              "      background-color: #434B5C;\n",
              "      box-shadow: 0px 1px 3px 1px rgba(0, 0, 0, 0.15);\n",
              "      filter: drop-shadow(0px 1px 2px rgba(0, 0, 0, 0.3));\n",
              "      fill: #FFFFFF;\n",
              "    }\n",
              "  </style>\n",
              "\n",
              "      <script>\n",
              "        const buttonEl =\n",
              "          document.querySelector('#df-a0d5a947-ab8b-429d-9f4f-4ea7271a0209 button.colab-df-convert');\n",
              "        buttonEl.style.display =\n",
              "          google.colab.kernel.accessAllowed ? 'block' : 'none';\n",
              "\n",
              "        async function convertToInteractive(key) {\n",
              "          const element = document.querySelector('#df-a0d5a947-ab8b-429d-9f4f-4ea7271a0209');\n",
              "          const dataTable =\n",
              "            await google.colab.kernel.invokeFunction('convertToInteractive',\n",
              "                                                     [key], {});\n",
              "          if (!dataTable) return;\n",
              "\n",
              "          const docLinkHtml = 'Like what you see? Visit the ' +\n",
              "            '<a target=\"_blank\" href=https://colab.research.google.com/notebooks/data_table.ipynb>data table notebook</a>'\n",
              "            + ' to learn more about interactive tables.';\n",
              "          element.innerHTML = '';\n",
              "          dataTable['output_type'] = 'display_data';\n",
              "          await google.colab.output.renderOutput(dataTable, element);\n",
              "          const docLink = document.createElement('div');\n",
              "          docLink.innerHTML = docLinkHtml;\n",
              "          element.appendChild(docLink);\n",
              "        }\n",
              "      </script>\n",
              "    </div>\n",
              "  </div>\n",
              "  "
            ]
          },
          "metadata": {},
          "execution_count": 13
        }
      ],
      "source": [
        "x_train_RandomOverSample_extract_dataframe = pd.DataFrame(x_train_extract, columns=features_name[:-1])\n",
        "x_train_RandomOverSample_extract_dataframe.head()"
      ]
    },
    {
      "cell_type": "markdown",
      "metadata": {
        "id": "oqmUsMW1ZljM"
      },
      "source": []
    },
    {
      "cell_type": "markdown",
      "metadata": {
        "id": "qkTEdohO3CIq"
      },
      "source": [
        "### standraize the train datasets"
      ]
    },
    {
      "cell_type": "code",
      "execution_count": null,
      "metadata": {
        "colab": {
          "base_uri": "https://localhost:8080/"
        },
        "id": "0FcrL1qH4z-W",
        "outputId": "3a64f406-c3cf-4bf0-fe61-3d69163a531e"
      },
      "outputs": [
        {
          "output_type": "execute_result",
          "data": {
            "text/plain": [
              "              0         1         2         3         4         5         6   \\\n",
              "0        69627.0  1.135011 -0.663898  0.703924  0.069871 -0.488154  1.312078   \n",
              "1        83359.0 -1.786262  1.118886  1.347969 -0.379954 -1.240680  0.467667   \n",
              "2       111723.0 -0.683414  0.679341  2.615556  2.362138 -0.012716  0.603826   \n",
              "3        79444.0  1.183540 -0.493000  0.755202 -0.963160 -0.850295  0.145905   \n",
              "4        62345.0  1.137583  0.105478  0.784402  1.254973 -0.600870 -0.360836   \n",
              "...          ...       ...       ...       ...       ...       ...       ...   \n",
              "199359   50138.0  1.244059  0.190316  0.753666  0.925945 -0.328446 -0.051391   \n",
              "199360  154502.0 -0.312808  1.571520  0.625071  2.851596  1.440896  0.370273   \n",
              "199361  127940.0  2.313488 -1.066660 -2.698797 -1.810692  0.181929 -0.825158   \n",
              "199362  143903.0  1.980328  0.104427 -0.923277  1.353652  0.047918 -0.223057   \n",
              "199363  136098.0  1.888991 -0.199603 -0.401767  1.366907 -0.105339  0.441041   \n",
              "\n",
              "              7         8         9   ...        20        21        22  \\\n",
              "0      -0.897198  0.463148 -0.478801  ... -0.677938 -0.331487 -0.069644   \n",
              "1       0.081125  0.964933  0.042585  ... -0.099266 -0.047902 -0.182530   \n",
              "2       0.574245 -0.679978 -0.811409  ...  0.372610 -0.007167  0.463597   \n",
              "3      -0.794616  0.302199  1.656943  ... -0.168134  0.039588  0.339340   \n",
              "4      -0.161727  0.076092  0.280587  ... -0.178887 -0.195692 -0.443664   \n",
              "...          ...       ...       ...  ...       ...       ...       ...   \n",
              "199359 -0.331905 -0.020355  0.330893  ... -0.020050 -0.023295  0.013478   \n",
              "199360  1.559423 -0.122626 -2.127059  ... -0.013666 -0.072840 -0.276301   \n",
              "199361  0.014053 -0.497443 -2.466535  ... -0.303714  0.175502  0.943729   \n",
              "199362 -0.382536  0.034461  0.965143  ... -0.217607 -0.283405 -0.677841   \n",
              "199363 -0.401390  0.227025  0.894311  ... -0.254580 -0.469722 -1.120237   \n",
              "\n",
              "              23        24        25        26        27        28      29  \n",
              "0       0.183987 -0.618678  0.089015  0.521419  0.086390  0.004782    1.00  \n",
              "1      -0.162509 -0.405178  0.512595  0.299398 -0.042882 -0.059130  141.73  \n",
              "2      -0.243134  0.084557 -0.453177  2.687676 -1.084269 -0.511626   36.19  \n",
              "3      -0.053125 -0.298049  0.423994 -0.652284  0.102582  0.017292    1.00  \n",
              "4       0.046270  0.516246  0.447943 -0.554949  0.031821  0.018177    7.60  \n",
              "...          ...       ...       ...       ...       ...       ...     ...  \n",
              "199359 -0.092289 -0.448681  0.478955 -0.400379  0.061369  0.032971    8.60  \n",
              "199360 -0.144144 -0.813403 -0.094574 -0.086966  0.101273  0.154888   49.66  \n",
              "199361 -0.209989  0.371705  0.688140  0.270351 -0.078804 -0.087019   54.00  \n",
              "199362  0.263567 -0.961968 -0.298113 -0.888231  0.073120 -0.005631    7.90  \n",
              "199363  0.470175  0.620089 -0.347252 -1.155696  0.049377 -0.033304    8.65  \n",
              "\n",
              "[199364 rows x 30 columns]"
            ],
            "text/html": [
              "\n",
              "  <div id=\"df-66b722ab-832d-4ba4-a6fd-2962bc5d9625\">\n",
              "    <div class=\"colab-df-container\">\n",
              "      <div>\n",
              "<style scoped>\n",
              "    .dataframe tbody tr th:only-of-type {\n",
              "        vertical-align: middle;\n",
              "    }\n",
              "\n",
              "    .dataframe tbody tr th {\n",
              "        vertical-align: top;\n",
              "    }\n",
              "\n",
              "    .dataframe thead th {\n",
              "        text-align: right;\n",
              "    }\n",
              "</style>\n",
              "<table border=\"1\" class=\"dataframe\">\n",
              "  <thead>\n",
              "    <tr style=\"text-align: right;\">\n",
              "      <th></th>\n",
              "      <th>0</th>\n",
              "      <th>1</th>\n",
              "      <th>2</th>\n",
              "      <th>3</th>\n",
              "      <th>4</th>\n",
              "      <th>5</th>\n",
              "      <th>6</th>\n",
              "      <th>7</th>\n",
              "      <th>8</th>\n",
              "      <th>9</th>\n",
              "      <th>...</th>\n",
              "      <th>20</th>\n",
              "      <th>21</th>\n",
              "      <th>22</th>\n",
              "      <th>23</th>\n",
              "      <th>24</th>\n",
              "      <th>25</th>\n",
              "      <th>26</th>\n",
              "      <th>27</th>\n",
              "      <th>28</th>\n",
              "      <th>29</th>\n",
              "    </tr>\n",
              "  </thead>\n",
              "  <tbody>\n",
              "    <tr>\n",
              "      <th>0</th>\n",
              "      <td>69627.0</td>\n",
              "      <td>1.135011</td>\n",
              "      <td>-0.663898</td>\n",
              "      <td>0.703924</td>\n",
              "      <td>0.069871</td>\n",
              "      <td>-0.488154</td>\n",
              "      <td>1.312078</td>\n",
              "      <td>-0.897198</td>\n",
              "      <td>0.463148</td>\n",
              "      <td>-0.478801</td>\n",
              "      <td>...</td>\n",
              "      <td>-0.677938</td>\n",
              "      <td>-0.331487</td>\n",
              "      <td>-0.069644</td>\n",
              "      <td>0.183987</td>\n",
              "      <td>-0.618678</td>\n",
              "      <td>0.089015</td>\n",
              "      <td>0.521419</td>\n",
              "      <td>0.086390</td>\n",
              "      <td>0.004782</td>\n",
              "      <td>1.00</td>\n",
              "    </tr>\n",
              "    <tr>\n",
              "      <th>1</th>\n",
              "      <td>83359.0</td>\n",
              "      <td>-1.786262</td>\n",
              "      <td>1.118886</td>\n",
              "      <td>1.347969</td>\n",
              "      <td>-0.379954</td>\n",
              "      <td>-1.240680</td>\n",
              "      <td>0.467667</td>\n",
              "      <td>0.081125</td>\n",
              "      <td>0.964933</td>\n",
              "      <td>0.042585</td>\n",
              "      <td>...</td>\n",
              "      <td>-0.099266</td>\n",
              "      <td>-0.047902</td>\n",
              "      <td>-0.182530</td>\n",
              "      <td>-0.162509</td>\n",
              "      <td>-0.405178</td>\n",
              "      <td>0.512595</td>\n",
              "      <td>0.299398</td>\n",
              "      <td>-0.042882</td>\n",
              "      <td>-0.059130</td>\n",
              "      <td>141.73</td>\n",
              "    </tr>\n",
              "    <tr>\n",
              "      <th>2</th>\n",
              "      <td>111723.0</td>\n",
              "      <td>-0.683414</td>\n",
              "      <td>0.679341</td>\n",
              "      <td>2.615556</td>\n",
              "      <td>2.362138</td>\n",
              "      <td>-0.012716</td>\n",
              "      <td>0.603826</td>\n",
              "      <td>0.574245</td>\n",
              "      <td>-0.679978</td>\n",
              "      <td>-0.811409</td>\n",
              "      <td>...</td>\n",
              "      <td>0.372610</td>\n",
              "      <td>-0.007167</td>\n",
              "      <td>0.463597</td>\n",
              "      <td>-0.243134</td>\n",
              "      <td>0.084557</td>\n",
              "      <td>-0.453177</td>\n",
              "      <td>2.687676</td>\n",
              "      <td>-1.084269</td>\n",
              "      <td>-0.511626</td>\n",
              "      <td>36.19</td>\n",
              "    </tr>\n",
              "    <tr>\n",
              "      <th>3</th>\n",
              "      <td>79444.0</td>\n",
              "      <td>1.183540</td>\n",
              "      <td>-0.493000</td>\n",
              "      <td>0.755202</td>\n",
              "      <td>-0.963160</td>\n",
              "      <td>-0.850295</td>\n",
              "      <td>0.145905</td>\n",
              "      <td>-0.794616</td>\n",
              "      <td>0.302199</td>\n",
              "      <td>1.656943</td>\n",
              "      <td>...</td>\n",
              "      <td>-0.168134</td>\n",
              "      <td>0.039588</td>\n",
              "      <td>0.339340</td>\n",
              "      <td>-0.053125</td>\n",
              "      <td>-0.298049</td>\n",
              "      <td>0.423994</td>\n",
              "      <td>-0.652284</td>\n",
              "      <td>0.102582</td>\n",
              "      <td>0.017292</td>\n",
              "      <td>1.00</td>\n",
              "    </tr>\n",
              "    <tr>\n",
              "      <th>4</th>\n",
              "      <td>62345.0</td>\n",
              "      <td>1.137583</td>\n",
              "      <td>0.105478</td>\n",
              "      <td>0.784402</td>\n",
              "      <td>1.254973</td>\n",
              "      <td>-0.600870</td>\n",
              "      <td>-0.360836</td>\n",
              "      <td>-0.161727</td>\n",
              "      <td>0.076092</td>\n",
              "      <td>0.280587</td>\n",
              "      <td>...</td>\n",
              "      <td>-0.178887</td>\n",
              "      <td>-0.195692</td>\n",
              "      <td>-0.443664</td>\n",
              "      <td>0.046270</td>\n",
              "      <td>0.516246</td>\n",
              "      <td>0.447943</td>\n",
              "      <td>-0.554949</td>\n",
              "      <td>0.031821</td>\n",
              "      <td>0.018177</td>\n",
              "      <td>7.60</td>\n",
              "    </tr>\n",
              "    <tr>\n",
              "      <th>...</th>\n",
              "      <td>...</td>\n",
              "      <td>...</td>\n",
              "      <td>...</td>\n",
              "      <td>...</td>\n",
              "      <td>...</td>\n",
              "      <td>...</td>\n",
              "      <td>...</td>\n",
              "      <td>...</td>\n",
              "      <td>...</td>\n",
              "      <td>...</td>\n",
              "      <td>...</td>\n",
              "      <td>...</td>\n",
              "      <td>...</td>\n",
              "      <td>...</td>\n",
              "      <td>...</td>\n",
              "      <td>...</td>\n",
              "      <td>...</td>\n",
              "      <td>...</td>\n",
              "      <td>...</td>\n",
              "      <td>...</td>\n",
              "      <td>...</td>\n",
              "    </tr>\n",
              "    <tr>\n",
              "      <th>199359</th>\n",
              "      <td>50138.0</td>\n",
              "      <td>1.244059</td>\n",
              "      <td>0.190316</td>\n",
              "      <td>0.753666</td>\n",
              "      <td>0.925945</td>\n",
              "      <td>-0.328446</td>\n",
              "      <td>-0.051391</td>\n",
              "      <td>-0.331905</td>\n",
              "      <td>-0.020355</td>\n",
              "      <td>0.330893</td>\n",
              "      <td>...</td>\n",
              "      <td>-0.020050</td>\n",
              "      <td>-0.023295</td>\n",
              "      <td>0.013478</td>\n",
              "      <td>-0.092289</td>\n",
              "      <td>-0.448681</td>\n",
              "      <td>0.478955</td>\n",
              "      <td>-0.400379</td>\n",
              "      <td>0.061369</td>\n",
              "      <td>0.032971</td>\n",
              "      <td>8.60</td>\n",
              "    </tr>\n",
              "    <tr>\n",
              "      <th>199360</th>\n",
              "      <td>154502.0</td>\n",
              "      <td>-0.312808</td>\n",
              "      <td>1.571520</td>\n",
              "      <td>0.625071</td>\n",
              "      <td>2.851596</td>\n",
              "      <td>1.440896</td>\n",
              "      <td>0.370273</td>\n",
              "      <td>1.559423</td>\n",
              "      <td>-0.122626</td>\n",
              "      <td>-2.127059</td>\n",
              "      <td>...</td>\n",
              "      <td>-0.013666</td>\n",
              "      <td>-0.072840</td>\n",
              "      <td>-0.276301</td>\n",
              "      <td>-0.144144</td>\n",
              "      <td>-0.813403</td>\n",
              "      <td>-0.094574</td>\n",
              "      <td>-0.086966</td>\n",
              "      <td>0.101273</td>\n",
              "      <td>0.154888</td>\n",
              "      <td>49.66</td>\n",
              "    </tr>\n",
              "    <tr>\n",
              "      <th>199361</th>\n",
              "      <td>127940.0</td>\n",
              "      <td>2.313488</td>\n",
              "      <td>-1.066660</td>\n",
              "      <td>-2.698797</td>\n",
              "      <td>-1.810692</td>\n",
              "      <td>0.181929</td>\n",
              "      <td>-0.825158</td>\n",
              "      <td>0.014053</td>\n",
              "      <td>-0.497443</td>\n",
              "      <td>-2.466535</td>\n",
              "      <td>...</td>\n",
              "      <td>-0.303714</td>\n",
              "      <td>0.175502</td>\n",
              "      <td>0.943729</td>\n",
              "      <td>-0.209989</td>\n",
              "      <td>0.371705</td>\n",
              "      <td>0.688140</td>\n",
              "      <td>0.270351</td>\n",
              "      <td>-0.078804</td>\n",
              "      <td>-0.087019</td>\n",
              "      <td>54.00</td>\n",
              "    </tr>\n",
              "    <tr>\n",
              "      <th>199362</th>\n",
              "      <td>143903.0</td>\n",
              "      <td>1.980328</td>\n",
              "      <td>0.104427</td>\n",
              "      <td>-0.923277</td>\n",
              "      <td>1.353652</td>\n",
              "      <td>0.047918</td>\n",
              "      <td>-0.223057</td>\n",
              "      <td>-0.382536</td>\n",
              "      <td>0.034461</td>\n",
              "      <td>0.965143</td>\n",
              "      <td>...</td>\n",
              "      <td>-0.217607</td>\n",
              "      <td>-0.283405</td>\n",
              "      <td>-0.677841</td>\n",
              "      <td>0.263567</td>\n",
              "      <td>-0.961968</td>\n",
              "      <td>-0.298113</td>\n",
              "      <td>-0.888231</td>\n",
              "      <td>0.073120</td>\n",
              "      <td>-0.005631</td>\n",
              "      <td>7.90</td>\n",
              "    </tr>\n",
              "    <tr>\n",
              "      <th>199363</th>\n",
              "      <td>136098.0</td>\n",
              "      <td>1.888991</td>\n",
              "      <td>-0.199603</td>\n",
              "      <td>-0.401767</td>\n",
              "      <td>1.366907</td>\n",
              "      <td>-0.105339</td>\n",
              "      <td>0.441041</td>\n",
              "      <td>-0.401390</td>\n",
              "      <td>0.227025</td>\n",
              "      <td>0.894311</td>\n",
              "      <td>...</td>\n",
              "      <td>-0.254580</td>\n",
              "      <td>-0.469722</td>\n",
              "      <td>-1.120237</td>\n",
              "      <td>0.470175</td>\n",
              "      <td>0.620089</td>\n",
              "      <td>-0.347252</td>\n",
              "      <td>-1.155696</td>\n",
              "      <td>0.049377</td>\n",
              "      <td>-0.033304</td>\n",
              "      <td>8.65</td>\n",
              "    </tr>\n",
              "  </tbody>\n",
              "</table>\n",
              "<p>199364 rows × 30 columns</p>\n",
              "</div>\n",
              "      <button class=\"colab-df-convert\" onclick=\"convertToInteractive('df-66b722ab-832d-4ba4-a6fd-2962bc5d9625')\"\n",
              "              title=\"Convert this dataframe to an interactive table.\"\n",
              "              style=\"display:none;\">\n",
              "        \n",
              "  <svg xmlns=\"http://www.w3.org/2000/svg\" height=\"24px\"viewBox=\"0 0 24 24\"\n",
              "       width=\"24px\">\n",
              "    <path d=\"M0 0h24v24H0V0z\" fill=\"none\"/>\n",
              "    <path d=\"M18.56 5.44l.94 2.06.94-2.06 2.06-.94-2.06-.94-.94-2.06-.94 2.06-2.06.94zm-11 1L8.5 8.5l.94-2.06 2.06-.94-2.06-.94L8.5 2.5l-.94 2.06-2.06.94zm10 10l.94 2.06.94-2.06 2.06-.94-2.06-.94-.94-2.06-.94 2.06-2.06.94z\"/><path d=\"M17.41 7.96l-1.37-1.37c-.4-.4-.92-.59-1.43-.59-.52 0-1.04.2-1.43.59L10.3 9.45l-7.72 7.72c-.78.78-.78 2.05 0 2.83L4 21.41c.39.39.9.59 1.41.59.51 0 1.02-.2 1.41-.59l7.78-7.78 2.81-2.81c.8-.78.8-2.07 0-2.86zM5.41 20L4 18.59l7.72-7.72 1.47 1.35L5.41 20z\"/>\n",
              "  </svg>\n",
              "      </button>\n",
              "      \n",
              "  <style>\n",
              "    .colab-df-container {\n",
              "      display:flex;\n",
              "      flex-wrap:wrap;\n",
              "      gap: 12px;\n",
              "    }\n",
              "\n",
              "    .colab-df-convert {\n",
              "      background-color: #E8F0FE;\n",
              "      border: none;\n",
              "      border-radius: 50%;\n",
              "      cursor: pointer;\n",
              "      display: none;\n",
              "      fill: #1967D2;\n",
              "      height: 32px;\n",
              "      padding: 0 0 0 0;\n",
              "      width: 32px;\n",
              "    }\n",
              "\n",
              "    .colab-df-convert:hover {\n",
              "      background-color: #E2EBFA;\n",
              "      box-shadow: 0px 1px 2px rgba(60, 64, 67, 0.3), 0px 1px 3px 1px rgba(60, 64, 67, 0.15);\n",
              "      fill: #174EA6;\n",
              "    }\n",
              "\n",
              "    [theme=dark] .colab-df-convert {\n",
              "      background-color: #3B4455;\n",
              "      fill: #D2E3FC;\n",
              "    }\n",
              "\n",
              "    [theme=dark] .colab-df-convert:hover {\n",
              "      background-color: #434B5C;\n",
              "      box-shadow: 0px 1px 3px 1px rgba(0, 0, 0, 0.15);\n",
              "      filter: drop-shadow(0px 1px 2px rgba(0, 0, 0, 0.3));\n",
              "      fill: #FFFFFF;\n",
              "    }\n",
              "  </style>\n",
              "\n",
              "      <script>\n",
              "        const buttonEl =\n",
              "          document.querySelector('#df-66b722ab-832d-4ba4-a6fd-2962bc5d9625 button.colab-df-convert');\n",
              "        buttonEl.style.display =\n",
              "          google.colab.kernel.accessAllowed ? 'block' : 'none';\n",
              "\n",
              "        async function convertToInteractive(key) {\n",
              "          const element = document.querySelector('#df-66b722ab-832d-4ba4-a6fd-2962bc5d9625');\n",
              "          const dataTable =\n",
              "            await google.colab.kernel.invokeFunction('convertToInteractive',\n",
              "                                                     [key], {});\n",
              "          if (!dataTable) return;\n",
              "\n",
              "          const docLinkHtml = 'Like what you see? Visit the ' +\n",
              "            '<a target=\"_blank\" href=https://colab.research.google.com/notebooks/data_table.ipynb>data table notebook</a>'\n",
              "            + ' to learn more about interactive tables.';\n",
              "          element.innerHTML = '';\n",
              "          dataTable['output_type'] = 'display_data';\n",
              "          await google.colab.output.renderOutput(dataTable, element);\n",
              "          const docLink = document.createElement('div');\n",
              "          docLink.innerHTML = docLinkHtml;\n",
              "          element.appendChild(docLink);\n",
              "        }\n",
              "      </script>\n",
              "    </div>\n",
              "  </div>\n",
              "  "
            ]
          },
          "metadata": {},
          "execution_count": 16
        }
      ],
      "source": [
        "# before standraziation\n",
        "pd.DataFrame(x_train)"
      ]
    },
    {
      "cell_type": "code",
      "execution_count": null,
      "metadata": {
        "id": "U1sSQF2F1XA0"
      },
      "outputs": [],
      "source": [
        "from sklearn.preprocessing import StandardScaler"
      ]
    },
    {
      "cell_type": "code",
      "execution_count": null,
      "metadata": {
        "id": "4zGEDQkJ3_YS"
      },
      "outputs": [],
      "source": [
        "# standarize original dataset\n",
        "x_train_standar =StandardScaler().fit_transform(x_train)\n",
        "\n",
        "# standarize extracted features dataset\n",
        "\n",
        "x_train_extract_standar =StandardScaler().fit_transform(x_train_extract)"
      ]
    },
    {
      "cell_type": "code",
      "execution_count": null,
      "metadata": {
        "colab": {
          "base_uri": "https://localhost:8080/"
        },
        "id": "VdFWiZ344gzr",
        "outputId": "e3283822-61d8-4337-90df-dea32ad0dbe1"
      },
      "outputs": [
        {
          "output_type": "execute_result",
          "data": {
            "text/plain": [
              "            Time        V1        V2        V3        V4        V5        V6  \\\n",
              "0        69627.0  1.135011 -0.663898  0.703924  0.069871 -0.488154  1.312078   \n",
              "1        83359.0 -1.786262  1.118886  1.347969 -0.379954 -1.240680  0.467667   \n",
              "2       111723.0 -0.683414  0.679341  2.615556  2.362138 -0.012716  0.603826   \n",
              "3        79444.0  1.183540 -0.493000  0.755202 -0.963160 -0.850295  0.145905   \n",
              "4        62345.0  1.137583  0.105478  0.784402  1.254973 -0.600870 -0.360836   \n",
              "...          ...       ...       ...       ...       ...       ...       ...   \n",
              "199359   50138.0  1.244059  0.190316  0.753666  0.925945 -0.328446 -0.051391   \n",
              "199360  154502.0 -0.312808  1.571520  0.625071  2.851596  1.440896  0.370273   \n",
              "199361  127940.0  2.313488 -1.066660 -2.698797 -1.810692  0.181929 -0.825158   \n",
              "199362  143903.0  1.980328  0.104427 -0.923277  1.353652  0.047918 -0.223057   \n",
              "199363  136098.0  1.888991 -0.199603 -0.401767  1.366907 -0.105339  0.441041   \n",
              "\n",
              "              V7        V8        V9  ...       V20       V21       V22  \\\n",
              "0      -0.897198  0.463148 -0.478801  ... -0.677938 -0.331487 -0.069644   \n",
              "1       0.081125  0.964933  0.042585  ... -0.099266 -0.047902 -0.182530   \n",
              "2       0.574245 -0.679978 -0.811409  ...  0.372610 -0.007167  0.463597   \n",
              "3      -0.794616  0.302199  1.656943  ... -0.168134  0.039588  0.339340   \n",
              "4      -0.161727  0.076092  0.280587  ... -0.178887 -0.195692 -0.443664   \n",
              "...          ...       ...       ...  ...       ...       ...       ...   \n",
              "199359 -0.331905 -0.020355  0.330893  ... -0.020050 -0.023295  0.013478   \n",
              "199360  1.559423 -0.122626 -2.127059  ... -0.013666 -0.072840 -0.276301   \n",
              "199361  0.014053 -0.497443 -2.466535  ... -0.303714  0.175502  0.943729   \n",
              "199362 -0.382536  0.034461  0.965143  ... -0.217607 -0.283405 -0.677841   \n",
              "199363 -0.401390  0.227025  0.894311  ... -0.254580 -0.469722 -1.120237   \n",
              "\n",
              "             V23       V24       V25       V26       V27       V28  Amount  \n",
              "0       0.183987 -0.618678  0.089015  0.521419  0.086390  0.004782    1.00  \n",
              "1      -0.162509 -0.405178  0.512595  0.299398 -0.042882 -0.059130  141.73  \n",
              "2      -0.243134  0.084557 -0.453177  2.687676 -1.084269 -0.511626   36.19  \n",
              "3      -0.053125 -0.298049  0.423994 -0.652284  0.102582  0.017292    1.00  \n",
              "4       0.046270  0.516246  0.447943 -0.554949  0.031821  0.018177    7.60  \n",
              "...          ...       ...       ...       ...       ...       ...     ...  \n",
              "199359 -0.092289 -0.448681  0.478955 -0.400379  0.061369  0.032971    8.60  \n",
              "199360 -0.144144 -0.813403 -0.094574 -0.086966  0.101273  0.154888   49.66  \n",
              "199361 -0.209989  0.371705  0.688140  0.270351 -0.078804 -0.087019   54.00  \n",
              "199362  0.263567 -0.961968 -0.298113 -0.888231  0.073120 -0.005631    7.90  \n",
              "199363  0.470175  0.620089 -0.347252 -1.155696  0.049377 -0.033304    8.65  \n",
              "\n",
              "[199364 rows x 30 columns]"
            ],
            "text/html": [
              "\n",
              "  <div id=\"df-2934c353-a6be-4a64-b353-b8d08e1b80a8\">\n",
              "    <div class=\"colab-df-container\">\n",
              "      <div>\n",
              "<style scoped>\n",
              "    .dataframe tbody tr th:only-of-type {\n",
              "        vertical-align: middle;\n",
              "    }\n",
              "\n",
              "    .dataframe tbody tr th {\n",
              "        vertical-align: top;\n",
              "    }\n",
              "\n",
              "    .dataframe thead th {\n",
              "        text-align: right;\n",
              "    }\n",
              "</style>\n",
              "<table border=\"1\" class=\"dataframe\">\n",
              "  <thead>\n",
              "    <tr style=\"text-align: right;\">\n",
              "      <th></th>\n",
              "      <th>Time</th>\n",
              "      <th>V1</th>\n",
              "      <th>V2</th>\n",
              "      <th>V3</th>\n",
              "      <th>V4</th>\n",
              "      <th>V5</th>\n",
              "      <th>V6</th>\n",
              "      <th>V7</th>\n",
              "      <th>V8</th>\n",
              "      <th>V9</th>\n",
              "      <th>...</th>\n",
              "      <th>V20</th>\n",
              "      <th>V21</th>\n",
              "      <th>V22</th>\n",
              "      <th>V23</th>\n",
              "      <th>V24</th>\n",
              "      <th>V25</th>\n",
              "      <th>V26</th>\n",
              "      <th>V27</th>\n",
              "      <th>V28</th>\n",
              "      <th>Amount</th>\n",
              "    </tr>\n",
              "  </thead>\n",
              "  <tbody>\n",
              "    <tr>\n",
              "      <th>0</th>\n",
              "      <td>69627.0</td>\n",
              "      <td>1.135011</td>\n",
              "      <td>-0.663898</td>\n",
              "      <td>0.703924</td>\n",
              "      <td>0.069871</td>\n",
              "      <td>-0.488154</td>\n",
              "      <td>1.312078</td>\n",
              "      <td>-0.897198</td>\n",
              "      <td>0.463148</td>\n",
              "      <td>-0.478801</td>\n",
              "      <td>...</td>\n",
              "      <td>-0.677938</td>\n",
              "      <td>-0.331487</td>\n",
              "      <td>-0.069644</td>\n",
              "      <td>0.183987</td>\n",
              "      <td>-0.618678</td>\n",
              "      <td>0.089015</td>\n",
              "      <td>0.521419</td>\n",
              "      <td>0.086390</td>\n",
              "      <td>0.004782</td>\n",
              "      <td>1.00</td>\n",
              "    </tr>\n",
              "    <tr>\n",
              "      <th>1</th>\n",
              "      <td>83359.0</td>\n",
              "      <td>-1.786262</td>\n",
              "      <td>1.118886</td>\n",
              "      <td>1.347969</td>\n",
              "      <td>-0.379954</td>\n",
              "      <td>-1.240680</td>\n",
              "      <td>0.467667</td>\n",
              "      <td>0.081125</td>\n",
              "      <td>0.964933</td>\n",
              "      <td>0.042585</td>\n",
              "      <td>...</td>\n",
              "      <td>-0.099266</td>\n",
              "      <td>-0.047902</td>\n",
              "      <td>-0.182530</td>\n",
              "      <td>-0.162509</td>\n",
              "      <td>-0.405178</td>\n",
              "      <td>0.512595</td>\n",
              "      <td>0.299398</td>\n",
              "      <td>-0.042882</td>\n",
              "      <td>-0.059130</td>\n",
              "      <td>141.73</td>\n",
              "    </tr>\n",
              "    <tr>\n",
              "      <th>2</th>\n",
              "      <td>111723.0</td>\n",
              "      <td>-0.683414</td>\n",
              "      <td>0.679341</td>\n",
              "      <td>2.615556</td>\n",
              "      <td>2.362138</td>\n",
              "      <td>-0.012716</td>\n",
              "      <td>0.603826</td>\n",
              "      <td>0.574245</td>\n",
              "      <td>-0.679978</td>\n",
              "      <td>-0.811409</td>\n",
              "      <td>...</td>\n",
              "      <td>0.372610</td>\n",
              "      <td>-0.007167</td>\n",
              "      <td>0.463597</td>\n",
              "      <td>-0.243134</td>\n",
              "      <td>0.084557</td>\n",
              "      <td>-0.453177</td>\n",
              "      <td>2.687676</td>\n",
              "      <td>-1.084269</td>\n",
              "      <td>-0.511626</td>\n",
              "      <td>36.19</td>\n",
              "    </tr>\n",
              "    <tr>\n",
              "      <th>3</th>\n",
              "      <td>79444.0</td>\n",
              "      <td>1.183540</td>\n",
              "      <td>-0.493000</td>\n",
              "      <td>0.755202</td>\n",
              "      <td>-0.963160</td>\n",
              "      <td>-0.850295</td>\n",
              "      <td>0.145905</td>\n",
              "      <td>-0.794616</td>\n",
              "      <td>0.302199</td>\n",
              "      <td>1.656943</td>\n",
              "      <td>...</td>\n",
              "      <td>-0.168134</td>\n",
              "      <td>0.039588</td>\n",
              "      <td>0.339340</td>\n",
              "      <td>-0.053125</td>\n",
              "      <td>-0.298049</td>\n",
              "      <td>0.423994</td>\n",
              "      <td>-0.652284</td>\n",
              "      <td>0.102582</td>\n",
              "      <td>0.017292</td>\n",
              "      <td>1.00</td>\n",
              "    </tr>\n",
              "    <tr>\n",
              "      <th>4</th>\n",
              "      <td>62345.0</td>\n",
              "      <td>1.137583</td>\n",
              "      <td>0.105478</td>\n",
              "      <td>0.784402</td>\n",
              "      <td>1.254973</td>\n",
              "      <td>-0.600870</td>\n",
              "      <td>-0.360836</td>\n",
              "      <td>-0.161727</td>\n",
              "      <td>0.076092</td>\n",
              "      <td>0.280587</td>\n",
              "      <td>...</td>\n",
              "      <td>-0.178887</td>\n",
              "      <td>-0.195692</td>\n",
              "      <td>-0.443664</td>\n",
              "      <td>0.046270</td>\n",
              "      <td>0.516246</td>\n",
              "      <td>0.447943</td>\n",
              "      <td>-0.554949</td>\n",
              "      <td>0.031821</td>\n",
              "      <td>0.018177</td>\n",
              "      <td>7.60</td>\n",
              "    </tr>\n",
              "    <tr>\n",
              "      <th>...</th>\n",
              "      <td>...</td>\n",
              "      <td>...</td>\n",
              "      <td>...</td>\n",
              "      <td>...</td>\n",
              "      <td>...</td>\n",
              "      <td>...</td>\n",
              "      <td>...</td>\n",
              "      <td>...</td>\n",
              "      <td>...</td>\n",
              "      <td>...</td>\n",
              "      <td>...</td>\n",
              "      <td>...</td>\n",
              "      <td>...</td>\n",
              "      <td>...</td>\n",
              "      <td>...</td>\n",
              "      <td>...</td>\n",
              "      <td>...</td>\n",
              "      <td>...</td>\n",
              "      <td>...</td>\n",
              "      <td>...</td>\n",
              "      <td>...</td>\n",
              "    </tr>\n",
              "    <tr>\n",
              "      <th>199359</th>\n",
              "      <td>50138.0</td>\n",
              "      <td>1.244059</td>\n",
              "      <td>0.190316</td>\n",
              "      <td>0.753666</td>\n",
              "      <td>0.925945</td>\n",
              "      <td>-0.328446</td>\n",
              "      <td>-0.051391</td>\n",
              "      <td>-0.331905</td>\n",
              "      <td>-0.020355</td>\n",
              "      <td>0.330893</td>\n",
              "      <td>...</td>\n",
              "      <td>-0.020050</td>\n",
              "      <td>-0.023295</td>\n",
              "      <td>0.013478</td>\n",
              "      <td>-0.092289</td>\n",
              "      <td>-0.448681</td>\n",
              "      <td>0.478955</td>\n",
              "      <td>-0.400379</td>\n",
              "      <td>0.061369</td>\n",
              "      <td>0.032971</td>\n",
              "      <td>8.60</td>\n",
              "    </tr>\n",
              "    <tr>\n",
              "      <th>199360</th>\n",
              "      <td>154502.0</td>\n",
              "      <td>-0.312808</td>\n",
              "      <td>1.571520</td>\n",
              "      <td>0.625071</td>\n",
              "      <td>2.851596</td>\n",
              "      <td>1.440896</td>\n",
              "      <td>0.370273</td>\n",
              "      <td>1.559423</td>\n",
              "      <td>-0.122626</td>\n",
              "      <td>-2.127059</td>\n",
              "      <td>...</td>\n",
              "      <td>-0.013666</td>\n",
              "      <td>-0.072840</td>\n",
              "      <td>-0.276301</td>\n",
              "      <td>-0.144144</td>\n",
              "      <td>-0.813403</td>\n",
              "      <td>-0.094574</td>\n",
              "      <td>-0.086966</td>\n",
              "      <td>0.101273</td>\n",
              "      <td>0.154888</td>\n",
              "      <td>49.66</td>\n",
              "    </tr>\n",
              "    <tr>\n",
              "      <th>199361</th>\n",
              "      <td>127940.0</td>\n",
              "      <td>2.313488</td>\n",
              "      <td>-1.066660</td>\n",
              "      <td>-2.698797</td>\n",
              "      <td>-1.810692</td>\n",
              "      <td>0.181929</td>\n",
              "      <td>-0.825158</td>\n",
              "      <td>0.014053</td>\n",
              "      <td>-0.497443</td>\n",
              "      <td>-2.466535</td>\n",
              "      <td>...</td>\n",
              "      <td>-0.303714</td>\n",
              "      <td>0.175502</td>\n",
              "      <td>0.943729</td>\n",
              "      <td>-0.209989</td>\n",
              "      <td>0.371705</td>\n",
              "      <td>0.688140</td>\n",
              "      <td>0.270351</td>\n",
              "      <td>-0.078804</td>\n",
              "      <td>-0.087019</td>\n",
              "      <td>54.00</td>\n",
              "    </tr>\n",
              "    <tr>\n",
              "      <th>199362</th>\n",
              "      <td>143903.0</td>\n",
              "      <td>1.980328</td>\n",
              "      <td>0.104427</td>\n",
              "      <td>-0.923277</td>\n",
              "      <td>1.353652</td>\n",
              "      <td>0.047918</td>\n",
              "      <td>-0.223057</td>\n",
              "      <td>-0.382536</td>\n",
              "      <td>0.034461</td>\n",
              "      <td>0.965143</td>\n",
              "      <td>...</td>\n",
              "      <td>-0.217607</td>\n",
              "      <td>-0.283405</td>\n",
              "      <td>-0.677841</td>\n",
              "      <td>0.263567</td>\n",
              "      <td>-0.961968</td>\n",
              "      <td>-0.298113</td>\n",
              "      <td>-0.888231</td>\n",
              "      <td>0.073120</td>\n",
              "      <td>-0.005631</td>\n",
              "      <td>7.90</td>\n",
              "    </tr>\n",
              "    <tr>\n",
              "      <th>199363</th>\n",
              "      <td>136098.0</td>\n",
              "      <td>1.888991</td>\n",
              "      <td>-0.199603</td>\n",
              "      <td>-0.401767</td>\n",
              "      <td>1.366907</td>\n",
              "      <td>-0.105339</td>\n",
              "      <td>0.441041</td>\n",
              "      <td>-0.401390</td>\n",
              "      <td>0.227025</td>\n",
              "      <td>0.894311</td>\n",
              "      <td>...</td>\n",
              "      <td>-0.254580</td>\n",
              "      <td>-0.469722</td>\n",
              "      <td>-1.120237</td>\n",
              "      <td>0.470175</td>\n",
              "      <td>0.620089</td>\n",
              "      <td>-0.347252</td>\n",
              "      <td>-1.155696</td>\n",
              "      <td>0.049377</td>\n",
              "      <td>-0.033304</td>\n",
              "      <td>8.65</td>\n",
              "    </tr>\n",
              "  </tbody>\n",
              "</table>\n",
              "<p>199364 rows × 30 columns</p>\n",
              "</div>\n",
              "      <button class=\"colab-df-convert\" onclick=\"convertToInteractive('df-2934c353-a6be-4a64-b353-b8d08e1b80a8')\"\n",
              "              title=\"Convert this dataframe to an interactive table.\"\n",
              "              style=\"display:none;\">\n",
              "        \n",
              "  <svg xmlns=\"http://www.w3.org/2000/svg\" height=\"24px\"viewBox=\"0 0 24 24\"\n",
              "       width=\"24px\">\n",
              "    <path d=\"M0 0h24v24H0V0z\" fill=\"none\"/>\n",
              "    <path d=\"M18.56 5.44l.94 2.06.94-2.06 2.06-.94-2.06-.94-.94-2.06-.94 2.06-2.06.94zm-11 1L8.5 8.5l.94-2.06 2.06-.94-2.06-.94L8.5 2.5l-.94 2.06-2.06.94zm10 10l.94 2.06.94-2.06 2.06-.94-2.06-.94-.94-2.06-.94 2.06-2.06.94z\"/><path d=\"M17.41 7.96l-1.37-1.37c-.4-.4-.92-.59-1.43-.59-.52 0-1.04.2-1.43.59L10.3 9.45l-7.72 7.72c-.78.78-.78 2.05 0 2.83L4 21.41c.39.39.9.59 1.41.59.51 0 1.02-.2 1.41-.59l7.78-7.78 2.81-2.81c.8-.78.8-2.07 0-2.86zM5.41 20L4 18.59l7.72-7.72 1.47 1.35L5.41 20z\"/>\n",
              "  </svg>\n",
              "      </button>\n",
              "      \n",
              "  <style>\n",
              "    .colab-df-container {\n",
              "      display:flex;\n",
              "      flex-wrap:wrap;\n",
              "      gap: 12px;\n",
              "    }\n",
              "\n",
              "    .colab-df-convert {\n",
              "      background-color: #E8F0FE;\n",
              "      border: none;\n",
              "      border-radius: 50%;\n",
              "      cursor: pointer;\n",
              "      display: none;\n",
              "      fill: #1967D2;\n",
              "      height: 32px;\n",
              "      padding: 0 0 0 0;\n",
              "      width: 32px;\n",
              "    }\n",
              "\n",
              "    .colab-df-convert:hover {\n",
              "      background-color: #E2EBFA;\n",
              "      box-shadow: 0px 1px 2px rgba(60, 64, 67, 0.3), 0px 1px 3px 1px rgba(60, 64, 67, 0.15);\n",
              "      fill: #174EA6;\n",
              "    }\n",
              "\n",
              "    [theme=dark] .colab-df-convert {\n",
              "      background-color: #3B4455;\n",
              "      fill: #D2E3FC;\n",
              "    }\n",
              "\n",
              "    [theme=dark] .colab-df-convert:hover {\n",
              "      background-color: #434B5C;\n",
              "      box-shadow: 0px 1px 3px 1px rgba(0, 0, 0, 0.15);\n",
              "      filter: drop-shadow(0px 1px 2px rgba(0, 0, 0, 0.3));\n",
              "      fill: #FFFFFF;\n",
              "    }\n",
              "  </style>\n",
              "\n",
              "      <script>\n",
              "        const buttonEl =\n",
              "          document.querySelector('#df-2934c353-a6be-4a64-b353-b8d08e1b80a8 button.colab-df-convert');\n",
              "        buttonEl.style.display =\n",
              "          google.colab.kernel.accessAllowed ? 'block' : 'none';\n",
              "\n",
              "        async function convertToInteractive(key) {\n",
              "          const element = document.querySelector('#df-2934c353-a6be-4a64-b353-b8d08e1b80a8');\n",
              "          const dataTable =\n",
              "            await google.colab.kernel.invokeFunction('convertToInteractive',\n",
              "                                                     [key], {});\n",
              "          if (!dataTable) return;\n",
              "\n",
              "          const docLinkHtml = 'Like what you see? Visit the ' +\n",
              "            '<a target=\"_blank\" href=https://colab.research.google.com/notebooks/data_table.ipynb>data table notebook</a>'\n",
              "            + ' to learn more about interactive tables.';\n",
              "          element.innerHTML = '';\n",
              "          dataTable['output_type'] = 'display_data';\n",
              "          await google.colab.output.renderOutput(dataTable, element);\n",
              "          const docLink = document.createElement('div');\n",
              "          docLink.innerHTML = docLinkHtml;\n",
              "          element.appendChild(docLink);\n",
              "        }\n",
              "      </script>\n",
              "    </div>\n",
              "  </div>\n",
              "  "
            ]
          },
          "metadata": {},
          "execution_count": 19
        }
      ],
      "source": [
        "# After standraziation\n",
        "pd.DataFrame(x_train, columns=data.columns[:-1])"
      ]
    },
    {
      "cell_type": "code",
      "execution_count": null,
      "metadata": {
        "colab": {
          "base_uri": "https://localhost:8080/"
        },
        "id": "Hu8s0ScCrOQp",
        "outputId": "06b97da9-6f46-4266-862d-88c63825cad1"
      },
      "outputs": [
        {
          "output_type": "execute_result",
          "data": {
            "text/plain": [
              "Input_Feature       V17       V14       V12       V10       V16        V3  \\\n",
              "0              1.948276 -0.268277  0.753066  0.368616 -3.660543  0.464574   \n",
              "1             -0.480518 -0.159778  0.375593 -1.179582  0.917384  0.891215   \n",
              "2             -0.043701 -0.903271 -1.408900  1.884975  0.114916  1.730917   \n",
              "3             -0.247192  0.160949  1.139294 -0.868609 -0.476070  0.498542   \n",
              "4             -0.257680  0.259127  1.017075  0.015876 -0.146981  0.517886   \n",
              "...                 ...       ...       ...       ...       ...       ...   \n",
              "199359        -1.204239 -0.232400  0.521268 -0.071822  0.859618  0.497525   \n",
              "199360        -0.950379  0.198969 -0.602228  0.669387  0.598349  0.412338   \n",
              "199361         0.487662  0.332592 -0.056041  1.727799 -1.366015 -1.789529   \n",
              "199362         0.100160 -1.306289 -0.197670 -0.315147  1.075374 -0.613352   \n",
              "199363        -0.309355 -0.096910  1.440601  0.132542 -0.307822 -0.267882   \n",
              "\n",
              "Input_Feature        V7       V11        V4       V18        V1        V9  \\\n",
              "0             -0.723594  0.261428  0.046589 -1.548892  0.581908 -0.437559   \n",
              "1              0.065528 -1.835650 -0.271287  0.182003 -0.920022  0.038255   \n",
              "2              0.463283 -0.554819  1.666458 -0.065592 -0.353009 -0.741095   \n",
              "3             -0.640850  1.077891 -0.683419  0.479418  0.606858  1.511510   \n",
              "4             -0.130358  1.060670  0.884061 -0.070897  0.583230  0.255455   \n",
              "...                 ...       ...       ...       ...       ...       ...   \n",
              "199359        -0.267624 -0.954981  0.651548  0.386574  0.637973  0.301364   \n",
              "199360         1.257935 -1.868374  2.012341 -0.536780 -0.162467 -1.941750   \n",
              "199361         0.011428  0.550572 -1.282342  0.078152  1.187805 -2.251554   \n",
              "199362        -0.308464 -1.207286  0.953794  0.706117  1.016516  0.880177   \n",
              "199363        -0.323672  0.446629  0.963161 -0.547756  0.969556  0.815536   \n",
              "\n",
              "Input_Feature        V5  \n",
              "0             -0.351486  \n",
              "1             -0.896566  \n",
              "2             -0.007110  \n",
              "3             -0.613797  \n",
              "4             -0.433130  \n",
              "...                 ...  \n",
              "199359        -0.235804  \n",
              "199360         1.045790  \n",
              "199361         0.133878  \n",
              "199362         0.036809  \n",
              "199363        -0.074200  \n",
              "\n",
              "[199364 rows x 13 columns]"
            ],
            "text/html": [
              "\n",
              "  <div id=\"df-11aa3eaa-4bbb-42e5-be83-ff3871e8a344\">\n",
              "    <div class=\"colab-df-container\">\n",
              "      <div>\n",
              "<style scoped>\n",
              "    .dataframe tbody tr th:only-of-type {\n",
              "        vertical-align: middle;\n",
              "    }\n",
              "\n",
              "    .dataframe tbody tr th {\n",
              "        vertical-align: top;\n",
              "    }\n",
              "\n",
              "    .dataframe thead th {\n",
              "        text-align: right;\n",
              "    }\n",
              "</style>\n",
              "<table border=\"1\" class=\"dataframe\">\n",
              "  <thead>\n",
              "    <tr style=\"text-align: right;\">\n",
              "      <th>Input_Feature</th>\n",
              "      <th>V17</th>\n",
              "      <th>V14</th>\n",
              "      <th>V12</th>\n",
              "      <th>V10</th>\n",
              "      <th>V16</th>\n",
              "      <th>V3</th>\n",
              "      <th>V7</th>\n",
              "      <th>V11</th>\n",
              "      <th>V4</th>\n",
              "      <th>V18</th>\n",
              "      <th>V1</th>\n",
              "      <th>V9</th>\n",
              "      <th>V5</th>\n",
              "    </tr>\n",
              "  </thead>\n",
              "  <tbody>\n",
              "    <tr>\n",
              "      <th>0</th>\n",
              "      <td>1.948276</td>\n",
              "      <td>-0.268277</td>\n",
              "      <td>0.753066</td>\n",
              "      <td>0.368616</td>\n",
              "      <td>-3.660543</td>\n",
              "      <td>0.464574</td>\n",
              "      <td>-0.723594</td>\n",
              "      <td>0.261428</td>\n",
              "      <td>0.046589</td>\n",
              "      <td>-1.548892</td>\n",
              "      <td>0.581908</td>\n",
              "      <td>-0.437559</td>\n",
              "      <td>-0.351486</td>\n",
              "    </tr>\n",
              "    <tr>\n",
              "      <th>1</th>\n",
              "      <td>-0.480518</td>\n",
              "      <td>-0.159778</td>\n",
              "      <td>0.375593</td>\n",
              "      <td>-1.179582</td>\n",
              "      <td>0.917384</td>\n",
              "      <td>0.891215</td>\n",
              "      <td>0.065528</td>\n",
              "      <td>-1.835650</td>\n",
              "      <td>-0.271287</td>\n",
              "      <td>0.182003</td>\n",
              "      <td>-0.920022</td>\n",
              "      <td>0.038255</td>\n",
              "      <td>-0.896566</td>\n",
              "    </tr>\n",
              "    <tr>\n",
              "      <th>2</th>\n",
              "      <td>-0.043701</td>\n",
              "      <td>-0.903271</td>\n",
              "      <td>-1.408900</td>\n",
              "      <td>1.884975</td>\n",
              "      <td>0.114916</td>\n",
              "      <td>1.730917</td>\n",
              "      <td>0.463283</td>\n",
              "      <td>-0.554819</td>\n",
              "      <td>1.666458</td>\n",
              "      <td>-0.065592</td>\n",
              "      <td>-0.353009</td>\n",
              "      <td>-0.741095</td>\n",
              "      <td>-0.007110</td>\n",
              "    </tr>\n",
              "    <tr>\n",
              "      <th>3</th>\n",
              "      <td>-0.247192</td>\n",
              "      <td>0.160949</td>\n",
              "      <td>1.139294</td>\n",
              "      <td>-0.868609</td>\n",
              "      <td>-0.476070</td>\n",
              "      <td>0.498542</td>\n",
              "      <td>-0.640850</td>\n",
              "      <td>1.077891</td>\n",
              "      <td>-0.683419</td>\n",
              "      <td>0.479418</td>\n",
              "      <td>0.606858</td>\n",
              "      <td>1.511510</td>\n",
              "      <td>-0.613797</td>\n",
              "    </tr>\n",
              "    <tr>\n",
              "      <th>4</th>\n",
              "      <td>-0.257680</td>\n",
              "      <td>0.259127</td>\n",
              "      <td>1.017075</td>\n",
              "      <td>0.015876</td>\n",
              "      <td>-0.146981</td>\n",
              "      <td>0.517886</td>\n",
              "      <td>-0.130358</td>\n",
              "      <td>1.060670</td>\n",
              "      <td>0.884061</td>\n",
              "      <td>-0.070897</td>\n",
              "      <td>0.583230</td>\n",
              "      <td>0.255455</td>\n",
              "      <td>-0.433130</td>\n",
              "    </tr>\n",
              "    <tr>\n",
              "      <th>...</th>\n",
              "      <td>...</td>\n",
              "      <td>...</td>\n",
              "      <td>...</td>\n",
              "      <td>...</td>\n",
              "      <td>...</td>\n",
              "      <td>...</td>\n",
              "      <td>...</td>\n",
              "      <td>...</td>\n",
              "      <td>...</td>\n",
              "      <td>...</td>\n",
              "      <td>...</td>\n",
              "      <td>...</td>\n",
              "      <td>...</td>\n",
              "    </tr>\n",
              "    <tr>\n",
              "      <th>199359</th>\n",
              "      <td>-1.204239</td>\n",
              "      <td>-0.232400</td>\n",
              "      <td>0.521268</td>\n",
              "      <td>-0.071822</td>\n",
              "      <td>0.859618</td>\n",
              "      <td>0.497525</td>\n",
              "      <td>-0.267624</td>\n",
              "      <td>-0.954981</td>\n",
              "      <td>0.651548</td>\n",
              "      <td>0.386574</td>\n",
              "      <td>0.637973</td>\n",
              "      <td>0.301364</td>\n",
              "      <td>-0.235804</td>\n",
              "    </tr>\n",
              "    <tr>\n",
              "      <th>199360</th>\n",
              "      <td>-0.950379</td>\n",
              "      <td>0.198969</td>\n",
              "      <td>-0.602228</td>\n",
              "      <td>0.669387</td>\n",
              "      <td>0.598349</td>\n",
              "      <td>0.412338</td>\n",
              "      <td>1.257935</td>\n",
              "      <td>-1.868374</td>\n",
              "      <td>2.012341</td>\n",
              "      <td>-0.536780</td>\n",
              "      <td>-0.162467</td>\n",
              "      <td>-1.941750</td>\n",
              "      <td>1.045790</td>\n",
              "    </tr>\n",
              "    <tr>\n",
              "      <th>199361</th>\n",
              "      <td>0.487662</td>\n",
              "      <td>0.332592</td>\n",
              "      <td>-0.056041</td>\n",
              "      <td>1.727799</td>\n",
              "      <td>-1.366015</td>\n",
              "      <td>-1.789529</td>\n",
              "      <td>0.011428</td>\n",
              "      <td>0.550572</td>\n",
              "      <td>-1.282342</td>\n",
              "      <td>0.078152</td>\n",
              "      <td>1.187805</td>\n",
              "      <td>-2.251554</td>\n",
              "      <td>0.133878</td>\n",
              "    </tr>\n",
              "    <tr>\n",
              "      <th>199362</th>\n",
              "      <td>0.100160</td>\n",
              "      <td>-1.306289</td>\n",
              "      <td>-0.197670</td>\n",
              "      <td>-0.315147</td>\n",
              "      <td>1.075374</td>\n",
              "      <td>-0.613352</td>\n",
              "      <td>-0.308464</td>\n",
              "      <td>-1.207286</td>\n",
              "      <td>0.953794</td>\n",
              "      <td>0.706117</td>\n",
              "      <td>1.016516</td>\n",
              "      <td>0.880177</td>\n",
              "      <td>0.036809</td>\n",
              "    </tr>\n",
              "    <tr>\n",
              "      <th>199363</th>\n",
              "      <td>-0.309355</td>\n",
              "      <td>-0.096910</td>\n",
              "      <td>1.440601</td>\n",
              "      <td>0.132542</td>\n",
              "      <td>-0.307822</td>\n",
              "      <td>-0.267882</td>\n",
              "      <td>-0.323672</td>\n",
              "      <td>0.446629</td>\n",
              "      <td>0.963161</td>\n",
              "      <td>-0.547756</td>\n",
              "      <td>0.969556</td>\n",
              "      <td>0.815536</td>\n",
              "      <td>-0.074200</td>\n",
              "    </tr>\n",
              "  </tbody>\n",
              "</table>\n",
              "<p>199364 rows × 13 columns</p>\n",
              "</div>\n",
              "      <button class=\"colab-df-convert\" onclick=\"convertToInteractive('df-11aa3eaa-4bbb-42e5-be83-ff3871e8a344')\"\n",
              "              title=\"Convert this dataframe to an interactive table.\"\n",
              "              style=\"display:none;\">\n",
              "        \n",
              "  <svg xmlns=\"http://www.w3.org/2000/svg\" height=\"24px\"viewBox=\"0 0 24 24\"\n",
              "       width=\"24px\">\n",
              "    <path d=\"M0 0h24v24H0V0z\" fill=\"none\"/>\n",
              "    <path d=\"M18.56 5.44l.94 2.06.94-2.06 2.06-.94-2.06-.94-.94-2.06-.94 2.06-2.06.94zm-11 1L8.5 8.5l.94-2.06 2.06-.94-2.06-.94L8.5 2.5l-.94 2.06-2.06.94zm10 10l.94 2.06.94-2.06 2.06-.94-2.06-.94-.94-2.06-.94 2.06-2.06.94z\"/><path d=\"M17.41 7.96l-1.37-1.37c-.4-.4-.92-.59-1.43-.59-.52 0-1.04.2-1.43.59L10.3 9.45l-7.72 7.72c-.78.78-.78 2.05 0 2.83L4 21.41c.39.39.9.59 1.41.59.51 0 1.02-.2 1.41-.59l7.78-7.78 2.81-2.81c.8-.78.8-2.07 0-2.86zM5.41 20L4 18.59l7.72-7.72 1.47 1.35L5.41 20z\"/>\n",
              "  </svg>\n",
              "      </button>\n",
              "      \n",
              "  <style>\n",
              "    .colab-df-container {\n",
              "      display:flex;\n",
              "      flex-wrap:wrap;\n",
              "      gap: 12px;\n",
              "    }\n",
              "\n",
              "    .colab-df-convert {\n",
              "      background-color: #E8F0FE;\n",
              "      border: none;\n",
              "      border-radius: 50%;\n",
              "      cursor: pointer;\n",
              "      display: none;\n",
              "      fill: #1967D2;\n",
              "      height: 32px;\n",
              "      padding: 0 0 0 0;\n",
              "      width: 32px;\n",
              "    }\n",
              "\n",
              "    .colab-df-convert:hover {\n",
              "      background-color: #E2EBFA;\n",
              "      box-shadow: 0px 1px 2px rgba(60, 64, 67, 0.3), 0px 1px 3px 1px rgba(60, 64, 67, 0.15);\n",
              "      fill: #174EA6;\n",
              "    }\n",
              "\n",
              "    [theme=dark] .colab-df-convert {\n",
              "      background-color: #3B4455;\n",
              "      fill: #D2E3FC;\n",
              "    }\n",
              "\n",
              "    [theme=dark] .colab-df-convert:hover {\n",
              "      background-color: #434B5C;\n",
              "      box-shadow: 0px 1px 3px 1px rgba(0, 0, 0, 0.15);\n",
              "      filter: drop-shadow(0px 1px 2px rgba(0, 0, 0, 0.3));\n",
              "      fill: #FFFFFF;\n",
              "    }\n",
              "  </style>\n",
              "\n",
              "      <script>\n",
              "        const buttonEl =\n",
              "          document.querySelector('#df-11aa3eaa-4bbb-42e5-be83-ff3871e8a344 button.colab-df-convert');\n",
              "        buttonEl.style.display =\n",
              "          google.colab.kernel.accessAllowed ? 'block' : 'none';\n",
              "\n",
              "        async function convertToInteractive(key) {\n",
              "          const element = document.querySelector('#df-11aa3eaa-4bbb-42e5-be83-ff3871e8a344');\n",
              "          const dataTable =\n",
              "            await google.colab.kernel.invokeFunction('convertToInteractive',\n",
              "                                                     [key], {});\n",
              "          if (!dataTable) return;\n",
              "\n",
              "          const docLinkHtml = 'Like what you see? Visit the ' +\n",
              "            '<a target=\"_blank\" href=https://colab.research.google.com/notebooks/data_table.ipynb>data table notebook</a>'\n",
              "            + ' to learn more about interactive tables.';\n",
              "          element.innerHTML = '';\n",
              "          dataTable['output_type'] = 'display_data';\n",
              "          await google.colab.output.renderOutput(dataTable, element);\n",
              "          const docLink = document.createElement('div');\n",
              "          docLink.innerHTML = docLinkHtml;\n",
              "          element.appendChild(docLink);\n",
              "        }\n",
              "      </script>\n",
              "    </div>\n",
              "  </div>\n",
              "  "
            ]
          },
          "metadata": {},
          "execution_count": 20
        }
      ],
      "source": [
        "pd.DataFrame(x_train_extract_standar, columns=features_name[:-1])"
      ]
    },
    {
      "cell_type": "markdown",
      "metadata": {
        "id": "lqkP0JMsJqk4"
      },
      "source": [
        "### overSample the train datasets using random and SMOTE"
      ]
    },
    {
      "cell_type": "markdown",
      "metadata": {
        "id": "PnceAbhlryge"
      },
      "source": [
        "#### OverSampling using random"
      ]
    },
    {
      "cell_type": "markdown",
      "metadata": {
        "id": "U8i3N1XrJ6-L"
      },
      "source": [
        "##### OverSampling:RandomSampling => for original data"
      ]
    },
    {
      "cell_type": "markdown",
      "metadata": {
        "id": "bDkXNShysO-U"
      },
      "source": [
        "###### wihtout standarization:"
      ]
    },
    {
      "cell_type": "code",
      "execution_count": null,
      "metadata": {
        "id": "bDdAAwLwJ6Wn"
      },
      "outputs": [],
      "source": [
        "from imblearn.over_sampling import RandomOverSampler\n",
        "\n",
        "ros =RandomOverSampler()\n",
        "\n",
        "x_train_RandomOverSample, y_train_RandomOverSample =ros.fit_resample(x_train,y_train)\n"
      ]
    },
    {
      "cell_type": "code",
      "execution_count": null,
      "metadata": {
        "colab": {
          "base_uri": "https://localhost:8080/"
        },
        "id": "b5tcM0A_JqNt",
        "outputId": "43aa1523-d016-4e3e-a10b-a12ef8af60ef"
      },
      "outputs": [
        {
          "name": "stdout",
          "output_type": "stream",
          "text": [
            "Original dataset shape: Counter({0: 199020, 1: 344})\n",
            "RandomOverSampel dataset shape: Counter({0: 199020, 1: 199020})\n"
          ]
        }
      ],
      "source": [
        "from collections import Counter\n",
        "\n",
        "print('Original dataset shape: {}'.format(Counter(y_train)))\n",
        "print('RandomOverSampel dataset shape: {}'.format(Counter(y_train_RandomOverSample)))"
      ]
    },
    {
      "cell_type": "markdown",
      "metadata": {
        "id": "sRT1X6MmsYjF"
      },
      "source": [
        "###### with standarization:"
      ]
    },
    {
      "cell_type": "code",
      "execution_count": null,
      "metadata": {
        "id": "6GNX7sawshGD"
      },
      "outputs": [],
      "source": [
        "from imblearn.over_sampling import RandomOverSampler\n",
        "\n",
        "ros =RandomOverSampler()\n",
        "\n",
        "x_train_standar_RandomOverSample, y_train_standar_RandomOverSample =ros.fit_resample(x_train_standar,y_train)\n"
      ]
    },
    {
      "cell_type": "code",
      "execution_count": null,
      "metadata": {
        "colab": {
          "base_uri": "https://localhost:8080/"
        },
        "id": "447_RE8DshGF",
        "outputId": "b4b043d6-234d-4d88-8909-5e8158e1cbb3"
      },
      "outputs": [
        {
          "name": "stdout",
          "output_type": "stream",
          "text": [
            "Original dataset shape: Counter({0: 199020, 1: 344})\n",
            "RandomOverSampel dataset shape: Counter({0: 199020, 1: 199020})\n"
          ]
        }
      ],
      "source": [
        "from collections import Counter\n",
        "\n",
        "print('Original dataset shape: {}'.format(Counter(y_train)))\n",
        "print('RandomOverSampel dataset shape: {}'.format(Counter(y_train_standar_RandomOverSample)))"
      ]
    },
    {
      "cell_type": "markdown",
      "metadata": {
        "id": "2O9z8lvarnUI"
      },
      "source": [
        "##### OverSampling:RandomSampling => for extracted data"
      ]
    },
    {
      "cell_type": "markdown",
      "metadata": {
        "id": "4scGZX5NskHV"
      },
      "source": [
        "###### without standarization:"
      ]
    },
    {
      "cell_type": "code",
      "execution_count": null,
      "metadata": {
        "id": "g0Qdf5Hqr_yO"
      },
      "outputs": [],
      "source": [
        "ros =RandomOverSampler()\n",
        "\n",
        "x_train_extract_RandomOverSample, y_train_extract_RandomOverSample =ros.fit_resample(x_train_extract,y_train_extract)\n"
      ]
    },
    {
      "cell_type": "code",
      "execution_count": null,
      "metadata": {
        "colab": {
          "base_uri": "https://localhost:8080/"
        },
        "id": "pEpW6H_Fr_yP",
        "outputId": "68a70f1f-d004-45ba-c3fe-6a9768e015fc"
      },
      "outputs": [
        {
          "name": "stdout",
          "output_type": "stream",
          "text": [
            "Original dataset shape: Counter({0: 199020, 1: 344})\n",
            "RandomOverSampel dataset shape: Counter({0: 199020, 1: 199020})\n"
          ]
        }
      ],
      "source": [
        "from collections import Counter\n",
        "\n",
        "print('Original dataset shape: {}'.format(Counter(y_train)))\n",
        "print('RandomOverSampel dataset shape: {}'.format(Counter(y_train_extract_RandomOverSample)))"
      ]
    },
    {
      "cell_type": "markdown",
      "metadata": {
        "id": "KA3UOnIWs0FI"
      },
      "source": [
        "###### with standarization: "
      ]
    },
    {
      "cell_type": "code",
      "execution_count": null,
      "metadata": {
        "id": "F_Wa00bfs5Tl"
      },
      "outputs": [],
      "source": [
        "from imblearn.over_sampling import RandomOverSampler\n",
        "\n",
        "ros =RandomOverSampler()\n",
        "\n",
        "x_train_extract_standar_RandomOverSample, y_train_extract_standar_RandomOverSample =ros.fit_resample(x_train_extract_standar,y_train)\n"
      ]
    },
    {
      "cell_type": "code",
      "execution_count": null,
      "metadata": {
        "colab": {
          "base_uri": "https://localhost:8080/"
        },
        "id": "FY5SF756s5Tn",
        "outputId": "9445dbde-281d-4409-c93a-7ff76fb8f7f6"
      },
      "outputs": [
        {
          "name": "stdout",
          "output_type": "stream",
          "text": [
            "Original dataset shape: Counter({0: 199020, 1: 344})\n",
            "RandomOverSampel dataset shape: Counter({0: 199020, 1: 199020})\n"
          ]
        }
      ],
      "source": [
        "from collections import Counter\n",
        "\n",
        "print('Original dataset shape: {}'.format(Counter(y_train)))\n",
        "print('RandomOverSampel dataset shape: {}'.format(Counter(y_train_extract_standar_RandomOverSample)))"
      ]
    },
    {
      "cell_type": "markdown",
      "metadata": {
        "id": "zCkzpPaTy2yR"
      },
      "source": [
        "#### OverSampling: SMOTE"
      ]
    },
    {
      "cell_type": "markdown",
      "metadata": {
        "id": "AbUbbhq1AnA7"
      },
      "source": [
        "##### OverSampling:SMOTE => for original data"
      ]
    },
    {
      "cell_type": "markdown",
      "metadata": {
        "id": "0RlsE4n0Aq8U"
      },
      "source": [
        "###### wihtout standarization:"
      ]
    },
    {
      "cell_type": "code",
      "execution_count": null,
      "metadata": {
        "id": "W-UMfyLEy9n4"
      },
      "outputs": [],
      "source": [
        "from imblearn.combine import SMOTETomek\n",
        "\n",
        "smote =SMOTETomek()\n",
        "\n",
        "x_train_SMOTE, y_train_SMOTE =smote.fit_resample(x_train,y_train)"
      ]
    },
    {
      "cell_type": "code",
      "execution_count": null,
      "metadata": {
        "colab": {
          "base_uri": "https://localhost:8080/"
        },
        "id": "sXZubGlmzhVT",
        "outputId": "d1ab7fd0-a287-444d-ef41-174989b419a8"
      },
      "outputs": [
        {
          "output_type": "stream",
          "name": "stdout",
          "text": [
            "Original dataset shape: Counter({0: 199020, 1: 344})\n",
            "Original SMOTE dataset shape: Counter({0: 198372, 1: 198372})\n"
          ]
        }
      ],
      "source": [
        "from collections import Counter\n",
        "\n",
        "print('Original dataset shape: {}'.format(Counter(y_train)))\n",
        "print('Original SMOTE dataset shape: {}'.format(Counter(y_train_SMOTE)))"
      ]
    },
    {
      "cell_type": "markdown",
      "metadata": {
        "id": "Vr_yqBXzAhxJ"
      },
      "source": [
        "###### with standarization:"
      ]
    },
    {
      "cell_type": "code",
      "execution_count": null,
      "metadata": {
        "id": "3xlAeMzHAhxJ"
      },
      "outputs": [],
      "source": [
        "x_train_standar_SMOTE, y_train_standar_SMOTE =smote.fit_resample(x_train_standar,y_train)"
      ]
    },
    {
      "cell_type": "code",
      "execution_count": null,
      "metadata": {
        "colab": {
          "base_uri": "https://localhost:8080/"
        },
        "id": "8db7b9HQAhxJ",
        "outputId": "73509f9d-af79-4b46-c569-0dbe507709d4"
      },
      "outputs": [
        {
          "output_type": "stream",
          "name": "stdout",
          "text": [
            "Original dataset shape: Counter({0: 199020, 1: 344})\n",
            "RandomOverSampel dataset shape: Counter({0: 199020, 1: 199020})\n"
          ]
        }
      ],
      "source": [
        "from collections import Counter\n",
        "\n",
        "print('Original dataset shape: {}'.format(Counter(y_train)))\n",
        "print('RandomOverSampel dataset shape: {}'.format(Counter(y_train_standar_SMOTE)))"
      ]
    },
    {
      "cell_type": "markdown",
      "metadata": {
        "id": "bgj3-8SMAhxK"
      },
      "source": [
        "##### OverSampling:SMOTE => for extracted data"
      ]
    },
    {
      "cell_type": "markdown",
      "metadata": {
        "id": "r7rg4UPCAhxK"
      },
      "source": [
        "###### without standarization:"
      ]
    },
    {
      "cell_type": "code",
      "execution_count": null,
      "metadata": {
        "id": "B5_cFblbAhxK"
      },
      "outputs": [],
      "source": [
        "x_train_extract_SMOTE, y_train_extract_SMOTE =smote.fit_resample(x_train_extract,y_train)"
      ]
    },
    {
      "cell_type": "code",
      "execution_count": null,
      "metadata": {
        "colab": {
          "base_uri": "https://localhost:8080/"
        },
        "id": "u-WZuUXfAhxK",
        "outputId": "b9f27ec3-591d-4307-ca2c-dd82eac4cb17"
      },
      "outputs": [
        {
          "output_type": "stream",
          "name": "stdout",
          "text": [
            "Original dataset shape: Counter({0: 199020, 1: 344})\n",
            "extracted SMOTE dataset shape: Counter({0: 199020, 1: 199020})\n"
          ]
        }
      ],
      "source": [
        "from collections import Counter\n",
        "\n",
        "print('Original dataset shape: {}'.format(Counter(y_train)))\n",
        "print('extracted SMOTE dataset shape: {}'.format(Counter(y_train_extract_SMOTE)))"
      ]
    },
    {
      "cell_type": "markdown",
      "metadata": {
        "id": "6Wlxvv5wAhxK"
      },
      "source": [
        "###### with standarization: "
      ]
    },
    {
      "cell_type": "code",
      "execution_count": null,
      "metadata": {
        "id": "UYJvO640AhxK"
      },
      "outputs": [],
      "source": [
        "x_train_extract_standar_SMOTE, y_train_extract_standar_SMOTE =smote.fit_resample(x_train_extract_standar,y_train)"
      ]
    },
    {
      "cell_type": "code",
      "execution_count": null,
      "metadata": {
        "colab": {
          "base_uri": "https://localhost:8080/"
        },
        "id": "iCdhbzjzAhxK",
        "outputId": "6fd71cc5-4752-40b2-f40a-dbc50650b6ae"
      },
      "outputs": [
        {
          "output_type": "stream",
          "name": "stdout",
          "text": [
            "Original dataset shape: Counter({0: 199020, 1: 344})\n",
            "extracted standar SMOTE dataset shape: Counter({0: 199020, 1: 199020})\n"
          ]
        }
      ],
      "source": [
        "from collections import Counter\n",
        "\n",
        "print('Original dataset shape: {}'.format(Counter(y_train)))\n",
        "print('extracted standar SMOTE dataset shape: {}'.format(Counter(y_train_extract_standar_SMOTE)))"
      ]
    },
    {
      "cell_type": "markdown",
      "metadata": {
        "id": "31L_EQhB0jRJ"
      },
      "source": [
        "## variables Reminder:\n",
        "\n",
        "\n",
        ">  \n",
        "1. original data: x_train, y_train\n",
        "2. original standard data: \n",
        "x_train_standar,y_train\n",
        "2. original randomOverSample data: \n",
        "x_train_RandomOverSample, y_train_RandomOverSample\n",
        "3. standar randomOverSample data:\n",
        "x_train_standar_RandomOverSample, y_train_standar_RandomOverSample\n",
        "4. extracted features of RandomOverSample:\n",
        "x_train_extract_RandomOverSample,y_train_RandomOverSample\n",
        "5. standard extracted features of RandomOverSample:\n",
        "x_train_extract_standar_RandomOverSample,y_train_standar_RandomOverSample\n",
        "2. original SMOTE data: \n",
        "x_train_SMOTE, y_train_SMOTE\n",
        "3. standar SMOTE data:\n",
        "x_train_standar_SMOTE, y_train_standar_SMOTE\n",
        "4. extracted features of SMOTE:\n",
        "x_train_extract_SMOTE,y_train_SMOTE\n",
        "5. standard extracted features of SMOTE:\n",
        "x_train_extract_standar_SMOTE,y_train_standar_SMOTE\n"
      ]
    },
    {
      "cell_type": "markdown",
      "metadata": {
        "id": "JFMEAAqp15a1"
      },
      "source": [
        "## Applying machine learning models:"
      ]
    },
    {
      "cell_type": "code",
      "execution_count": null,
      "metadata": {
        "id": "vDFIpqtf-k7J"
      },
      "outputs": [],
      "source": [
        "import matplotlib.pyplot as plt"
      ]
    },
    {
      "cell_type": "markdown",
      "metadata": {
        "id": "ujf_pmBCM6V0"
      },
      "source": [
        "### RandomForest:\n"
      ]
    },
    {
      "cell_type": "code",
      "execution_count": null,
      "metadata": {
        "id": "zks4CZnUM598"
      },
      "outputs": [],
      "source": [
        "from sklearn.ensemble import RandomForestClassifier\n",
        "\n",
        "rf_model =RandomForestClassifier()"
      ]
    },
    {
      "cell_type": "markdown",
      "metadata": {
        "id": "SATrRfliKD8w"
      },
      "source": [
        "#### Original dataset using RandomForest:"
      ]
    },
    {
      "cell_type": "markdown",
      "metadata": {
        "id": "rQmo3tLYKD8x"
      },
      "source": [
        "##### evaluation using original dataset:"
      ]
    },
    {
      "cell_type": "code",
      "execution_count": null,
      "metadata": {
        "id": "ZbPHSrmqKD8x"
      },
      "outputs": [],
      "source": [
        "rf_model.fit(x_train, y_train)\n",
        "y_pred =rf_model.predict(x_test)"
      ]
    },
    {
      "cell_type": "code",
      "execution_count": null,
      "metadata": {
        "colab": {
          "base_uri": "https://localhost:8080/",
          "height": 522
        },
        "id": "Npbpwp1bKD8y",
        "outputId": "409e1899-66e6-401c-b6c8-346eaf74005c"
      },
      "outputs": [
        {
          "name": "stdout",
          "output_type": "stream",
          "text": [
            "              precision    recall  f1-score   support\n",
            "\n",
            "           0       1.00      1.00      1.00     85295\n",
            "           1       0.94      0.84      0.89       148\n",
            "\n",
            "    accuracy                           1.00     85443\n",
            "   macro avg       0.97      0.92      0.94     85443\n",
            "weighted avg       1.00      1.00      1.00     85443\n",
            "\n",
            "f1_score = 0.8857142857142858\n",
            "recall = 0.8378378378378378\n",
            "precision 0.9393939393939394\n"
          ]
        },
        {
          "data": {
            "text/plain": [
              "<function matplotlib.pyplot.show(*args, **kw)>"
            ]
          },
          "execution_count": 45,
          "metadata": {},
          "output_type": "execute_result"
        },
        {
          "data": {
            "image/png": "[encoded data removed]",
            "text/plain": [
              "<Figure size 432x288 with 2 Axes>"
            ]
          },
          "metadata": {},
          "output_type": "display_data"
        },
        {
          "data": {
            "text/plain": [
              "<Figure size 720x360 with 0 Axes>"
            ]
          },
          "metadata": {},
          "output_type": "display_data"
        }
      ],
      "source": [
        "from sklearn.metrics import classification_report, accuracy_score ,f1_score, recall_score , precision_score, confusion_matrix, ConfusionMatrixDisplay\n",
        "\n",
        "print(classification_report(y_test,y_pred))\n",
        "\n",
        "f1_score =f1_score(y_test, y_pred)\n",
        "recall =recall_score(y_test, y_pred)\n",
        "precision =precision_score(y_test,y_pred)\n",
        "\n",
        "print('f1_score =', f1_score)\n",
        "print('recall =', recall)\n",
        "print('precision', precision)\n",
        "\n",
        "conf_mat =confusion_matrix(y_test,y_pred)\n",
        "                           \n",
        "cm_display =ConfusionMatrixDisplay(confusion_matrix=conf_mat)\n",
        "\n",
        "cm_display.plot()\n",
        "\n",
        "plt.figure(figsize=(10,5))\n",
        "plt.show"
      ]
    },
    {
      "cell_type": "markdown",
      "metadata": {
        "id": "X24i7IkkKD8y"
      },
      "source": [
        "##### evaluation using standaraized original dataset:"
      ]
    },
    {
      "cell_type": "code",
      "execution_count": null,
      "metadata": {
        "id": "L40yeRKeKD8z"
      },
      "outputs": [],
      "source": [
        "rf_model.fit(x_train_standar,y_train)\n",
        "y_pred_standar =rf_model.predict(x_test)"
      ]
    },
    {
      "cell_type": "code",
      "execution_count": null,
      "metadata": {
        "colab": {
          "base_uri": "https://localhost:8080/",
          "height": 522
        },
        "id": "CQRSK5UZKD8z",
        "outputId": "b46cae94-7177-465c-9c40-65d82cde4852"
      },
      "outputs": [
        {
          "name": "stdout",
          "output_type": "stream",
          "text": [
            "              precision    recall  f1-score   support\n",
            "\n",
            "           0       1.00      1.00      1.00     85295\n",
            "           1       0.90      0.84      0.87       148\n",
            "\n",
            "    accuracy                           1.00     85443\n",
            "   macro avg       0.95      0.92      0.94     85443\n",
            "weighted avg       1.00      1.00      1.00     85443\n",
            "\n",
            "f1_score = 0.8857142857142858\n",
            "recall = 0.8445945945945946\n",
            "precision 0.8992805755395683\n"
          ]
        },
        {
          "data": {
            "text/plain": [
              "<function matplotlib.pyplot.show(*args, **kw)>"
            ]
          },
          "execution_count": 47,
          "metadata": {},
          "output_type": "execute_result"
        },
        {
          "data": {
            "image/png": "[encoded data removed]",
            "text/plain": [
              "<Figure size 432x288 with 2 Axes>"
            ]
          },
          "metadata": {},
          "output_type": "display_data"
        },
        {
          "data": {
            "text/plain": [
              "<Figure size 720x360 with 0 Axes>"
            ]
          },
          "metadata": {},
          "output_type": "display_data"
        }
      ],
      "source": [
        "from sklearn.metrics import classification_report, f1_score , recall_score, precision_score, confusion_matrix, ConfusionMatrixDisplay\n",
        "\n",
        "print(classification_report(y_test,y_pred_standar))\n",
        "\n",
        "f1_score =f1_score(y_test, y_pred)\n",
        "recall =recall_score(y_test, y_pred_standar)\n",
        "precision =precision_score(y_test,y_pred_standar)\n",
        "\n",
        "print('f1_score =', f1_score)\n",
        "print('recall =', recall)\n",
        "print('precision', precision)\n",
        "\n",
        "conf_mat =confusion_matrix(y_test,y_pred_standar)\n",
        "                           \n",
        "cm_display =ConfusionMatrixDisplay(confusion_matrix=conf_mat)\n",
        "\n",
        "cm_display.plot()\n",
        "\n",
        "plt.figure(figsize=(10,5))\n",
        "plt.show"
      ]
    },
    {
      "cell_type": "markdown",
      "metadata": {
        "id": "MHl1halQKD80"
      },
      "source": [
        "#### randomOverSample dataset using RandomForest:"
      ]
    },
    {
      "cell_type": "markdown",
      "metadata": {
        "id": "7nO7pM6IKD81"
      },
      "source": [
        "##### evaluating using original randomOverSample dataset:"
      ]
    },
    {
      "cell_type": "code",
      "execution_count": null,
      "metadata": {
        "id": "3n6A181dKD81"
      },
      "outputs": [],
      "source": [
        "rf_model.fit(x_train_RandomOverSample, y_train_RandomOverSample)\n",
        "y_pred_RandomOverSample =rf_model.predict(x_test)"
      ]
    },
    {
      "cell_type": "code",
      "execution_count": null,
      "metadata": {
        "colab": {
          "base_uri": "https://localhost:8080/",
          "height": 505
        },
        "id": "m-zxZmPQKD82",
        "outputId": "b80e86f6-1844-47fd-8d37-561546b2e1cb"
      },
      "outputs": [
        {
          "name": "stdout",
          "output_type": "stream",
          "text": [
            "              precision    recall  f1-score   support\n",
            "\n",
            "           0       1.00      1.00      1.00     85295\n",
            "           1       0.93      0.84      0.88       148\n",
            "\n",
            "    accuracy                           1.00     85443\n",
            "   macro avg       0.97      0.92      0.94     85443\n",
            "weighted avg       1.00      1.00      1.00     85443\n",
            "\n",
            "recall = 0.8378378378378378\n",
            "precision 0.9323308270676691\n"
          ]
        },
        {
          "data": {
            "text/plain": [
              "<function matplotlib.pyplot.show(*args, **kw)>"
            ]
          },
          "execution_count": 49,
          "metadata": {},
          "output_type": "execute_result"
        },
        {
          "data": {
            "image/png": "[encoded data removed]",
            "text/plain": [
              "<Figure size 432x288 with 2 Axes>"
            ]
          },
          "metadata": {},
          "output_type": "display_data"
        },
        {
          "data": {
            "text/plain": [
              "<Figure size 720x360 with 0 Axes>"
            ]
          },
          "metadata": {},
          "output_type": "display_data"
        }
      ],
      "source": [
        "print(classification_report(y_test,y_pred_RandomOverSample))\n",
        "\n",
        "#f1_score =f1_score(y_test, y_pred_RandomOverSample)\n",
        "recall =recall_score(y_test, y_pred_RandomOverSample)\n",
        "precision =precision_score(y_test,y_pred_RandomOverSample)\n",
        "\n",
        "#print('f1_score =', f1_score)\n",
        "print('recall =', recall)\n",
        "print('precision', precision)\n",
        "\n",
        "conf_mat =confusion_matrix(y_test,y_pred_RandomOverSample)\n",
        "                           \n",
        "cm_display =ConfusionMatrixDisplay(confusion_matrix=conf_mat)\n",
        "\n",
        "cm_display.plot()\n",
        "\n",
        "plt.figure(figsize=(10,5))\n",
        "plt.show"
      ]
    },
    {
      "cell_type": "markdown",
      "metadata": {
        "id": "Vo4g9RbTKD82"
      },
      "source": [
        "##### evaluating using original standard randomOverSample dataset:"
      ]
    },
    {
      "cell_type": "code",
      "execution_count": null,
      "metadata": {
        "id": "N0Rr97ubKD83"
      },
      "outputs": [],
      "source": [
        "rf_model.fit(x_train_standar_RandomOverSample, y_train_standar_RandomOverSample)\n",
        "y_pred_standar_RandomOverSample=rf_model.predict(x_test)"
      ]
    },
    {
      "cell_type": "code",
      "execution_count": null,
      "metadata": {
        "colab": {
          "base_uri": "https://localhost:8080/",
          "height": 505
        },
        "id": "ZogC2QeJKD83",
        "outputId": "84936709-384e-4af3-cb40-474518c5610d"
      },
      "outputs": [
        {
          "name": "stdout",
          "output_type": "stream",
          "text": [
            "              precision    recall  f1-score   support\n",
            "\n",
            "           0       1.00      1.00      1.00     85295\n",
            "           1       0.89      0.74      0.81       148\n",
            "\n",
            "    accuracy                           1.00     85443\n",
            "   macro avg       0.94      0.87      0.90     85443\n",
            "weighted avg       1.00      1.00      1.00     85443\n",
            "\n",
            "recall = 0.7432432432432432\n",
            "precision 0.8870967741935484\n"
          ]
        },
        {
          "data": {
            "text/plain": [
              "<function matplotlib.pyplot.show(*args, **kw)>"
            ]
          },
          "execution_count": 51,
          "metadata": {},
          "output_type": "execute_result"
        },
        {
          "data": {
            "image/png": "[encoded data removed]",
            "text/plain": [
              "<Figure size 432x288 with 2 Axes>"
            ]
          },
          "metadata": {},
          "output_type": "display_data"
        },
        {
          "data": {
            "text/plain": [
              "<Figure size 720x360 with 0 Axes>"
            ]
          },
          "metadata": {},
          "output_type": "display_data"
        }
      ],
      "source": [
        "print(classification_report(y_test,y_pred_standar_RandomOverSample))\n",
        "\n",
        "#f1_score =f1_score(y_test, y_pred_RandomOverSample_extract)\n",
        "recall =recall_score(y_test, y_pred_standar_RandomOverSample)\n",
        "precision =precision_score(y_test,y_pred_standar_RandomOverSample)\n",
        "\n",
        "#print('f1_score =', f1_score)\n",
        "print('recall =', recall)\n",
        "print('precision', precision)\n",
        "\n",
        "conf_mat =confusion_matrix(y_test,y_pred_standar_RandomOverSample)\n",
        "                           \n",
        "cm_display =ConfusionMatrixDisplay(confusion_matrix=conf_mat)\n",
        "\n",
        "cm_display.plot()\n",
        "\n",
        "plt.figure(figsize=(10,5))\n",
        "plt.show"
      ]
    },
    {
      "cell_type": "markdown",
      "metadata": {
        "id": "0ORva1LMKD84"
      },
      "source": [
        "##### evaluating using extracted features randomOverSample dataset:"
      ]
    },
    {
      "cell_type": "code",
      "execution_count": null,
      "metadata": {
        "id": "OFYxeauFKD85"
      },
      "outputs": [],
      "source": [
        "rf_model.fit(x_train_extract_RandomOverSample,y_train_RandomOverSample)\n",
        "y_pred_RandomOverSample_extract=rf_model.predict(x_test_exctract)"
      ]
    },
    {
      "cell_type": "code",
      "execution_count": null,
      "metadata": {
        "colab": {
          "base_uri": "https://localhost:8080/",
          "height": 505
        },
        "id": "4oLsmhH1KD85",
        "outputId": "f9e4a997-9385-48fb-90b9-87d085b4acf4"
      },
      "outputs": [
        {
          "name": "stdout",
          "output_type": "stream",
          "text": [
            "              precision    recall  f1-score   support\n",
            "\n",
            "           0       1.00      1.00      1.00     85295\n",
            "           1       0.93      0.84      0.88       148\n",
            "\n",
            "    accuracy                           1.00     85443\n",
            "   macro avg       0.96      0.92      0.94     85443\n",
            "weighted avg       1.00      1.00      1.00     85443\n",
            "\n",
            "recall = 0.8445945945945946\n",
            "precision 0.9259259259259259\n"
          ]
        },
        {
          "data": {
            "text/plain": [
              "<function matplotlib.pyplot.show(*args, **kw)>"
            ]
          },
          "execution_count": 53,
          "metadata": {},
          "output_type": "execute_result"
        },
        {
          "data": {
            "image/png": "[encoded data removed]",
            "text/plain": [
              "<Figure size 432x288 with 2 Axes>"
            ]
          },
          "metadata": {},
          "output_type": "display_data"
        },
        {
          "data": {
            "text/plain": [
              "<Figure size 720x360 with 0 Axes>"
            ]
          },
          "metadata": {},
          "output_type": "display_data"
        }
      ],
      "source": [
        "print(classification_report(y_test_extract,y_pred_RandomOverSample_extract))\n",
        "\n",
        "#f1_score =f1_score(y_test, y_pred_RandomOverSample_extract)\n",
        "recall =recall_score(y_test_extract, y_pred_RandomOverSample_extract)\n",
        "precision =precision_score(y_test_extract,y_pred_RandomOverSample_extract)\n",
        "\n",
        "#print('f1_score =', f1_score)\n",
        "print('recall =', recall)\n",
        "print('precision', precision)\n",
        "\n",
        "conf_mat =confusion_matrix(y_test_extract,y_pred_RandomOverSample_extract)\n",
        "                           \n",
        "cm_display =ConfusionMatrixDisplay(confusion_matrix=conf_mat)\n",
        "\n",
        "cm_display.plot()\n",
        "\n",
        "plt.figure(figsize=(10,5))\n",
        "plt.show"
      ]
    },
    {
      "cell_type": "markdown",
      "metadata": {
        "id": "wGUglntbKD86"
      },
      "source": [
        "##### evaluating using standard extracted randomOverSample dataset:"
      ]
    },
    {
      "cell_type": "code",
      "execution_count": null,
      "metadata": {
        "id": "yuNzv3Dbbhi6"
      },
      "outputs": [],
      "source": [
        "rf_model.fit(x_train_extract_standar_RandomOverSample,y_train_standar_RandomOverSample)\n",
        "y_pred_extract_standar_RandomOverSample =rf_model.predict(x_test_exctract)"
      ]
    },
    {
      "cell_type": "code",
      "execution_count": null,
      "metadata": {
        "colab": {
          "base_uri": "https://localhost:8080/",
          "height": 505
        },
        "id": "KnDhSlwNKD87",
        "outputId": "4cbff65e-e07a-4966-b427-628f0ad4438c"
      },
      "outputs": [
        {
          "name": "stdout",
          "output_type": "stream",
          "text": [
            "              precision    recall  f1-score   support\n",
            "\n",
            "           0       1.00      1.00      1.00     85295\n",
            "           1       0.90      0.76      0.82       148\n",
            "\n",
            "    accuracy                           1.00     85443\n",
            "   macro avg       0.95      0.88      0.91     85443\n",
            "weighted avg       1.00      1.00      1.00     85443\n",
            "\n",
            "recall = 0.7567567567567568\n",
            "precision 0.896\n"
          ]
        },
        {
          "data": {
            "text/plain": [
              "<function matplotlib.pyplot.show(*args, **kw)>"
            ]
          },
          "execution_count": 55,
          "metadata": {},
          "output_type": "execute_result"
        },
        {
          "data": {
            "image/png": "[encoded data removed]",
            "text/plain": [
              "<Figure size 432x288 with 2 Axes>"
            ]
          },
          "metadata": {},
          "output_type": "display_data"
        },
        {
          "data": {
            "text/plain": [
              "<Figure size 720x360 with 0 Axes>"
            ]
          },
          "metadata": {},
          "output_type": "display_data"
        }
      ],
      "source": [
        "print(classification_report(y_test_extract,y_pred_extract_standar_RandomOverSample))\n",
        "\n",
        "#f1_score =f1_score(y_test, y_pred_RandomOverSample_extract)\n",
        "recall =recall_score(y_test_extract, y_pred_extract_standar_RandomOverSample)\n",
        "precision =precision_score(y_test_extract,y_pred_extract_standar_RandomOverSample)\n",
        "\n",
        "#print('f1_score =', f1_score)\n",
        "print('recall =', recall)\n",
        "print('precision', precision)\n",
        "\n",
        "conf_mat =confusion_matrix(y_test_extract,y_pred_extract_standar_RandomOverSample)\n",
        "                           \n",
        "cm_display =ConfusionMatrixDisplay(confusion_matrix=conf_mat)\n",
        "\n",
        "cm_display.plot()\n",
        "\n",
        "plt.figure(figsize=(10,5))\n",
        "plt.show"
      ]
    },
    {
      "cell_type": "markdown",
      "metadata": {
        "id": "fkALlfhYKD87"
      },
      "source": [
        "#### SMOTE dataset using RandomForest:"
      ]
    },
    {
      "cell_type": "markdown",
      "metadata": {
        "id": "OAcI9mMHKD88"
      },
      "source": [
        "##### evaluating using original SMOTE dataset:"
      ]
    },
    {
      "cell_type": "code",
      "execution_count": null,
      "metadata": {
        "id": "oZH5xF7_KD88"
      },
      "outputs": [],
      "source": [
        "rf_model.fit(x_train_SMOTE, y_train_SMOTE)\n",
        "y_pred_SMOTE =rf_model.predict(x_test)"
      ]
    },
    {
      "cell_type": "code",
      "execution_count": null,
      "metadata": {
        "colab": {
          "base_uri": "https://localhost:8080/",
          "height": 505
        },
        "id": "i6UY5uiXKD88",
        "outputId": "b5926d65-e9d4-432d-e039-2ae67c780fa9"
      },
      "outputs": [
        {
          "name": "stdout",
          "output_type": "stream",
          "text": [
            "              precision    recall  f1-score   support\n",
            "\n",
            "           0       1.00      1.00      1.00     85295\n",
            "           1       0.90      0.86      0.88       148\n",
            "\n",
            "    accuracy                           1.00     85443\n",
            "   macro avg       0.95      0.93      0.94     85443\n",
            "weighted avg       1.00      1.00      1.00     85443\n",
            "\n",
            "recall = 0.8648648648648649\n",
            "precision 0.8951048951048951\n"
          ]
        },
        {
          "data": {
            "text/plain": [
              "<function matplotlib.pyplot.show(*args, **kw)>"
            ]
          },
          "execution_count": 57,
          "metadata": {},
          "output_type": "execute_result"
        },
        {
          "data": {
            "image/png": "[encoded data removed]",
            "text/plain": [
              "<Figure size 432x288 with 2 Axes>"
            ]
          },
          "metadata": {},
          "output_type": "display_data"
        },
        {
          "data": {
            "text/plain": [
              "<Figure size 720x360 with 0 Axes>"
            ]
          },
          "metadata": {},
          "output_type": "display_data"
        }
      ],
      "source": [
        "print(classification_report(y_test,y_pred_SMOTE))\n",
        "\n",
        "#f1_score =f1_score(y_test, y_pred_RandomOverSample)\n",
        "recall =recall_score(y_test, y_pred_SMOTE)\n",
        "precision =precision_score(y_test,y_pred_SMOTE)\n",
        "\n",
        "#print('f1_score =', f1_score)\n",
        "print('recall =', recall)\n",
        "print('precision', precision)\n",
        "\n",
        "conf_mat =confusion_matrix(y_test,y_pred_SMOTE)\n",
        "                           \n",
        "cm_display =ConfusionMatrixDisplay(confusion_matrix=conf_mat)\n",
        "\n",
        "cm_display.plot()\n",
        "\n",
        "plt.figure(figsize=(10,5))\n",
        "plt.show"
      ]
    },
    {
      "cell_type": "markdown",
      "metadata": {
        "id": "ZOPzuHwsKD89"
      },
      "source": [
        "##### evaluating using original standard SMOTE dataset:"
      ]
    },
    {
      "cell_type": "code",
      "execution_count": null,
      "metadata": {
        "id": "CEoHoSD0KD89"
      },
      "outputs": [],
      "source": [
        "rf_model.fit(x_train_standar_SMOTE, y_train_standar_SMOTE)\n",
        "y_pred_standar_SMOTE=rf_model.predict(x_test)"
      ]
    },
    {
      "cell_type": "code",
      "execution_count": null,
      "metadata": {
        "colab": {
          "base_uri": "https://localhost:8080/",
          "height": 505
        },
        "id": "YywayoQwKD89",
        "outputId": "b99da1c9-0cf5-4c18-91c7-48b839204e70"
      },
      "outputs": [
        {
          "name": "stdout",
          "output_type": "stream",
          "text": [
            "              precision    recall  f1-score   support\n",
            "\n",
            "           0       1.00      1.00      1.00     85295\n",
            "           1       0.88      0.78      0.83       148\n",
            "\n",
            "    accuracy                           1.00     85443\n",
            "   macro avg       0.94      0.89      0.91     85443\n",
            "weighted avg       1.00      1.00      1.00     85443\n",
            "\n",
            "recall = 0.777027027027027\n",
            "precision 0.8846153846153846\n"
          ]
        },
        {
          "data": {
            "text/plain": [
              "<function matplotlib.pyplot.show(*args, **kw)>"
            ]
          },
          "execution_count": 59,
          "metadata": {},
          "output_type": "execute_result"
        },
        {
          "data": {
            "image/png": "[encoded data removed]",
            "text/plain": [
              "<Figure size 432x288 with 2 Axes>"
            ]
          },
          "metadata": {},
          "output_type": "display_data"
        },
        {
          "data": {
            "text/plain": [
              "<Figure size 720x360 with 0 Axes>"
            ]
          },
          "metadata": {},
          "output_type": "display_data"
        }
      ],
      "source": [
        "print(classification_report(y_test,y_pred_standar_SMOTE))\n",
        "\n",
        "#f1_score =f1_score(y_test, y_pred_RandomOverSample_extract)\n",
        "recall =recall_score(y_test, y_pred_standar_SMOTE)\n",
        "precision =precision_score(y_test,y_pred_standar_SMOTE)\n",
        "\n",
        "#print('f1_score =', f1_score)\n",
        "print('recall =', recall)\n",
        "print('precision', precision)\n",
        "\n",
        "conf_mat =confusion_matrix(y_test,y_pred_standar_SMOTE)\n",
        "                           \n",
        "cm_display =ConfusionMatrixDisplay(confusion_matrix=conf_mat)\n",
        "\n",
        "cm_display.plot()\n",
        "\n",
        "plt.figure(figsize=(10,5))\n",
        "plt.show"
      ]
    },
    {
      "cell_type": "markdown",
      "metadata": {
        "id": "Q0uwy5-QKD8-"
      },
      "source": [
        "##### evaluating using extracted features randomOverSample dataset:"
      ]
    },
    {
      "cell_type": "code",
      "execution_count": null,
      "metadata": {
        "id": "EunAdbxPKD8-"
      },
      "outputs": [],
      "source": [
        "rf_model.fit(x_train_extract_SMOTE,y_train_extract_SMOTE)\n",
        "y_pred_SMOTE_extract=rf_model.predict(x_test_exctract)"
      ]
    },
    {
      "cell_type": "code",
      "execution_count": null,
      "metadata": {
        "colab": {
          "base_uri": "https://localhost:8080/",
          "height": 505
        },
        "id": "dRoWK02RKD8-",
        "outputId": "dc912508-716c-4aca-a8be-11d33844eb64"
      },
      "outputs": [
        {
          "name": "stdout",
          "output_type": "stream",
          "text": [
            "              precision    recall  f1-score   support\n",
            "\n",
            "           0       1.00      1.00      1.00     85295\n",
            "           1       0.83      0.86      0.84       148\n",
            "\n",
            "    accuracy                           1.00     85443\n",
            "   macro avg       0.91      0.93      0.92     85443\n",
            "weighted avg       1.00      1.00      1.00     85443\n",
            "\n",
            "recall = 0.8648648648648649\n",
            "precision 0.8258064516129032\n"
          ]
        },
        {
          "data": {
            "text/plain": [
              "<function matplotlib.pyplot.show(*args, **kw)>"
            ]
          },
          "execution_count": 61,
          "metadata": {},
          "output_type": "execute_result"
        },
        {
          "data": {
            "image/png": "[encoded data removed]",
            "text/plain": [
              "<Figure size 432x288 with 2 Axes>"
            ]
          },
          "metadata": {},
          "output_type": "display_data"
        },
        {
          "data": {
            "text/plain": [
              "<Figure size 720x360 with 0 Axes>"
            ]
          },
          "metadata": {},
          "output_type": "display_data"
        }
      ],
      "source": [
        "print(classification_report(y_test_extract,y_pred_SMOTE_extract))\n",
        "\n",
        "#f1_score =f1_score(y_test, y_pred_RandomOverSample_extract)\n",
        "recall =recall_score(y_test_extract, y_pred_SMOTE_extract)\n",
        "precision =precision_score(y_test_extract,y_pred_SMOTE_extract)\n",
        "\n",
        "#print('f1_score =', f1_score)\n",
        "print('recall =', recall)\n",
        "print('precision', precision)\n",
        "\n",
        "conf_mat =confusion_matrix(y_test_extract,y_pred_SMOTE_extract)\n",
        "                           \n",
        "cm_display =ConfusionMatrixDisplay(confusion_matrix=conf_mat)\n",
        "\n",
        "cm_display.plot()\n",
        "\n",
        "plt.figure(figsize=(10,5))\n",
        "plt.show"
      ]
    },
    {
      "cell_type": "markdown",
      "metadata": {
        "id": "bUxtLSFGKD8_"
      },
      "source": [
        "##### evaluating using standard extracted randomOverSample dataset:"
      ]
    },
    {
      "cell_type": "code",
      "execution_count": null,
      "metadata": {
        "id": "tDz39w5cKD8_"
      },
      "outputs": [],
      "source": [
        "rf_model.fit(x_train_extract_standar_SMOTE,y_train_standar_SMOTE)\n",
        "y_pred_extract_standar_SMOTE =rf_model.predict(x_test_exctract)"
      ]
    },
    {
      "cell_type": "code",
      "execution_count": null,
      "metadata": {
        "colab": {
          "base_uri": "https://localhost:8080/",
          "height": 505
        },
        "id": "KzTKtkzkKD8_",
        "outputId": "edcc70d4-219e-4210-b4ad-90f9fbf5c010"
      },
      "outputs": [
        {
          "name": "stdout",
          "output_type": "stream",
          "text": [
            "              precision    recall  f1-score   support\n",
            "\n",
            "           0       1.00      1.00      1.00     85295\n",
            "           1       0.90      0.76      0.82       148\n",
            "\n",
            "    accuracy                           1.00     85443\n",
            "   macro avg       0.95      0.88      0.91     85443\n",
            "weighted avg       1.00      1.00      1.00     85443\n",
            "\n",
            "recall = 0.7635135135135135\n",
            "precision 0.8968253968253969\n"
          ]
        },
        {
          "data": {
            "text/plain": [
              "<function matplotlib.pyplot.show(*args, **kw)>"
            ]
          },
          "execution_count": 63,
          "metadata": {},
          "output_type": "execute_result"
        },
        {
          "data": {
            "image/png": "[encoded data removed]",
            "text/plain": [
              "<Figure size 432x288 with 2 Axes>"
            ]
          },
          "metadata": {},
          "output_type": "display_data"
        },
        {
          "data": {
            "text/plain": [
              "<Figure size 720x360 with 0 Axes>"
            ]
          },
          "metadata": {},
          "output_type": "display_data"
        }
      ],
      "source": [
        "print(classification_report(y_test_extract,y_pred_extract_standar_SMOTE))\n",
        "\n",
        "#f1_score =f1_score(y_test, y_pred_RandomOverSample_extract)\n",
        "recall =recall_score(y_test_extract, y_pred_extract_standar_SMOTE)\n",
        "precision =precision_score(y_test_extract,y_pred_extract_standar_SMOTE)\n",
        "\n",
        "#print('f1_score =', f1_score)\n",
        "print('recall =', recall)\n",
        "print('precision', precision)\n",
        "\n",
        "conf_mat =confusion_matrix(y_test_extract,y_pred_extract_standar_SMOTE)\n",
        "                           \n",
        "cm_display =ConfusionMatrixDisplay(confusion_matrix=conf_mat)\n",
        "\n",
        "cm_display.plot()\n",
        "\n",
        "plt.figure(figsize=(10,5))\n",
        "plt.show"
      ]
    },
    {
      "cell_type": "markdown",
      "metadata": {
        "id": "I_1xMpSO90rm"
      },
      "source": [
        "### LogesticRegression:\n"
      ]
    },
    {
      "cell_type": "code",
      "execution_count": null,
      "metadata": {
        "id": "xEm9fDOI90rm"
      },
      "outputs": [],
      "source": [
        "from sklearn.linear_model import LogisticRegression\n",
        "\n",
        "log_model =LogisticRegression()"
      ]
    },
    {
      "cell_type": "markdown",
      "metadata": {
        "id": "UcX0w7YEGg3G"
      },
      "source": [
        "#### Original dataset using logisticRegression:"
      ]
    },
    {
      "cell_type": "markdown",
      "metadata": {
        "id": "9u3QSW3LBi9u"
      },
      "source": [
        "##### evaluation using original dataset:"
      ]
    },
    {
      "cell_type": "code",
      "execution_count": null,
      "metadata": {
        "colab": {
          "base_uri": "https://localhost:8080/"
        },
        "id": "kaX7SachBi9v",
        "outputId": "e945983b-ad1c-4722-ea99-5653b0595fb1"
      },
      "outputs": [
        {
          "name": "stderr",
          "output_type": "stream",
          "text": [
            "/usr/local/lib/python3.7/dist-packages/sklearn/linear_model/_logistic.py:818: ConvergenceWarning: lbfgs failed to converge (status=1):\n",
            "STOP: TOTAL NO. of ITERATIONS REACHED LIMIT.\n",
            "\n",
            "Increase the number of iterations (max_iter) or scale the data as shown in:\n",
            "    https://scikit-learn.org/stable/modules/preprocessing.html\n",
            "Please also refer to the documentation for alternative solver options:\n",
            "    https://scikit-learn.org/stable/modules/linear_model.html#logistic-regression\n",
            "  extra_warning_msg=_LOGISTIC_SOLVER_CONVERGENCE_MSG,\n"
          ]
        }
      ],
      "source": [
        "log_model.fit(x_train, y_train)\n",
        "y_pred =log_model.predict(x_test)"
      ]
    },
    {
      "cell_type": "code",
      "execution_count": null,
      "metadata": {
        "colab": {
          "base_uri": "https://localhost:8080/",
          "height": 505
        },
        "id": "mNHclHAsBi9w",
        "outputId": "acf52fe5-8af4-46a9-d1b1-7b61c0cdbc83"
      },
      "outputs": [
        {
          "name": "stdout",
          "output_type": "stream",
          "text": [
            "              precision    recall  f1-score   support\n",
            "\n",
            "           0       1.00      1.00      1.00     85295\n",
            "           1       0.74      0.73      0.73       148\n",
            "\n",
            "    accuracy                           1.00     85443\n",
            "   macro avg       0.87      0.86      0.87     85443\n",
            "weighted avg       1.00      1.00      1.00     85443\n",
            "\n",
            "recall = 0.7297297297297297\n",
            "precision 0.7397260273972602\n"
          ]
        },
        {
          "data": {
            "text/plain": [
              "<function matplotlib.pyplot.show(*args, **kw)>"
            ]
          },
          "execution_count": 66,
          "metadata": {},
          "output_type": "execute_result"
        },
        {
          "data": {
            "image/png": "[encoded data removed]",
            "text/plain": [
              "<Figure size 432x288 with 2 Axes>"
            ]
          },
          "metadata": {},
          "output_type": "display_data"
        },
        {
          "data": {
            "text/plain": [
              "<Figure size 720x360 with 0 Axes>"
            ]
          },
          "metadata": {},
          "output_type": "display_data"
        }
      ],
      "source": [
        "print(classification_report(y_test,y_pred))\n",
        "\n",
        "#f1_score =f1_score(y_test, y_pred)\n",
        "recall =recall_score(y_test, y_pred)\n",
        "precision =precision_score(y_test,y_pred)\n",
        "\n",
        "#print('f1_score =', f1_score)\n",
        "print('recall =', recall)\n",
        "print('precision', precision)\n",
        "\n",
        "conf_mat =confusion_matrix(y_test,y_pred)\n",
        "                           \n",
        "cm_display =ConfusionMatrixDisplay(confusion_matrix=conf_mat)\n",
        "\n",
        "cm_display.plot()\n",
        "\n",
        "plt.figure(figsize=(10,5))\n",
        "plt.show"
      ]
    },
    {
      "cell_type": "markdown",
      "metadata": {
        "id": "cOj9RijU90rm"
      },
      "source": [
        "##### evaluation using standaraized original dataset:"
      ]
    },
    {
      "cell_type": "code",
      "execution_count": null,
      "metadata": {
        "id": "TMQEsHOv90rm"
      },
      "outputs": [],
      "source": [
        "log_model.fit(x_train_standar,y_train)\n",
        "y_pred_standar =log_model.predict(x_test)"
      ]
    },
    {
      "cell_type": "code",
      "execution_count": null,
      "metadata": {
        "colab": {
          "base_uri": "https://localhost:8080/",
          "height": 522
        },
        "id": "EZ6z_Apg90rm",
        "outputId": "d0a9483c-02a3-4394-e45b-815ba43b6e85"
      },
      "outputs": [
        {
          "name": "stdout",
          "output_type": "stream",
          "text": [
            "              precision    recall  f1-score   support\n",
            "\n",
            "           0       1.00      1.00      1.00     85295\n",
            "           1       0.00      0.00      0.00       148\n",
            "\n",
            "    accuracy                           1.00     85443\n",
            "   macro avg       0.50      0.50      0.50     85443\n",
            "weighted avg       1.00      1.00      1.00     85443\n",
            "\n",
            "f1_score = 0.7346938775510203\n",
            "recall = 0.0\n",
            "precision 0.0\n"
          ]
        },
        {
          "data": {
            "text/plain": [
              "<function matplotlib.pyplot.show(*args, **kw)>"
            ]
          },
          "execution_count": 68,
          "metadata": {},
          "output_type": "execute_result"
        },
        {
          "data": {
            "image/png": "[encoded data removed]",
            "text/plain": [
              "<Figure size 432x288 with 2 Axes>"
            ]
          },
          "metadata": {},
          "output_type": "display_data"
        },
        {
          "data": {
            "text/plain": [
              "<Figure size 720x360 with 0 Axes>"
            ]
          },
          "metadata": {},
          "output_type": "display_data"
        }
      ],
      "source": [
        "from sklearn.metrics import classification_report, f1_score , recall_score, precision_score, confusion_matrix, ConfusionMatrixDisplay\n",
        "\n",
        "print(classification_report(y_test,y_pred_standar))\n",
        "\n",
        "f1_score =f1_score(y_test, y_pred)\n",
        "recall =recall_score(y_test, y_pred_standar)\n",
        "precision =precision_score(y_test,y_pred_standar)\n",
        "\n",
        "print('f1_score =', f1_score)\n",
        "print('recall =', recall)\n",
        "print('precision', precision)\n",
        "\n",
        "conf_mat =confusion_matrix(y_test,y_pred_standar)\n",
        "                           \n",
        "cm_display =ConfusionMatrixDisplay(confusion_matrix=conf_mat)\n",
        "\n",
        "cm_display.plot()\n",
        "\n",
        "plt.figure(figsize=(10,5))\n",
        "plt.show"
      ]
    },
    {
      "cell_type": "markdown",
      "metadata": {
        "id": "IDo4uv76Gngy"
      },
      "source": [
        "#### randomOverSample dataset using logisticRegression:"
      ]
    },
    {
      "cell_type": "markdown",
      "metadata": {
        "id": "rhFhVFtN90rn"
      },
      "source": [
        "##### evaluating using original randomOverSample dataset:"
      ]
    },
    {
      "cell_type": "code",
      "execution_count": null,
      "metadata": {
        "id": "tpdq6noF90rn"
      },
      "outputs": [],
      "source": [
        "log_model.fit(x_train_RandomOverSample, y_train_RandomOverSample)\n",
        "y_pred_RandomOverSample =log_model.predict(x_test)"
      ]
    },
    {
      "cell_type": "code",
      "execution_count": null,
      "metadata": {
        "colab": {
          "base_uri": "https://localhost:8080/",
          "height": 505
        },
        "id": "fqLFqZqb90rn",
        "outputId": "0d073197-5153-406a-c993-16c73d44c0d9"
      },
      "outputs": [
        {
          "name": "stdout",
          "output_type": "stream",
          "text": [
            "              precision    recall  f1-score   support\n",
            "\n",
            "           0       1.00      0.96      0.98     85295\n",
            "           1       0.04      0.91      0.08       148\n",
            "\n",
            "    accuracy                           0.96     85443\n",
            "   macro avg       0.52      0.94      0.53     85443\n",
            "weighted avg       1.00      0.96      0.98     85443\n",
            "\n",
            "recall = 0.9121621621621622\n",
            "precision 0.04022646007151371\n"
          ]
        },
        {
          "data": {
            "text/plain": [
              "<function matplotlib.pyplot.show(*args, **kw)>"
            ]
          },
          "execution_count": 70,
          "metadata": {},
          "output_type": "execute_result"
        },
        {
          "data": {
            "image/png": "[encoded data removed]",
            "text/plain": [
              "<Figure size 432x288 with 2 Axes>"
            ]
          },
          "metadata": {},
          "output_type": "display_data"
        },
        {
          "data": {
            "text/plain": [
              "<Figure size 720x360 with 0 Axes>"
            ]
          },
          "metadata": {},
          "output_type": "display_data"
        }
      ],
      "source": [
        "print(classification_report(y_test,y_pred_RandomOverSample))\n",
        "\n",
        "#f1_score =f1_score(y_test, y_pred_RandomOverSample)\n",
        "recall =recall_score(y_test, y_pred_RandomOverSample)\n",
        "precision =precision_score(y_test,y_pred_RandomOverSample)\n",
        "\n",
        "#print('f1_score =', f1_score)\n",
        "print('recall =', recall)\n",
        "print('precision', precision)\n",
        "\n",
        "conf_mat =confusion_matrix(y_test,y_pred_RandomOverSample)\n",
        "                           \n",
        "cm_display =ConfusionMatrixDisplay(confusion_matrix=conf_mat)\n",
        "\n",
        "cm_display.plot()\n",
        "\n",
        "plt.figure(figsize=(10,5))\n",
        "plt.show"
      ]
    },
    {
      "cell_type": "markdown",
      "metadata": {
        "id": "7YRShDuND880"
      },
      "source": [
        "##### evaluating using original standard randomOverSample dataset:"
      ]
    },
    {
      "cell_type": "code",
      "execution_count": null,
      "metadata": {
        "id": "M8tsX4zoEQ8z"
      },
      "outputs": [],
      "source": [
        "log_model.fit(x_train_standar_RandomOverSample, y_train_standar_RandomOverSample)\n",
        "y_pred_standar_RandomOverSample=log_model.predict(x_test)"
      ]
    },
    {
      "cell_type": "code",
      "execution_count": null,
      "metadata": {
        "colab": {
          "base_uri": "https://localhost:8080/",
          "height": 505
        },
        "id": "NVOGdbfoEQ80",
        "outputId": "aebc6a0a-6729-47c5-f543-c6d0db4d21d7"
      },
      "outputs": [
        {
          "name": "stdout",
          "output_type": "stream",
          "text": [
            "              precision    recall  f1-score   support\n",
            "\n",
            "           0       1.00      1.00      1.00     85295\n",
            "           1       0.00      0.00      0.00       148\n",
            "\n",
            "    accuracy                           1.00     85443\n",
            "   macro avg       0.50      0.50      0.50     85443\n",
            "weighted avg       1.00      1.00      1.00     85443\n",
            "\n",
            "recall = 0.0\n",
            "precision 0.0\n"
          ]
        },
        {
          "data": {
            "text/plain": [
              "<function matplotlib.pyplot.show(*args, **kw)>"
            ]
          },
          "execution_count": 72,
          "metadata": {},
          "output_type": "execute_result"
        },
        {
          "data": {
            "image/png": "[encoded data removed]",
            "text/plain": [
              "<Figure size 432x288 with 2 Axes>"
            ]
          },
          "metadata": {},
          "output_type": "display_data"
        },
        {
          "data": {
            "text/plain": [
              "<Figure size 720x360 with 0 Axes>"
            ]
          },
          "metadata": {},
          "output_type": "display_data"
        }
      ],
      "source": [
        "print(classification_report(y_test,y_pred_standar_RandomOverSample))\n",
        "\n",
        "#f1_score =f1_score(y_test, y_pred_RandomOverSample_extract)\n",
        "recall =recall_score(y_test, y_pred_standar_RandomOverSample)\n",
        "precision =precision_score(y_test,y_pred_standar_RandomOverSample)\n",
        "\n",
        "#print('f1_score =', f1_score)\n",
        "print('recall =', recall)\n",
        "print('precision', precision)\n",
        "\n",
        "conf_mat =confusion_matrix(y_test,y_pred_standar_RandomOverSample)\n",
        "                           \n",
        "cm_display =ConfusionMatrixDisplay(confusion_matrix=conf_mat)\n",
        "\n",
        "cm_display.plot()\n",
        "\n",
        "plt.figure(figsize=(10,5))\n",
        "plt.show"
      ]
    },
    {
      "cell_type": "markdown",
      "metadata": {
        "id": "bfWJ2vYG90rn"
      },
      "source": [
        "##### evaluating using extracted features randomOverSample dataset:"
      ]
    },
    {
      "cell_type": "code",
      "execution_count": null,
      "metadata": {
        "id": "EIpb3j-C90rn"
      },
      "outputs": [],
      "source": [
        "log_model.fit(x_train_extract_RandomOverSample,y_train_RandomOverSample)\n",
        "y_pred_RandomOverSample_extract=log_model.predict(x_test_exctract)"
      ]
    },
    {
      "cell_type": "code",
      "execution_count": null,
      "metadata": {
        "colab": {
          "base_uri": "https://localhost:8080/",
          "height": 505
        },
        "id": "RaDUaJmi90rn",
        "outputId": "4296b882-f05d-431c-d8c6-14e655851090"
      },
      "outputs": [
        {
          "name": "stdout",
          "output_type": "stream",
          "text": [
            "              precision    recall  f1-score   support\n",
            "\n",
            "           0       1.00      0.97      0.99     85295\n",
            "           1       0.06      0.91      0.11       148\n",
            "\n",
            "    accuracy                           0.97     85443\n",
            "   macro avg       0.53      0.94      0.55     85443\n",
            "weighted avg       1.00      0.97      0.99     85443\n",
            "\n",
            "recall = 0.9121621621621622\n",
            "precision 0.05867014341590613\n"
          ]
        },
        {
          "data": {
            "text/plain": [
              "<function matplotlib.pyplot.show(*args, **kw)>"
            ]
          },
          "execution_count": 74,
          "metadata": {},
          "output_type": "execute_result"
        },
        {
          "data": {
            "image/png": "[encoded data removed]",
            "text/plain": [
              "<Figure size 432x288 with 2 Axes>"
            ]
          },
          "metadata": {},
          "output_type": "display_data"
        },
        {
          "data": {
            "text/plain": [
              "<Figure size 720x360 with 0 Axes>"
            ]
          },
          "metadata": {},
          "output_type": "display_data"
        }
      ],
      "source": [
        "print(classification_report(y_test_extract,y_pred_RandomOverSample_extract))\n",
        "\n",
        "#f1_score =f1_score(y_test, y_pred_RandomOverSample_extract)\n",
        "recall =recall_score(y_test_extract, y_pred_RandomOverSample_extract)\n",
        "precision =precision_score(y_test_extract,y_pred_RandomOverSample_extract)\n",
        "\n",
        "#print('f1_score =', f1_score)\n",
        "print('recall =', recall)\n",
        "print('precision', precision)\n",
        "\n",
        "conf_mat =confusion_matrix(y_test_extract,y_pred_RandomOverSample_extract)\n",
        "                           \n",
        "cm_display =ConfusionMatrixDisplay(confusion_matrix=conf_mat)\n",
        "\n",
        "cm_display.plot()\n",
        "\n",
        "plt.figure(figsize=(10,5))\n",
        "plt.show"
      ]
    },
    {
      "cell_type": "markdown",
      "metadata": {
        "id": "5B1HNv98EH-O"
      },
      "source": [
        "##### evaluating using standard extracted randomOverSample dataset:"
      ]
    },
    {
      "cell_type": "code",
      "execution_count": null,
      "metadata": {
        "id": "q3hkPDhwESu_"
      },
      "outputs": [],
      "source": [
        "log_model.fit(x_train_extract_standar_RandomOverSample,y_train_standar_RandomOverSample)\n",
        "y_pred_extract_standar_RandomOverSample =log_model.predict(x_test_exctract)"
      ]
    },
    {
      "cell_type": "code",
      "execution_count": null,
      "metadata": {
        "colab": {
          "base_uri": "https://localhost:8080/",
          "height": 507
        },
        "id": "66fwydNSESvA",
        "outputId": "259e9998-95dc-4177-c2e3-10ae0162214b"
      },
      "outputs": [
        {
          "name": "stdout",
          "output_type": "stream",
          "text": [
            "              precision    recall  f1-score   support\n",
            "\n",
            "           0       1.00      0.95      0.97     85295\n",
            "           1       0.03      0.93      0.06       148\n",
            "\n",
            "    accuracy                           0.95     85443\n",
            "   macro avg       0.51      0.94      0.51     85443\n",
            "weighted avg       1.00      0.95      0.97     85443\n",
            "\n",
            "recall = 0.9256756756756757\n",
            "precision 0.0293173550181896\n"
          ]
        },
        {
          "data": {
            "text/plain": [
              "<function matplotlib.pyplot.show(*args, **kw)>"
            ]
          },
          "execution_count": 76,
          "metadata": {},
          "output_type": "execute_result"
        },
        {
          "data": {
            "image/png": "[encoded data removed]",
            "text/plain": [
              "<Figure size 432x288 with 2 Axes>"
            ]
          },
          "metadata": {},
          "output_type": "display_data"
        },
        {
          "data": {
            "text/plain": [
              "<Figure size 720x360 with 0 Axes>"
            ]
          },
          "metadata": {},
          "output_type": "display_data"
        }
      ],
      "source": [
        "print(classification_report(y_test_extract,y_pred_extract_standar_RandomOverSample))\n",
        "\n",
        "#f1_score =f1_score(y_test, y_pred_RandomOverSample_extract)\n",
        "recall =recall_score(y_test_extract, y_pred_extract_standar_RandomOverSample)\n",
        "precision =precision_score(y_test_extract,y_pred_extract_standar_RandomOverSample)\n",
        "\n",
        "#print('f1_score =', f1_score)\n",
        "print('recall =', recall)\n",
        "print('precision', precision)\n",
        "\n",
        "conf_mat =confusion_matrix(y_test_extract,y_pred_extract_standar_RandomOverSample)\n",
        "                           \n",
        "cm_display =ConfusionMatrixDisplay(confusion_matrix=conf_mat)\n",
        "\n",
        "cm_display.plot()\n",
        "\n",
        "plt.figure(figsize=(10,5))\n",
        "plt.show"
      ]
    },
    {
      "cell_type": "markdown",
      "metadata": {
        "id": "guk8PSPRGy51"
      },
      "source": [
        "#### SMOTE dataset using logisticRegression:"
      ]
    },
    {
      "cell_type": "markdown",
      "metadata": {
        "id": "C_CSV_XkHL5l"
      },
      "source": [
        "##### evaluating using original SMOTE dataset:"
      ]
    },
    {
      "cell_type": "code",
      "execution_count": null,
      "metadata": {
        "colab": {
          "base_uri": "https://localhost:8080/"
        },
        "id": "ECSlOwiyHL5m",
        "outputId": "f5c3d228-c90b-473b-c0df-c5f960d45e28"
      },
      "outputs": [
        {
          "name": "stderr",
          "output_type": "stream",
          "text": [
            "/usr/local/lib/python3.7/dist-packages/sklearn/linear_model/_logistic.py:818: ConvergenceWarning: lbfgs failed to converge (status=1):\n",
            "STOP: TOTAL NO. of ITERATIONS REACHED LIMIT.\n",
            "\n",
            "Increase the number of iterations (max_iter) or scale the data as shown in:\n",
            "    https://scikit-learn.org/stable/modules/preprocessing.html\n",
            "Please also refer to the documentation for alternative solver options:\n",
            "    https://scikit-learn.org/stable/modules/linear_model.html#logistic-regression\n",
            "  extra_warning_msg=_LOGISTIC_SOLVER_CONVERGENCE_MSG,\n"
          ]
        }
      ],
      "source": [
        "log_model.fit(x_train_SMOTE, y_train_SMOTE)\n",
        "y_pred_SMOTE =log_model.predict(x_test)"
      ]
    },
    {
      "cell_type": "code",
      "execution_count": null,
      "metadata": {
        "colab": {
          "base_uri": "https://localhost:8080/",
          "height": 505
        },
        "id": "H-oRc3ouHL5m",
        "outputId": "b1ac6617-cc45-4f1c-9bad-c5fd45808d3b"
      },
      "outputs": [
        {
          "name": "stdout",
          "output_type": "stream",
          "text": [
            "              precision    recall  f1-score   support\n",
            "\n",
            "           0       1.00      0.98      0.99     85295\n",
            "           1       0.07      0.91      0.14       148\n",
            "\n",
            "    accuracy                           0.98     85443\n",
            "   macro avg       0.54      0.94      0.56     85443\n",
            "weighted avg       1.00      0.98      0.99     85443\n",
            "\n",
            "recall = 0.9054054054054054\n",
            "precision 0.07461024498886415\n"
          ]
        },
        {
          "data": {
            "text/plain": [
              "<function matplotlib.pyplot.show(*args, **kw)>"
            ]
          },
          "execution_count": 78,
          "metadata": {},
          "output_type": "execute_result"
        },
        {
          "data": {
            "image/png": "[encoded data removed]",
            "text/plain": [
              "<Figure size 432x288 with 2 Axes>"
            ]
          },
          "metadata": {},
          "output_type": "display_data"
        },
        {
          "data": {
            "text/plain": [
              "<Figure size 720x360 with 0 Axes>"
            ]
          },
          "metadata": {},
          "output_type": "display_data"
        }
      ],
      "source": [
        "print(classification_report(y_test,y_pred_SMOTE))\n",
        "\n",
        "#f1_score =f1_score(y_test, y_pred_RandomOverSample)\n",
        "recall =recall_score(y_test, y_pred_SMOTE)\n",
        "precision =precision_score(y_test,y_pred_SMOTE)\n",
        "\n",
        "#print('f1_score =', f1_score)\n",
        "print('recall =', recall)\n",
        "print('precision', precision)\n",
        "\n",
        "conf_mat =confusion_matrix(y_test,y_pred_SMOTE)\n",
        "                           \n",
        "cm_display =ConfusionMatrixDisplay(confusion_matrix=conf_mat)\n",
        "\n",
        "cm_display.plot()\n",
        "\n",
        "plt.figure(figsize=(10,5))\n",
        "plt.show"
      ]
    },
    {
      "cell_type": "markdown",
      "metadata": {
        "id": "0XFTP1DYHL5n"
      },
      "source": [
        "##### evaluating using original standard randomOverSample dataset:"
      ]
    },
    {
      "cell_type": "code",
      "execution_count": null,
      "metadata": {
        "id": "lC7MFhGfHL5o"
      },
      "outputs": [],
      "source": [
        "log_model.fit(x_train_standar_SMOTE, y_train_standar_SMOTE)\n",
        "y_pred_standar_SMOTE=log_model.predict(x_test)"
      ]
    },
    {
      "cell_type": "code",
      "execution_count": null,
      "metadata": {
        "colab": {
          "base_uri": "https://localhost:8080/",
          "height": 505
        },
        "id": "_TClo61EHL5p",
        "outputId": "cd5872bd-521b-4b94-f9e3-92966aca8263"
      },
      "outputs": [
        {
          "name": "stdout",
          "output_type": "stream",
          "text": [
            "              precision    recall  f1-score   support\n",
            "\n",
            "           0       1.00      1.00      1.00     85295\n",
            "           1       0.00      0.00      0.00       148\n",
            "\n",
            "    accuracy                           1.00     85443\n",
            "   macro avg       0.50      0.50      0.50     85443\n",
            "weighted avg       1.00      1.00      1.00     85443\n",
            "\n",
            "recall = 0.0\n",
            "precision 0.0\n"
          ]
        },
        {
          "data": {
            "text/plain": [
              "<function matplotlib.pyplot.show(*args, **kw)>"
            ]
          },
          "execution_count": 80,
          "metadata": {},
          "output_type": "execute_result"
        },
        {
          "data": {
            "image/png": "[encoded data removed]",
            "text/plain": [
              "<Figure size 432x288 with 2 Axes>"
            ]
          },
          "metadata": {},
          "output_type": "display_data"
        },
        {
          "data": {
            "text/plain": [
              "<Figure size 720x360 with 0 Axes>"
            ]
          },
          "metadata": {},
          "output_type": "display_data"
        }
      ],
      "source": [
        "print(classification_report(y_test,y_pred_standar_SMOTE))\n",
        "\n",
        "#f1_score =f1_score(y_test, y_pred_RandomOverSample_extract)\n",
        "recall =recall_score(y_test, y_pred_standar_SMOTE)\n",
        "precision =precision_score(y_test,y_pred_standar_SMOTE)\n",
        "\n",
        "#print('f1_score =', f1_score)\n",
        "print('recall =', recall)\n",
        "print('precision', precision)\n",
        "\n",
        "conf_mat =confusion_matrix(y_test,y_pred_standar_SMOTE)\n",
        "                           \n",
        "cm_display =ConfusionMatrixDisplay(confusion_matrix=conf_mat)\n",
        "\n",
        "cm_display.plot()\n",
        "\n",
        "plt.figure(figsize=(10,5))\n",
        "plt.show"
      ]
    },
    {
      "cell_type": "markdown",
      "metadata": {
        "id": "qxjYP1tNHL5q"
      },
      "source": [
        "##### evaluating using extracted features randomOverSample dataset:"
      ]
    },
    {
      "cell_type": "code",
      "execution_count": null,
      "metadata": {
        "id": "z9dJkqGAHL5q"
      },
      "outputs": [],
      "source": [
        "log_model.fit(x_train_extract_SMOTE,y_train_extract_SMOTE)\n",
        "y_pred_SMOTE_extract=log_model.predict(x_test_exctract)"
      ]
    },
    {
      "cell_type": "code",
      "execution_count": null,
      "metadata": {
        "colab": {
          "base_uri": "https://localhost:8080/",
          "height": 505
        },
        "id": "KXl2J888HL5q",
        "outputId": "8633796e-884a-4007-deed-ee66d52c89ae"
      },
      "outputs": [
        {
          "name": "stdout",
          "output_type": "stream",
          "text": [
            "              precision    recall  f1-score   support\n",
            "\n",
            "           0       1.00      0.97      0.99     85295\n",
            "           1       0.05      0.92      0.10       148\n",
            "\n",
            "    accuracy                           0.97     85443\n",
            "   macro avg       0.53      0.94      0.54     85443\n",
            "weighted avg       1.00      0.97      0.98     85443\n",
            "\n",
            "recall = 0.918918918918919\n",
            "precision 0.051495645588792126\n"
          ]
        },
        {
          "data": {
            "text/plain": [
              "<function matplotlib.pyplot.show(*args, **kw)>"
            ]
          },
          "execution_count": 82,
          "metadata": {},
          "output_type": "execute_result"
        },
        {
          "data": {
            "image/png": "[encoded data removed]",
            "text/plain": [
              "<Figure size 432x288 with 2 Axes>"
            ]
          },
          "metadata": {},
          "output_type": "display_data"
        },
        {
          "data": {
            "text/plain": [
              "<Figure size 720x360 with 0 Axes>"
            ]
          },
          "metadata": {},
          "output_type": "display_data"
        }
      ],
      "source": [
        "print(classification_report(y_test_extract,y_pred_SMOTE_extract))\n",
        "\n",
        "#f1_score =f1_score(y_test, y_pred_RandomOverSample_extract)\n",
        "recall =recall_score(y_test_extract, y_pred_SMOTE_extract)\n",
        "precision =precision_score(y_test_extract,y_pred_SMOTE_extract)\n",
        "\n",
        "#print('f1_score =', f1_score)\n",
        "print('recall =', recall)\n",
        "print('precision', precision)\n",
        "\n",
        "conf_mat =confusion_matrix(y_test_extract,y_pred_SMOTE_extract)\n",
        "                           \n",
        "cm_display =ConfusionMatrixDisplay(confusion_matrix=conf_mat)\n",
        "\n",
        "cm_display.plot()\n",
        "\n",
        "plt.figure(figsize=(10,5))\n",
        "plt.show"
      ]
    },
    {
      "cell_type": "markdown",
      "metadata": {
        "id": "G_HLpXfVHL5q"
      },
      "source": [
        "##### evaluating using standard extracted randomOverSample dataset:"
      ]
    },
    {
      "cell_type": "code",
      "execution_count": null,
      "metadata": {
        "id": "z8lWfMrkHL5q"
      },
      "outputs": [],
      "source": [
        "log_model.fit(x_train_extract_standar_SMOTE,y_train_standar_SMOTE)\n",
        "y_pred_extract_standar_SMOTE =log_model.predict(x_test_exctract)"
      ]
    },
    {
      "cell_type": "code",
      "execution_count": null,
      "metadata": {
        "colab": {
          "base_uri": "https://localhost:8080/",
          "height": 509
        },
        "id": "63WjJQWuHL5q",
        "outputId": "fce49690-73ee-4ee3-ca91-2937e79ac50a"
      },
      "outputs": [
        {
          "name": "stdout",
          "output_type": "stream",
          "text": [
            "              precision    recall  f1-score   support\n",
            "\n",
            "           0       1.00      0.94      0.97     85295\n",
            "           1       0.03      0.93      0.05       148\n",
            "\n",
            "    accuracy                           0.94     85443\n",
            "   macro avg       0.51      0.93      0.51     85443\n",
            "weighted avg       1.00      0.94      0.97     85443\n",
            "\n",
            "recall = 0.9256756756756757\n",
            "precision 0.025718040172705087\n"
          ]
        },
        {
          "data": {
            "text/plain": [
              "<function matplotlib.pyplot.show(*args, **kw)>"
            ]
          },
          "execution_count": 84,
          "metadata": {},
          "output_type": "execute_result"
        },
        {
          "data": {
            "image/png": "[encoded data removed]",
            "text/plain": [
              "<Figure size 432x288 with 2 Axes>"
            ]
          },
          "metadata": {},
          "output_type": "display_data"
        },
        {
          "data": {
            "text/plain": [
              "<Figure size 720x360 with 0 Axes>"
            ]
          },
          "metadata": {},
          "output_type": "display_data"
        }
      ],
      "source": [
        "print(classification_report(y_test_extract,y_pred_extract_standar_SMOTE))\n",
        "\n",
        "#f1_score =f1_score(y_test, y_pred_RandomOverSample_extract)\n",
        "recall =recall_score(y_test_extract, y_pred_extract_standar_SMOTE)\n",
        "precision =precision_score(y_test_extract,y_pred_extract_standar_SMOTE)\n",
        "\n",
        "#print('f1_score =', f1_score)\n",
        "print('recall =', recall)\n",
        "print('precision', precision)\n",
        "\n",
        "conf_mat =confusion_matrix(y_test_extract,y_pred_extract_standar_SMOTE)\n",
        "                           \n",
        "cm_display =ConfusionMatrixDisplay(confusion_matrix=conf_mat)\n",
        "\n",
        "cm_display.plot()\n",
        "\n",
        "plt.figure(figsize=(10,5))\n",
        "plt.show"
      ]
    },
    {
      "cell_type": "markdown",
      "metadata": {
        "id": "c91_TPl0CGLf"
      },
      "source": [
        "### Adaboost:\n"
      ]
    },
    {
      "cell_type": "code",
      "execution_count": null,
      "metadata": {
        "id": "Opwsy9KOCGLg"
      },
      "outputs": [],
      "source": [
        "from sklearn.ensemble import AdaBoostClassifier\n",
        "\n",
        "ada_classifier =AdaBoostClassifier()"
      ]
    },
    {
      "cell_type": "markdown",
      "metadata": {
        "id": "0xHuW6qSCGLh"
      },
      "source": [
        "#### Original dataset using ada_classifier:"
      ]
    },
    {
      "cell_type": "markdown",
      "metadata": {
        "id": "xqmuneVOCGLi"
      },
      "source": [
        "##### evaluation using original dataset:"
      ]
    },
    {
      "cell_type": "code",
      "execution_count": null,
      "metadata": {
        "id": "NOlWJRrECGLi"
      },
      "outputs": [],
      "source": [
        "ada_classifier.fit(x_train, y_train)\n",
        "y_pred =ada_classifier.predict(x_test)"
      ]
    },
    {
      "cell_type": "code",
      "execution_count": null,
      "metadata": {
        "colab": {
          "base_uri": "https://localhost:8080/",
          "height": 522
        },
        "id": "BLi9AC7FCGLj",
        "outputId": "7622af7d-c3bd-4ab9-d07f-6458e69dc753"
      },
      "outputs": [
        {
          "name": "stdout",
          "output_type": "stream",
          "text": [
            "              precision    recall  f1-score   support\n",
            "\n",
            "           0       1.00      1.00      1.00     85295\n",
            "           1       0.83      0.79      0.81       148\n",
            "\n",
            "    accuracy                           1.00     85443\n",
            "   macro avg       0.91      0.90      0.90     85443\n",
            "weighted avg       1.00      1.00      1.00     85443\n",
            "\n",
            "f1_score = 0.8096885813148789\n",
            "recall = 0.7905405405405406\n",
            "precision 0.8297872340425532\n"
          ]
        },
        {
          "data": {
            "text/plain": [
              "<function matplotlib.pyplot.show(*args, **kw)>"
            ]
          },
          "execution_count": 87,
          "metadata": {},
          "output_type": "execute_result"
        },
        {
          "data": {
            "image/png": "[encoded data removed]",
            "text/plain": [
              "<Figure size 432x288 with 2 Axes>"
            ]
          },
          "metadata": {},
          "output_type": "display_data"
        },
        {
          "data": {
            "text/plain": [
              "<Figure size 720x360 with 0 Axes>"
            ]
          },
          "metadata": {},
          "output_type": "display_data"
        }
      ],
      "source": [
        "from sklearn.metrics import classification_report, accuracy_score ,f1_score, recall_score , precision_score, confusion_matrix, ConfusionMatrixDisplay\n",
        "\n",
        "print(classification_report(y_test,y_pred))\n",
        "\n",
        "f1_score =f1_score(y_test, y_pred)\n",
        "recall =recall_score(y_test, y_pred)\n",
        "precision =precision_score(y_test,y_pred)\n",
        "\n",
        "print('f1_score =', f1_score)\n",
        "print('recall =', recall)\n",
        "print('precision', precision)\n",
        "\n",
        "conf_mat =confusion_matrix(y_test,y_pred)\n",
        "                           \n",
        "cm_display =ConfusionMatrixDisplay(confusion_matrix=conf_mat)\n",
        "\n",
        "cm_display.plot()\n",
        "\n",
        "plt.figure(figsize=(10,5))\n",
        "plt.show"
      ]
    },
    {
      "cell_type": "markdown",
      "metadata": {
        "id": "CRt3V4bHCGLk"
      },
      "source": [
        "##### evaluation using standaraized original dataset:"
      ]
    },
    {
      "cell_type": "code",
      "execution_count": null,
      "metadata": {
        "id": "uFvgeohXCGLk"
      },
      "outputs": [],
      "source": [
        "ada_classifier.fit(x_train_standar,y_train)\n",
        "y_pred_standar =ada_classifier.predict(x_test)"
      ]
    },
    {
      "cell_type": "code",
      "execution_count": null,
      "metadata": {
        "colab": {
          "base_uri": "https://localhost:8080/",
          "height": 522
        },
        "id": "3s82vA82CGLl",
        "outputId": "4856143a-df72-4e33-cda2-077b296a02f1"
      },
      "outputs": [
        {
          "name": "stdout",
          "output_type": "stream",
          "text": [
            "              precision    recall  f1-score   support\n",
            "\n",
            "           0       1.00      1.00      1.00     85295\n",
            "           1       0.82      0.81      0.81       148\n",
            "\n",
            "    accuracy                           1.00     85443\n",
            "   macro avg       0.91      0.91      0.91     85443\n",
            "weighted avg       1.00      1.00      1.00     85443\n",
            "\n",
            "f1_score = 0.8096885813148789\n",
            "recall = 0.8108108108108109\n",
            "precision 0.8163265306122449\n"
          ]
        },
        {
          "data": {
            "text/plain": [
              "<function matplotlib.pyplot.show(*args, **kw)>"
            ]
          },
          "execution_count": 89,
          "metadata": {},
          "output_type": "execute_result"
        },
        {
          "data": {
            "image/png": "[encoded data removed]",
            "text/plain": [
              "<Figure size 432x288 with 2 Axes>"
            ]
          },
          "metadata": {},
          "output_type": "display_data"
        },
        {
          "data": {
            "text/plain": [
              "<Figure size 720x360 with 0 Axes>"
            ]
          },
          "metadata": {},
          "output_type": "display_data"
        }
      ],
      "source": [
        "from sklearn.metrics import classification_report, f1_score , recall_score, precision_score, confusion_matrix, ConfusionMatrixDisplay\n",
        "\n",
        "print(classification_report(y_test,y_pred_standar))\n",
        "\n",
        "f1_score =f1_score(y_test, y_pred)\n",
        "recall =recall_score(y_test, y_pred_standar)\n",
        "precision =precision_score(y_test,y_pred_standar)\n",
        "\n",
        "print('f1_score =', f1_score)\n",
        "print('recall =', recall)\n",
        "print('precision', precision)\n",
        "\n",
        "conf_mat =confusion_matrix(y_test,y_pred_standar)\n",
        "                           \n",
        "cm_display =ConfusionMatrixDisplay(confusion_matrix=conf_mat)\n",
        "\n",
        "cm_display.plot()\n",
        "\n",
        "plt.figure(figsize=(10,5))\n",
        "plt.show"
      ]
    },
    {
      "cell_type": "markdown",
      "metadata": {
        "id": "ZlguOLpXCGLm"
      },
      "source": [
        "#### randomOverSample dataset using ada_classifier:"
      ]
    },
    {
      "cell_type": "markdown",
      "metadata": {
        "id": "D2TymM7GCGLm"
      },
      "source": [
        "##### evaluating using original randomOverSample dataset:"
      ]
    },
    {
      "cell_type": "code",
      "execution_count": null,
      "metadata": {
        "id": "ekZOSi4mCGLn"
      },
      "outputs": [],
      "source": [
        "ada_classifier.fit(x_train_RandomOverSample, y_train_RandomOverSample)\n",
        "y_pred_RandomOverSample =ada_classifier.predict(x_test)"
      ]
    },
    {
      "cell_type": "code",
      "execution_count": null,
      "metadata": {
        "colab": {
          "base_uri": "https://localhost:8080/",
          "height": 505
        },
        "id": "p3kT2HfUCGLn",
        "outputId": "638089d9-1176-4171-ecae-3fe48241208e"
      },
      "outputs": [
        {
          "name": "stdout",
          "output_type": "stream",
          "text": [
            "              precision    recall  f1-score   support\n",
            "\n",
            "           0       1.00      0.98      0.99     85295\n",
            "           1       0.09      0.93      0.16       148\n",
            "\n",
            "    accuracy                           0.98     85443\n",
            "   macro avg       0.54      0.96      0.58     85443\n",
            "weighted avg       1.00      0.98      0.99     85443\n",
            "\n",
            "recall = 0.9324324324324325\n",
            "precision 0.08673790069138906\n"
          ]
        },
        {
          "data": {
            "text/plain": [
              "<function matplotlib.pyplot.show(*args, **kw)>"
            ]
          },
          "execution_count": 91,
          "metadata": {},
          "output_type": "execute_result"
        },
        {
          "data": {
            "image/png": "[encoded data removed]",
            "text/plain": [
              "<Figure size 432x288 with 2 Axes>"
            ]
          },
          "metadata": {},
          "output_type": "display_data"
        },
        {
          "data": {
            "text/plain": [
              "<Figure size 720x360 with 0 Axes>"
            ]
          },
          "metadata": {},
          "output_type": "display_data"
        }
      ],
      "source": [
        "print(classification_report(y_test,y_pred_RandomOverSample))\n",
        "\n",
        "#f1_score =f1_score(y_test, y_pred_RandomOverSample)\n",
        "recall =recall_score(y_test, y_pred_RandomOverSample)\n",
        "precision =precision_score(y_test,y_pred_RandomOverSample)\n",
        "\n",
        "#print('f1_score =', f1_score)\n",
        "print('recall =', recall)\n",
        "print('precision', precision)\n",
        "\n",
        "conf_mat =confusion_matrix(y_test,y_pred_RandomOverSample)\n",
        "                           \n",
        "cm_display =ConfusionMatrixDisplay(confusion_matrix=conf_mat)\n",
        "\n",
        "cm_display.plot()\n",
        "\n",
        "plt.figure(figsize=(10,5))\n",
        "plt.show"
      ]
    },
    {
      "cell_type": "markdown",
      "metadata": {
        "id": "QSz-n-0qCGLo"
      },
      "source": [
        "##### evaluating using original standard randomOverSample dataset:"
      ]
    },
    {
      "cell_type": "code",
      "execution_count": null,
      "metadata": {
        "id": "ZTAobgGwCGLp"
      },
      "outputs": [],
      "source": [
        "ada_classifier.fit(x_train_standar_RandomOverSample, y_train_standar_RandomOverSample)\n",
        "y_pred_standar_RandomOverSample=ada_classifier.predict(x_test)"
      ]
    },
    {
      "cell_type": "code",
      "execution_count": null,
      "metadata": {
        "colab": {
          "base_uri": "https://localhost:8080/",
          "height": 505
        },
        "id": "FtO9cpb_CGLp",
        "outputId": "b613b597-647f-4d19-a49c-a21517ecaecd"
      },
      "outputs": [
        {
          "name": "stdout",
          "output_type": "stream",
          "text": [
            "              precision    recall  f1-score   support\n",
            "\n",
            "           0       1.00      0.96      0.98     85295\n",
            "           1       0.04      0.92      0.07       148\n",
            "\n",
            "    accuracy                           0.96     85443\n",
            "   macro avg       0.52      0.94      0.53     85443\n",
            "weighted avg       1.00      0.96      0.98     85443\n",
            "\n",
            "recall = 0.918918918918919\n",
            "precision 0.0387906446092413\n"
          ]
        },
        {
          "data": {
            "text/plain": [
              "<function matplotlib.pyplot.show(*args, **kw)>"
            ]
          },
          "execution_count": 93,
          "metadata": {},
          "output_type": "execute_result"
        },
        {
          "data": {
            "image/png": "[encoded data removed]",
            "text/plain": [
              "<Figure size 432x288 with 2 Axes>"
            ]
          },
          "metadata": {},
          "output_type": "display_data"
        },
        {
          "data": {
            "text/plain": [
              "<Figure size 720x360 with 0 Axes>"
            ]
          },
          "metadata": {},
          "output_type": "display_data"
        }
      ],
      "source": [
        "print(classification_report(y_test,y_pred_standar_RandomOverSample))\n",
        "\n",
        "#f1_score =f1_score(y_test, y_pred_RandomOverSample_extract)\n",
        "recall =recall_score(y_test, y_pred_standar_RandomOverSample)\n",
        "precision =precision_score(y_test,y_pred_standar_RandomOverSample)\n",
        "\n",
        "#print('f1_score =', f1_score)\n",
        "print('recall =', recall)\n",
        "print('precision', precision)\n",
        "\n",
        "conf_mat =confusion_matrix(y_test,y_pred_standar_RandomOverSample)\n",
        "                           \n",
        "cm_display =ConfusionMatrixDisplay(confusion_matrix=conf_mat)\n",
        "\n",
        "cm_display.plot()\n",
        "\n",
        "plt.figure(figsize=(10,5))\n",
        "plt.show"
      ]
    },
    {
      "cell_type": "markdown",
      "metadata": {
        "id": "DCFbW3cMCGLq"
      },
      "source": [
        "##### evaluating using extracted features randomOverSample dataset:"
      ]
    },
    {
      "cell_type": "code",
      "execution_count": null,
      "metadata": {
        "id": "CJqrEf0fCGLq"
      },
      "outputs": [],
      "source": [
        "ada_classifier.fit(x_train_extract_RandomOverSample,y_train_RandomOverSample)\n",
        "y_pred_RandomOverSample_extract=ada_classifier.predict(x_test_exctract)"
      ]
    },
    {
      "cell_type": "code",
      "execution_count": null,
      "metadata": {
        "colab": {
          "base_uri": "https://localhost:8080/",
          "height": 505
        },
        "id": "u9Bdd8KvCGLr",
        "outputId": "b312feff-0e5e-4545-f4de-303b7c35d33f"
      },
      "outputs": [
        {
          "name": "stdout",
          "output_type": "stream",
          "text": [
            "              precision    recall  f1-score   support\n",
            "\n",
            "           0       1.00      0.98      0.99     85295\n",
            "           1       0.07      0.92      0.14       148\n",
            "\n",
            "    accuracy                           0.98     85443\n",
            "   macro avg       0.54      0.95      0.56     85443\n",
            "weighted avg       1.00      0.98      0.99     85443\n",
            "\n",
            "recall = 0.918918918918919\n",
            "precision 0.07423580786026202\n"
          ]
        },
        {
          "data": {
            "text/plain": [
              "<function matplotlib.pyplot.show(*args, **kw)>"
            ]
          },
          "execution_count": 95,
          "metadata": {},
          "output_type": "execute_result"
        },
        {
          "data": {
            "image/png": "[encoded data removed]",
            "text/plain": [
              "<Figure size 432x288 with 2 Axes>"
            ]
          },
          "metadata": {},
          "output_type": "display_data"
        },
        {
          "data": {
            "text/plain": [
              "<Figure size 720x360 with 0 Axes>"
            ]
          },
          "metadata": {},
          "output_type": "display_data"
        }
      ],
      "source": [
        "print(classification_report(y_test_extract,y_pred_RandomOverSample_extract))\n",
        "\n",
        "#f1_score =f1_score(y_test, y_pred_RandomOverSample_extract)\n",
        "recall =recall_score(y_test_extract, y_pred_RandomOverSample_extract)\n",
        "precision =precision_score(y_test_extract,y_pred_RandomOverSample_extract)\n",
        "\n",
        "#print('f1_score =', f1_score)\n",
        "print('recall =', recall)\n",
        "print('precision', precision)\n",
        "\n",
        "conf_mat =confusion_matrix(y_test_extract,y_pred_RandomOverSample_extract)\n",
        "                           \n",
        "cm_display =ConfusionMatrixDisplay(confusion_matrix=conf_mat)\n",
        "\n",
        "cm_display.plot()\n",
        "\n",
        "plt.figure(figsize=(10,5))\n",
        "plt.show"
      ]
    },
    {
      "cell_type": "markdown",
      "metadata": {
        "id": "neFV7LLaCGLs"
      },
      "source": [
        "##### evaluating using standard extracted randomOverSample dataset:"
      ]
    },
    {
      "cell_type": "code",
      "execution_count": null,
      "metadata": {
        "id": "a_jCdKHVCGLs"
      },
      "outputs": [],
      "source": [
        "ada_classifier.fit(x_train_extract_standar_RandomOverSample,y_train_standar_RandomOverSample)\n",
        "y_pred_extract_standar_RandomOverSample =ada_classifier.predict(x_test_exctract)"
      ]
    },
    {
      "cell_type": "code",
      "execution_count": null,
      "metadata": {
        "colab": {
          "base_uri": "https://localhost:8080/",
          "height": 505
        },
        "id": "OR2gdf9dCGLt",
        "outputId": "f0e9b1e1-9083-4b08-8576-bb7709e34107"
      },
      "outputs": [
        {
          "name": "stdout",
          "output_type": "stream",
          "text": [
            "              precision    recall  f1-score   support\n",
            "\n",
            "           0       1.00      0.98      0.99     85295\n",
            "           1       0.06      0.91      0.11       148\n",
            "\n",
            "    accuracy                           0.98     85443\n",
            "   macro avg       0.53      0.94      0.55     85443\n",
            "weighted avg       1.00      0.98      0.99     85443\n",
            "\n",
            "recall = 0.9054054054054054\n",
            "precision 0.06071590394200272\n"
          ]
        },
        {
          "data": {
            "text/plain": [
              "<function matplotlib.pyplot.show(*args, **kw)>"
            ]
          },
          "execution_count": 97,
          "metadata": {},
          "output_type": "execute_result"
        },
        {
          "data": {
            "image/png": "[encoded data removed]",
            "text/plain": [
              "<Figure size 432x288 with 2 Axes>"
            ]
          },
          "metadata": {},
          "output_type": "display_data"
        },
        {
          "data": {
            "text/plain": [
              "<Figure size 720x360 with 0 Axes>"
            ]
          },
          "metadata": {},
          "output_type": "display_data"
        }
      ],
      "source": [
        "print(classification_report(y_test_extract,y_pred_extract_standar_RandomOverSample))\n",
        "\n",
        "#f1_score =f1_score(y_test, y_pred_RandomOverSample_extract)\n",
        "recall =recall_score(y_test_extract, y_pred_extract_standar_RandomOverSample)\n",
        "precision =precision_score(y_test_extract,y_pred_extract_standar_RandomOverSample)\n",
        "\n",
        "#print('f1_score =', f1_score)\n",
        "print('recall =', recall)\n",
        "print('precision', precision)\n",
        "\n",
        "conf_mat =confusion_matrix(y_test_extract,y_pred_extract_standar_RandomOverSample)\n",
        "                           \n",
        "cm_display =ConfusionMatrixDisplay(confusion_matrix=conf_mat)\n",
        "\n",
        "cm_display.plot()\n",
        "\n",
        "plt.figure(figsize=(10,5))\n",
        "plt.show"
      ]
    },
    {
      "cell_type": "markdown",
      "metadata": {
        "id": "63kye_jbCGLu"
      },
      "source": [
        "#### SMOTE dataset using ada_classifier:"
      ]
    },
    {
      "cell_type": "markdown",
      "metadata": {
        "id": "ZZfQDrhlCGLu"
      },
      "source": [
        "##### evaluating using original SMOTE dataset:"
      ]
    },
    {
      "cell_type": "code",
      "execution_count": null,
      "metadata": {
        "id": "zMF_AdIICGLv"
      },
      "outputs": [],
      "source": [
        "ada_classifier.fit(x_train_SMOTE, y_train_SMOTE)\n",
        "y_pred_SMOTE =ada_classifier.predict(x_test)"
      ]
    },
    {
      "cell_type": "code",
      "execution_count": null,
      "metadata": {
        "colab": {
          "base_uri": "https://localhost:8080/",
          "height": 505
        },
        "id": "74pv_Dd9CGLv",
        "outputId": "d69c2319-b5be-4f02-e755-69e08386db99"
      },
      "outputs": [
        {
          "name": "stdout",
          "output_type": "stream",
          "text": [
            "              precision    recall  f1-score   support\n",
            "\n",
            "           0       1.00      0.99      0.99     85295\n",
            "           1       0.11      0.92      0.20       148\n",
            "\n",
            "    accuracy                           0.99     85443\n",
            "   macro avg       0.55      0.95      0.59     85443\n",
            "weighted avg       1.00      0.99      0.99     85443\n",
            "\n",
            "recall = 0.918918918918919\n",
            "precision 0.1099434114793856\n"
          ]
        },
        {
          "data": {
            "text/plain": [
              "<function matplotlib.pyplot.show(*args, **kw)>"
            ]
          },
          "execution_count": 99,
          "metadata": {},
          "output_type": "execute_result"
        },
        {
          "data": {
            "image/png": "[encoded data removed]",
            "text/plain": [
              "<Figure size 432x288 with 2 Axes>"
            ]
          },
          "metadata": {},
          "output_type": "display_data"
        },
        {
          "data": {
            "text/plain": [
              "<Figure size 720x360 with 0 Axes>"
            ]
          },
          "metadata": {},
          "output_type": "display_data"
        }
      ],
      "source": [
        "print(classification_report(y_test,y_pred_SMOTE))\n",
        "\n",
        "#f1_score =f1_score(y_test, y_pred_RandomOverSample)\n",
        "recall =recall_score(y_test, y_pred_SMOTE)\n",
        "precision =precision_score(y_test,y_pred_SMOTE)\n",
        "\n",
        "#print('f1_score =', f1_score)\n",
        "print('recall =', recall)\n",
        "print('precision', precision)\n",
        "\n",
        "conf_mat =confusion_matrix(y_test,y_pred_SMOTE)\n",
        "                           \n",
        "cm_display =ConfusionMatrixDisplay(confusion_matrix=conf_mat)\n",
        "\n",
        "cm_display.plot()\n",
        "\n",
        "plt.figure(figsize=(10,5))\n",
        "plt.show"
      ]
    },
    {
      "cell_type": "markdown",
      "metadata": {
        "id": "s-mlYQr_CGLw"
      },
      "source": [
        "##### evaluating using original standard randomOverSample dataset:"
      ]
    },
    {
      "cell_type": "code",
      "execution_count": null,
      "metadata": {
        "id": "zqCfSCeTCGLw"
      },
      "outputs": [],
      "source": [
        "ada_classifier.fit(x_train_standar_SMOTE, y_train_standar_SMOTE)\n",
        "y_pred_standar_SMOTE=ada_classifier.predict(x_test)"
      ]
    },
    {
      "cell_type": "code",
      "execution_count": null,
      "metadata": {
        "colab": {
          "base_uri": "https://localhost:8080/",
          "height": 505
        },
        "id": "o-jMBnAGCGLx",
        "outputId": "db47110a-399e-44ef-9148-5a30d735910c"
      },
      "outputs": [
        {
          "name": "stdout",
          "output_type": "stream",
          "text": [
            "              precision    recall  f1-score   support\n",
            "\n",
            "           0       1.00      0.98      0.99     85295\n",
            "           1       0.08      0.90      0.15       148\n",
            "\n",
            "    accuracy                           0.98     85443\n",
            "   macro avg       0.54      0.94      0.57     85443\n",
            "weighted avg       1.00      0.98      0.99     85443\n",
            "\n",
            "recall = 0.8986486486486487\n",
            "precision 0.0834378920953576\n"
          ]
        },
        {
          "data": {
            "text/plain": [
              "<function matplotlib.pyplot.show(*args, **kw)>"
            ]
          },
          "execution_count": 101,
          "metadata": {},
          "output_type": "execute_result"
        },
        {
          "data": {
            "image/png": "[encoded data removed]",
            "text/plain": [
              "<Figure size 432x288 with 2 Axes>"
            ]
          },
          "metadata": {},
          "output_type": "display_data"
        },
        {
          "data": {
            "text/plain": [
              "<Figure size 720x360 with 0 Axes>"
            ]
          },
          "metadata": {},
          "output_type": "display_data"
        }
      ],
      "source": [
        "print(classification_report(y_test,y_pred_standar_SMOTE))\n",
        "\n",
        "#f1_score =f1_score(y_test, y_pred_RandomOverSample_extract)\n",
        "recall =recall_score(y_test, y_pred_standar_SMOTE)\n",
        "precision =precision_score(y_test,y_pred_standar_SMOTE)\n",
        "\n",
        "#print('f1_score =', f1_score)\n",
        "print('recall =', recall)\n",
        "print('precision', precision)\n",
        "\n",
        "conf_mat =confusion_matrix(y_test,y_pred_standar_SMOTE)\n",
        "                           \n",
        "cm_display =ConfusionMatrixDisplay(confusion_matrix=conf_mat)\n",
        "\n",
        "cm_display.plot()\n",
        "\n",
        "plt.figure(figsize=(10,5))\n",
        "plt.show"
      ]
    },
    {
      "cell_type": "markdown",
      "metadata": {
        "id": "qq4P-0bPCGLy"
      },
      "source": [
        "##### evaluating using extracted features randomOverSample dataset:"
      ]
    },
    {
      "cell_type": "code",
      "execution_count": null,
      "metadata": {
        "id": "M5uaI8mICGLy"
      },
      "outputs": [],
      "source": [
        "ada_classifier.fit(x_train_extract_SMOTE,y_train_extract_SMOTE)\n",
        "y_pred_SMOTE_extract=ada_classifier.predict(x_test_exctract)"
      ]
    },
    {
      "cell_type": "code",
      "execution_count": null,
      "metadata": {
        "colab": {
          "base_uri": "https://localhost:8080/",
          "height": 505
        },
        "id": "aiVPHl-_CGLz",
        "outputId": "f8f832a6-51a1-4d28-91f9-2135acb18385"
      },
      "outputs": [
        {
          "name": "stdout",
          "output_type": "stream",
          "text": [
            "              precision    recall  f1-score   support\n",
            "\n",
            "           0       1.00      0.97      0.98     85295\n",
            "           1       0.05      0.93      0.09       148\n",
            "\n",
            "    accuracy                           0.97     85443\n",
            "   macro avg       0.52      0.95      0.54     85443\n",
            "weighted avg       1.00      0.97      0.98     85443\n",
            "\n",
            "recall = 0.9324324324324325\n",
            "precision 0.04886685552407932\n"
          ]
        },
        {
          "data": {
            "text/plain": [
              "<function matplotlib.pyplot.show(*args, **kw)>"
            ]
          },
          "execution_count": 103,
          "metadata": {},
          "output_type": "execute_result"
        },
        {
          "data": {
            "image/png": "[encoded data removed]",
            "text/plain": [
              "<Figure size 432x288 with 2 Axes>"
            ]
          },
          "metadata": {},
          "output_type": "display_data"
        },
        {
          "data": {
            "text/plain": [
              "<Figure size 720x360 with 0 Axes>"
            ]
          },
          "metadata": {},
          "output_type": "display_data"
        }
      ],
      "source": [
        "print(classification_report(y_test_extract,y_pred_SMOTE_extract))\n",
        "\n",
        "#f1_score =f1_score(y_test, y_pred_RandomOverSample_extract)\n",
        "recall =recall_score(y_test_extract, y_pred_SMOTE_extract)\n",
        "precision =precision_score(y_test_extract,y_pred_SMOTE_extract)\n",
        "\n",
        "#print('f1_score =', f1_score)\n",
        "print('recall =', recall)\n",
        "print('precision', precision)\n",
        "\n",
        "conf_mat =confusion_matrix(y_test_extract,y_pred_SMOTE_extract)\n",
        "                           \n",
        "cm_display =ConfusionMatrixDisplay(confusion_matrix=conf_mat)\n",
        "\n",
        "cm_display.plot()\n",
        "\n",
        "plt.figure(figsize=(10,5))\n",
        "plt.show"
      ]
    },
    {
      "cell_type": "markdown",
      "metadata": {
        "id": "eCsrcpYYCGLz"
      },
      "source": [
        "##### evaluating using standard extracted randomOverSample dataset:"
      ]
    },
    {
      "cell_type": "code",
      "execution_count": null,
      "metadata": {
        "id": "2Bne9LiXpDDU"
      },
      "outputs": [],
      "source": [
        "ada_classifier.fit(x_train_extract_standar_SMOTE,y_train_standar_SMOTE)\n",
        "y_pred_extract_standar_SMOTE =ada_classifier.predict(x_test_exctract)"
      ]
    },
    {
      "cell_type": "code",
      "execution_count": null,
      "metadata": {
        "colab": {
          "base_uri": "https://localhost:8080/",
          "height": 505
        },
        "outputId": "5d441f53-ee16-4cc4-ea2b-8456160121ad",
        "id": "IJrY057vpDDV"
      },
      "outputs": [
        {
          "output_type": "stream",
          "name": "stdout",
          "text": [
            "              precision    recall  f1-score   support\n",
            "\n",
            "           0       1.00      0.97      0.98     85295\n",
            "           1       0.05      0.92      0.09       148\n",
            "\n",
            "    accuracy                           0.97     85443\n",
            "   macro avg       0.52      0.94      0.53     85443\n",
            "weighted avg       1.00      0.97      0.98     85443\n",
            "\n",
            "recall = 0.918918918918919\n",
            "precision 0.045033112582781455\n"
          ]
        },
        {
          "output_type": "execute_result",
          "data": {
            "text/plain": [
              "<function matplotlib.pyplot.show(*args, **kw)>"
            ]
          },
          "metadata": {},
          "execution_count": 47
        },
        {
          "output_type": "display_data",
          "data": {
            "text/plain": [
              "<Figure size 432x288 with 2 Axes>"
            ],
            "image/png": "[encoded data removed]"
          },
          "metadata": {
            "needs_background": "light"
          }
        },
        {
          "output_type": "display_data",
          "data": {
            "text/plain": [
              "<Figure size 720x360 with 0 Axes>"
            ]
          },
          "metadata": {}
        }
      ],
      "source": [
        "print(classification_report(y_test_extract,y_pred_extract_standar_SMOTE))\n",
        "\n",
        "#f1_score =f1_score(y_test, y_pred_RandomOverSample_extract)\n",
        "recall =recall_score(y_test_extract, y_pred_extract_standar_SMOTE)\n",
        "precision =precision_score(y_test_extract,y_pred_extract_standar_SMOTE)\n",
        "\n",
        "#print('f1_score =', f1_score)\n",
        "print('recall =', recall)\n",
        "print('precision', precision)\n",
        "\n",
        "conf_mat =confusion_matrix(y_test_extract,y_pred_extract_standar_SMOTE)\n",
        "                           \n",
        "cm_display =ConfusionMatrixDisplay(confusion_matrix=conf_mat)\n",
        "\n",
        "cm_display.plot()\n",
        "\n",
        "plt.figure(figsize=(10,5))\n",
        "plt.show"
      ]
    },
    {
      "cell_type": "code",
      "execution_count": null,
      "metadata": {
        "id": "NvZbTXqcCGL0"
      },
      "outputs": [],
      "source": [
        "ada_classifier.fit(x_train_extract_standar_SMOTE,y_train_standar_SMOTE)\n",
        "y_pred_extract_standar_SMOTE =ada_classifier.predict(x_test_exctract)"
      ]
    },
    {
      "cell_type": "code",
      "execution_count": null,
      "metadata": {
        "colab": {
          "base_uri": "https://localhost:8080/",
          "height": 505
        },
        "id": "nidVXQzNCGL0",
        "outputId": "00a6d312-9158-4fb4-a61b-ab0ec2bdb18b"
      },
      "outputs": [
        {
          "name": "stdout",
          "output_type": "stream",
          "text": [
            "              precision    recall  f1-score   support\n",
            "\n",
            "           0       1.00      0.97      0.98     85295\n",
            "           1       0.04      0.94      0.09       148\n",
            "\n",
            "    accuracy                           0.97     85443\n",
            "   macro avg       0.52      0.95      0.53     85443\n",
            "weighted avg       1.00      0.97      0.98     85443\n",
            "\n",
            "recall = 0.9391891891891891\n",
            "precision 0.04456556588650208\n"
          ]
        },
        {
          "data": {
            "text/plain": [
              "<function matplotlib.pyplot.show(*args, **kw)>"
            ]
          },
          "execution_count": 105,
          "metadata": {},
          "output_type": "execute_result"
        },
        {
          "data": {
            "image/png": "[encoded data removed]",
            "text/plain": [
              "<Figure size 432x288 with 2 Axes>"
            ]
          },
          "metadata": {},
          "output_type": "display_data"
        },
        {
          "data": {
            "text/plain": [
              "<Figure size 720x360 with 0 Axes>"
            ]
          },
          "metadata": {},
          "output_type": "display_data"
        }
      ],
      "source": [
        "print(classification_report(y_test_extract,y_pred_extract_standar_SMOTE))\n",
        "\n",
        "#f1_score =f1_score(y_test, y_pred_RandomOverSample_extract)\n",
        "recall =recall_score(y_test_extract, y_pred_extract_standar_SMOTE)\n",
        "precision =precision_score(y_test_extract,y_pred_extract_standar_SMOTE)\n",
        "\n",
        "#print('f1_score =', f1_score)\n",
        "print('recall =', recall)\n",
        "print('precision', precision)\n",
        "\n",
        "conf_mat =confusion_matrix(y_test_extract,y_pred_extract_standar_SMOTE)\n",
        "                           \n",
        "cm_display =ConfusionMatrixDisplay(confusion_matrix=conf_mat)\n",
        "\n",
        "cm_display.plot()\n",
        "\n",
        "plt.figure(figsize=(10,5))\n",
        "plt.show"
      ]
    },
    {
      "cell_type": "markdown",
      "metadata": {
        "id": "qUdErvfbCHt0"
      },
      "source": [
        "### Xgboost:\n"
      ]
    },
    {
      "cell_type": "code",
      "execution_count": null,
      "metadata": {
        "id": "gPRUSbG4CHt1"
      },
      "outputs": [],
      "source": [
        "from xgboost import XGBClassifier\n",
        "\n",
        "xgb_classifier =XGBClassifier()"
      ]
    },
    {
      "cell_type": "markdown",
      "metadata": {
        "id": "jLHhYwCgCHt2"
      },
      "source": [
        "#### Original dataset using xgb_classifier:"
      ]
    },
    {
      "cell_type": "markdown",
      "metadata": {
        "id": "Q_WARmx_CHt2"
      },
      "source": [
        "##### evaluation using original dataset:"
      ]
    },
    {
      "cell_type": "code",
      "execution_count": null,
      "metadata": {
        "id": "xAIfT9-qCHt3"
      },
      "outputs": [],
      "source": [
        "xgb_classifier.fit(x_train, y_train)\n",
        "y_pred =xgb_classifier.predict(x_test)"
      ]
    },
    {
      "cell_type": "code",
      "execution_count": null,
      "metadata": {
        "colab": {
          "base_uri": "https://localhost:8080/",
          "height": 522
        },
        "id": "sewERMm0CHt3",
        "outputId": "5b5144c0-2bbb-48c6-e1e7-96bcb6f6247b"
      },
      "outputs": [
        {
          "name": "stdout",
          "output_type": "stream",
          "text": [
            "              precision    recall  f1-score   support\n",
            "\n",
            "           0       1.00      1.00      1.00     85295\n",
            "           1       0.92      0.83      0.88       148\n",
            "\n",
            "    accuracy                           1.00     85443\n",
            "   macro avg       0.96      0.92      0.94     85443\n",
            "weighted avg       1.00      1.00      1.00     85443\n",
            "\n",
            "f1_score = 0.8754448398576512\n",
            "recall = 0.831081081081081\n",
            "precision 0.924812030075188\n"
          ]
        },
        {
          "data": {
            "text/plain": [
              "<function matplotlib.pyplot.show(*args, **kw)>"
            ]
          },
          "execution_count": 108,
          "metadata": {},
          "output_type": "execute_result"
        },
        {
          "data": {
            "image/png": "[encoded data removed]",
            "text/plain": [
              "<Figure size 432x288 with 2 Axes>"
            ]
          },
          "metadata": {},
          "output_type": "display_data"
        },
        {
          "data": {
            "text/plain": [
              "<Figure size 720x360 with 0 Axes>"
            ]
          },
          "metadata": {},
          "output_type": "display_data"
        }
      ],
      "source": [
        "from sklearn.metrics import classification_report, accuracy_score ,f1_score, recall_score , precision_score, confusion_matrix, ConfusionMatrixDisplay\n",
        "\n",
        "print(classification_report(y_test,y_pred))\n",
        "\n",
        "f1_score =f1_score(y_test, y_pred)\n",
        "recall =recall_score(y_test, y_pred)\n",
        "precision =precision_score(y_test,y_pred)\n",
        "\n",
        "print('f1_score =', f1_score)\n",
        "print('recall =', recall)\n",
        "print('precision', precision)\n",
        "\n",
        "conf_mat =confusion_matrix(y_test,y_pred)\n",
        "                           \n",
        "cm_display =ConfusionMatrixDisplay(confusion_matrix=conf_mat)\n",
        "\n",
        "cm_display.plot()\n",
        "\n",
        "plt.figure(figsize=(10,5))\n",
        "plt.show"
      ]
    },
    {
      "cell_type": "markdown",
      "metadata": {
        "id": "OQJy7vhiCHt4"
      },
      "source": [
        "##### evaluation using standaraized original dataset:"
      ]
    },
    {
      "cell_type": "code",
      "execution_count": null,
      "metadata": {
        "id": "lk_kvtIrCHt5"
      },
      "outputs": [],
      "source": [
        "xgb_classifier.fit(x_train_standar,y_train)\n",
        "y_pred_standar =xgb_classifier.predict(x_test)"
      ]
    },
    {
      "cell_type": "code",
      "execution_count": null,
      "metadata": {
        "colab": {
          "base_uri": "https://localhost:8080/",
          "height": 522
        },
        "id": "w5qnni_OCHt5",
        "outputId": "d5d47a1a-d5e2-4381-98c1-a783533383af"
      },
      "outputs": [
        {
          "name": "stdout",
          "output_type": "stream",
          "text": [
            "              precision    recall  f1-score   support\n",
            "\n",
            "           0       1.00      1.00      1.00     85295\n",
            "           1       0.89      0.84      0.87       148\n",
            "\n",
            "    accuracy                           1.00     85443\n",
            "   macro avg       0.94      0.92      0.93     85443\n",
            "weighted avg       1.00      1.00      1.00     85443\n",
            "\n",
            "f1_score = 0.8754448398576512\n",
            "recall = 0.8445945945945946\n",
            "precision 0.8865248226950354\n"
          ]
        },
        {
          "data": {
            "text/plain": [
              "<function matplotlib.pyplot.show(*args, **kw)>"
            ]
          },
          "execution_count": 110,
          "metadata": {},
          "output_type": "execute_result"
        },
        {
          "data": {
            "image/png": "[encoded data removed]",
            "text/plain": [
              "<Figure size 432x288 with 2 Axes>"
            ]
          },
          "metadata": {},
          "output_type": "display_data"
        },
        {
          "data": {
            "text/plain": [
              "<Figure size 720x360 with 0 Axes>"
            ]
          },
          "metadata": {},
          "output_type": "display_data"
        }
      ],
      "source": [
        "from sklearn.metrics import classification_report, f1_score , recall_score, precision_score, confusion_matrix, ConfusionMatrixDisplay\n",
        "\n",
        "print(classification_report(y_test,y_pred_standar))\n",
        "\n",
        "f1_score =f1_score(y_test, y_pred)\n",
        "recall =recall_score(y_test, y_pred_standar)\n",
        "precision =precision_score(y_test,y_pred_standar)\n",
        "\n",
        "print('f1_score =', f1_score)\n",
        "print('recall =', recall)\n",
        "print('precision', precision)\n",
        "\n",
        "conf_mat =confusion_matrix(y_test,y_pred_standar)\n",
        "                           \n",
        "cm_display =ConfusionMatrixDisplay(confusion_matrix=conf_mat)\n",
        "\n",
        "cm_display.plot()\n",
        "\n",
        "plt.figure(figsize=(10,5))\n",
        "plt.show"
      ]
    },
    {
      "cell_type": "markdown",
      "metadata": {
        "id": "xL1lg8yyCHt6"
      },
      "source": [
        "#### randomOverSample dataset using xgb_classifier:"
      ]
    },
    {
      "cell_type": "markdown",
      "metadata": {
        "id": "x4r2LqkgCHt6"
      },
      "source": [
        "##### evaluating using original randomOverSample dataset:"
      ]
    },
    {
      "cell_type": "code",
      "execution_count": null,
      "metadata": {
        "id": "ksmngF8qCHt7"
      },
      "outputs": [],
      "source": [
        "xgb_classifier.fit(x_train_RandomOverSample, y_train_RandomOverSample)\n",
        "y_pred_RandomOverSample =xgb_classifier.predict(x_test)"
      ]
    },
    {
      "cell_type": "code",
      "execution_count": null,
      "metadata": {
        "colab": {
          "base_uri": "https://localhost:8080/",
          "height": 505
        },
        "id": "TT4HKudmCHt7",
        "outputId": "51a273e1-5731-4fef-bea5-ebcade8f6b01"
      },
      "outputs": [
        {
          "name": "stdout",
          "output_type": "stream",
          "text": [
            "              precision    recall  f1-score   support\n",
            "\n",
            "           0       1.00      0.99      1.00     85295\n",
            "           1       0.23      0.91      0.37       148\n",
            "\n",
            "    accuracy                           0.99     85443\n",
            "   macro avg       0.62      0.95      0.68     85443\n",
            "weighted avg       1.00      0.99      1.00     85443\n",
            "\n",
            "recall = 0.9054054054054054\n",
            "precision 0.23344947735191637\n"
          ]
        },
        {
          "data": {
            "text/plain": [
              "<function matplotlib.pyplot.show(*args, **kw)>"
            ]
          },
          "execution_count": 112,
          "metadata": {},
          "output_type": "execute_result"
        },
        {
          "data": {
            "image/png": "[encoded data removed]",
            "text/plain": [
              "<Figure size 432x288 with 2 Axes>"
            ]
          },
          "metadata": {},
          "output_type": "display_data"
        },
        {
          "data": {
            "text/plain": [
              "<Figure size 720x360 with 0 Axes>"
            ]
          },
          "metadata": {},
          "output_type": "display_data"
        }
      ],
      "source": [
        "print(classification_report(y_test,y_pred_RandomOverSample))\n",
        "\n",
        "#f1_score =f1_score(y_test, y_pred_RandomOverSample)\n",
        "recall =recall_score(y_test, y_pred_RandomOverSample)\n",
        "precision =precision_score(y_test,y_pred_RandomOverSample)\n",
        "\n",
        "#print('f1_score =', f1_score)\n",
        "print('recall =', recall)\n",
        "print('precision', precision)\n",
        "\n",
        "conf_mat =confusion_matrix(y_test,y_pred_RandomOverSample)\n",
        "                           \n",
        "cm_display =ConfusionMatrixDisplay(confusion_matrix=conf_mat)\n",
        "\n",
        "cm_display.plot()\n",
        "\n",
        "plt.figure(figsize=(10,5))\n",
        "plt.show"
      ]
    },
    {
      "cell_type": "markdown",
      "metadata": {
        "id": "s8CxtVKaCHt8"
      },
      "source": [
        "##### evaluating using original standard randomOverSample dataset:"
      ]
    },
    {
      "cell_type": "code",
      "execution_count": null,
      "metadata": {
        "id": "s-u5xfJtCHt9"
      },
      "outputs": [],
      "source": [
        "xgb_classifier.fit(x_train_standar_RandomOverSample, y_train_standar_RandomOverSample)\n",
        "y_pred_standar_RandomOverSample=xgb_classifier.predict(x_test)"
      ]
    },
    {
      "cell_type": "code",
      "execution_count": null,
      "metadata": {
        "colab": {
          "base_uri": "https://localhost:8080/",
          "height": 505
        },
        "id": "q-oV6NDzCHt9",
        "outputId": "56d44f86-3d89-4876-fcba-2aedf05ba2c1"
      },
      "outputs": [
        {
          "name": "stdout",
          "output_type": "stream",
          "text": [
            "              precision    recall  f1-score   support\n",
            "\n",
            "           0       1.00      0.99      1.00     85295\n",
            "           1       0.23      0.89      0.36       148\n",
            "\n",
            "    accuracy                           0.99     85443\n",
            "   macro avg       0.61      0.94      0.68     85443\n",
            "weighted avg       1.00      0.99      1.00     85443\n",
            "\n",
            "recall = 0.8851351351351351\n",
            "precision 0.22782608695652173\n"
          ]
        },
        {
          "data": {
            "text/plain": [
              "<function matplotlib.pyplot.show(*args, **kw)>"
            ]
          },
          "execution_count": 114,
          "metadata": {},
          "output_type": "execute_result"
        },
        {
          "data": {
            "image/png": "[encoded data removed]",
            "text/plain": [
              "<Figure size 432x288 with 2 Axes>"
            ]
          },
          "metadata": {},
          "output_type": "display_data"
        },
        {
          "data": {
            "text/plain": [
              "<Figure size 720x360 with 0 Axes>"
            ]
          },
          "metadata": {},
          "output_type": "display_data"
        }
      ],
      "source": [
        "print(classification_report(y_test,y_pred_standar_RandomOverSample))\n",
        "\n",
        "#f1_score =f1_score(y_test, y_pred_RandomOverSample_extract)\n",
        "recall =recall_score(y_test, y_pred_standar_RandomOverSample)\n",
        "precision =precision_score(y_test,y_pred_standar_RandomOverSample)\n",
        "\n",
        "#print('f1_score =', f1_score)\n",
        "print('recall =', recall)\n",
        "print('precision', precision)\n",
        "\n",
        "conf_mat =confusion_matrix(y_test,y_pred_standar_RandomOverSample)\n",
        "                           \n",
        "cm_display =ConfusionMatrixDisplay(confusion_matrix=conf_mat)\n",
        "\n",
        "cm_display.plot()\n",
        "\n",
        "plt.figure(figsize=(10,5))\n",
        "plt.show"
      ]
    },
    {
      "cell_type": "markdown",
      "metadata": {
        "id": "gYI-OpJrCHt-"
      },
      "source": [
        "##### evaluating using extracted features randomOverSample dataset:"
      ]
    },
    {
      "cell_type": "code",
      "execution_count": null,
      "metadata": {
        "id": "KJde5yKgCHt-"
      },
      "outputs": [],
      "source": [
        "xgb_classifier.fit(x_train_extract_RandomOverSample,y_train_RandomOverSample)\n",
        "y_pred_RandomOverSample_extract=xgb_classifier.predict(x_test_exctract)"
      ]
    },
    {
      "cell_type": "code",
      "execution_count": null,
      "metadata": {
        "colab": {
          "base_uri": "https://localhost:8080/",
          "height": 505
        },
        "id": "lJsw01KJCHt_",
        "outputId": "71e44c9d-d9c6-43bf-9099-d71ff9ab49a4"
      },
      "outputs": [
        {
          "name": "stdout",
          "output_type": "stream",
          "text": [
            "              precision    recall  f1-score   support\n",
            "\n",
            "           0       1.00      0.99      1.00     85295\n",
            "           1       0.16      0.93      0.28       148\n",
            "\n",
            "    accuracy                           0.99     85443\n",
            "   macro avg       0.58      0.96      0.64     85443\n",
            "weighted avg       1.00      0.99      0.99     85443\n",
            "\n",
            "recall = 0.9256756756756757\n",
            "precision 0.1629013079667063\n"
          ]
        },
        {
          "data": {
            "text/plain": [
              "<function matplotlib.pyplot.show(*args, **kw)>"
            ]
          },
          "execution_count": 116,
          "metadata": {},
          "output_type": "execute_result"
        },
        {
          "data": {
            "image/png": "[encoded data removed]",
            "text/plain": [
              "<Figure size 432x288 with 2 Axes>"
            ]
          },
          "metadata": {},
          "output_type": "display_data"
        },
        {
          "data": {
            "text/plain": [
              "<Figure size 720x360 with 0 Axes>"
            ]
          },
          "metadata": {},
          "output_type": "display_data"
        }
      ],
      "source": [
        "print(classification_report(y_test_extract,y_pred_RandomOverSample_extract))\n",
        "\n",
        "#f1_score =f1_score(y_test, y_pred_RandomOverSample_extract)\n",
        "recall =recall_score(y_test_extract, y_pred_RandomOverSample_extract)\n",
        "precision =precision_score(y_test_extract,y_pred_RandomOverSample_extract)\n",
        "\n",
        "#print('f1_score =', f1_score)\n",
        "print('recall =', recall)\n",
        "print('precision', precision)\n",
        "\n",
        "conf_mat =confusion_matrix(y_test_extract,y_pred_RandomOverSample_extract)\n",
        "                           \n",
        "cm_display =ConfusionMatrixDisplay(confusion_matrix=conf_mat)\n",
        "\n",
        "cm_display.plot()\n",
        "\n",
        "plt.figure(figsize=(10,5))\n",
        "plt.show"
      ]
    },
    {
      "cell_type": "markdown",
      "metadata": {
        "id": "8FnZF02nCHuA"
      },
      "source": [
        "##### evaluating using standard extracted randomOverSample dataset:"
      ]
    },
    {
      "cell_type": "code",
      "execution_count": null,
      "metadata": {
        "id": "7iUrZfZ3CHuA"
      },
      "outputs": [],
      "source": [
        "xgb_classifier.fit(x_train_extract_standar_RandomOverSample,y_train_standar_RandomOverSample)\n",
        "y_pred_extract_standar_RandomOverSample =xgb_classifier.predict(x_test_exctract)"
      ]
    },
    {
      "cell_type": "code",
      "execution_count": null,
      "metadata": {
        "colab": {
          "base_uri": "https://localhost:8080/",
          "height": 505
        },
        "id": "gGhvE1cxCHuB",
        "outputId": "e53f3901-030c-4f01-e92e-c578d4588fb8"
      },
      "outputs": [
        {
          "name": "stdout",
          "output_type": "stream",
          "text": [
            "              precision    recall  f1-score   support\n",
            "\n",
            "           0       1.00      0.99      0.99     85295\n",
            "           1       0.13      0.91      0.22       148\n",
            "\n",
            "    accuracy                           0.99     85443\n",
            "   macro avg       0.56      0.95      0.61     85443\n",
            "weighted avg       1.00      0.99      0.99     85443\n",
            "\n",
            "recall = 0.9054054054054054\n",
            "precision 0.1268939393939394\n"
          ]
        },
        {
          "data": {
            "text/plain": [
              "<function matplotlib.pyplot.show(*args, **kw)>"
            ]
          },
          "execution_count": 118,
          "metadata": {},
          "output_type": "execute_result"
        },
        {
          "data": {
            "image/png": "[encoded data removed]",
            "text/plain": [
              "<Figure size 432x288 with 2 Axes>"
            ]
          },
          "metadata": {},
          "output_type": "display_data"
        },
        {
          "data": {
            "text/plain": [
              "<Figure size 720x360 with 0 Axes>"
            ]
          },
          "metadata": {},
          "output_type": "display_data"
        }
      ],
      "source": [
        "print(classification_report(y_test_extract,y_pred_extract_standar_RandomOverSample))\n",
        "\n",
        "#f1_score =f1_score(y_test, y_pred_RandomOverSample_extract)\n",
        "recall =recall_score(y_test_extract, y_pred_extract_standar_RandomOverSample)\n",
        "precision =precision_score(y_test_extract,y_pred_extract_standar_RandomOverSample)\n",
        "\n",
        "#print('f1_score =', f1_score)\n",
        "print('recall =', recall)\n",
        "print('precision', precision)\n",
        "\n",
        "conf_mat =confusion_matrix(y_test_extract,y_pred_extract_standar_RandomOverSample)\n",
        "                           \n",
        "cm_display =ConfusionMatrixDisplay(confusion_matrix=conf_mat)\n",
        "\n",
        "cm_display.plot()\n",
        "\n",
        "plt.figure(figsize=(10,5))\n",
        "plt.show"
      ]
    },
    {
      "cell_type": "markdown",
      "metadata": {
        "id": "P0MruEU6CHuC"
      },
      "source": [
        "#### SMOTE dataset using xgb_classifier:"
      ]
    },
    {
      "cell_type": "markdown",
      "metadata": {
        "id": "F7il_Sr4CHuC"
      },
      "source": [
        "##### evaluating using original SMOTE dataset:"
      ]
    },
    {
      "cell_type": "code",
      "execution_count": null,
      "metadata": {
        "id": "DP8uqB3UCHuC"
      },
      "outputs": [],
      "source": [
        "xgb_classifier.fit(x_train_SMOTE, y_train_SMOTE)\n",
        "y_pred_SMOTE =xgb_classifier.predict(x_test)"
      ]
    },
    {
      "cell_type": "code",
      "execution_count": null,
      "metadata": {
        "colab": {
          "base_uri": "https://localhost:8080/",
          "height": 505
        },
        "id": "Cfq3EPr-CHuD",
        "outputId": "7d7c28b5-b09a-4a6a-8729-6e37b4c3c990"
      },
      "outputs": [
        {
          "name": "stdout",
          "output_type": "stream",
          "text": [
            "              precision    recall  f1-score   support\n",
            "\n",
            "           0       1.00      0.99      1.00     85295\n",
            "           1       0.22      0.90      0.35       148\n",
            "\n",
            "    accuracy                           0.99     85443\n",
            "   macro avg       0.61      0.95      0.67     85443\n",
            "weighted avg       1.00      0.99      1.00     85443\n",
            "\n",
            "recall = 0.8986486486486487\n",
            "precision 0.215210355987055\n"
          ]
        },
        {
          "data": {
            "text/plain": [
              "<function matplotlib.pyplot.show(*args, **kw)>"
            ]
          },
          "execution_count": 120,
          "metadata": {},
          "output_type": "execute_result"
        },
        {
          "data": {
            "image/png": "[encoded data removed]",
            "text/plain": [
              "<Figure size 432x288 with 2 Axes>"
            ]
          },
          "metadata": {},
          "output_type": "display_data"
        },
        {
          "data": {
            "text/plain": [
              "<Figure size 720x360 with 0 Axes>"
            ]
          },
          "metadata": {},
          "output_type": "display_data"
        }
      ],
      "source": [
        "print(classification_report(y_test,y_pred_SMOTE))\n",
        "\n",
        "#f1_score =f1_score(y_test, y_pred_RandomOverSample)\n",
        "recall =recall_score(y_test, y_pred_SMOTE)\n",
        "precision =precision_score(y_test,y_pred_SMOTE)\n",
        "\n",
        "#print('f1_score =', f1_score)\n",
        "print('recall =', recall)\n",
        "print('precision', precision)\n",
        "\n",
        "conf_mat =confusion_matrix(y_test,y_pred_SMOTE)\n",
        "                           \n",
        "cm_display =ConfusionMatrixDisplay(confusion_matrix=conf_mat)\n",
        "\n",
        "cm_display.plot()\n",
        "\n",
        "plt.figure(figsize=(10,5))\n",
        "plt.show"
      ]
    },
    {
      "cell_type": "markdown",
      "metadata": {
        "id": "yIpRuO3SCHuE"
      },
      "source": [
        "##### evaluating using original standard randomOverSample dataset:"
      ]
    },
    {
      "cell_type": "code",
      "execution_count": null,
      "metadata": {
        "id": "79QnBovUCHuE"
      },
      "outputs": [],
      "source": [
        "xgb_classifier.fit(x_train_standar_SMOTE, y_train_standar_SMOTE)\n",
        "y_pred_standar_SMOTE=xgb_classifier.predict(x_test)"
      ]
    },
    {
      "cell_type": "code",
      "execution_count": null,
      "metadata": {
        "colab": {
          "base_uri": "https://localhost:8080/",
          "height": 505
        },
        "id": "CjfoIOZDCHuF",
        "outputId": "05dc2ec0-84d5-4cd2-d66d-3f1156652a59"
      },
      "outputs": [
        {
          "name": "stdout",
          "output_type": "stream",
          "text": [
            "              precision    recall  f1-score   support\n",
            "\n",
            "           0       1.00      0.99      0.99     85295\n",
            "           1       0.13      0.91      0.23       148\n",
            "\n",
            "    accuracy                           0.99     85443\n",
            "   macro avg       0.56      0.95      0.61     85443\n",
            "weighted avg       1.00      0.99      0.99     85443\n",
            "\n",
            "recall = 0.9054054054054054\n",
            "precision 0.1294685990338164\n"
          ]
        },
        {
          "data": {
            "text/plain": [
              "<function matplotlib.pyplot.show(*args, **kw)>"
            ]
          },
          "execution_count": 122,
          "metadata": {},
          "output_type": "execute_result"
        },
        {
          "data": {
            "image/png": "[encoded data removed]",
            "text/plain": [
              "<Figure size 432x288 with 2 Axes>"
            ]
          },
          "metadata": {},
          "output_type": "display_data"
        },
        {
          "data": {
            "text/plain": [
              "<Figure size 720x360 with 0 Axes>"
            ]
          },
          "metadata": {},
          "output_type": "display_data"
        }
      ],
      "source": [
        "print(classification_report(y_test,y_pred_standar_SMOTE))\n",
        "\n",
        "#f1_score =f1_score(y_test, y_pred_RandomOverSample_extract)\n",
        "recall =recall_score(y_test, y_pred_standar_SMOTE)\n",
        "precision =precision_score(y_test,y_pred_standar_SMOTE)\n",
        "\n",
        "#print('f1_score =', f1_score)\n",
        "print('recall =', recall)\n",
        "print('precision', precision)\n",
        "\n",
        "conf_mat =confusion_matrix(y_test,y_pred_standar_SMOTE)\n",
        "                           \n",
        "cm_display =ConfusionMatrixDisplay(confusion_matrix=conf_mat)\n",
        "\n",
        "cm_display.plot()\n",
        "\n",
        "plt.figure(figsize=(10,5))\n",
        "plt.show"
      ]
    },
    {
      "cell_type": "markdown",
      "metadata": {
        "id": "r2txSQ2JCHuG"
      },
      "source": [
        "##### evaluating using extracted features randomOverSample dataset:"
      ]
    },
    {
      "cell_type": "code",
      "execution_count": null,
      "metadata": {
        "id": "uqMve3hnCHuG"
      },
      "outputs": [],
      "source": [
        "xgb_classifier.fit(x_train_extract_SMOTE,y_train_extract_SMOTE)\n",
        "y_pred_SMOTE_extract=xgb_classifier.predict(x_test_exctract)"
      ]
    },
    {
      "cell_type": "code",
      "execution_count": null,
      "metadata": {
        "colab": {
          "base_uri": "https://localhost:8080/",
          "height": 505
        },
        "id": "Wl-V9G6zCHuH",
        "outputId": "fa350318-d3b1-4f4c-e8a6-e87449a053f1"
      },
      "outputs": [
        {
          "name": "stdout",
          "output_type": "stream",
          "text": [
            "              precision    recall  f1-score   support\n",
            "\n",
            "           0       1.00      0.98      0.99     85295\n",
            "           1       0.10      0.93      0.17       148\n",
            "\n",
            "    accuracy                           0.98     85443\n",
            "   macro avg       0.55      0.96      0.58     85443\n",
            "weighted avg       1.00      0.98      0.99     85443\n",
            "\n",
            "recall = 0.9324324324324325\n",
            "precision 0.09556786703601108\n"
          ]
        },
        {
          "data": {
            "text/plain": [
              "<function matplotlib.pyplot.show(*args, **kw)>"
            ]
          },
          "execution_count": 124,
          "metadata": {},
          "output_type": "execute_result"
        },
        {
          "data": {
            "image/png": "[encoded data removed]",
            "text/plain": [
              "<Figure size 432x288 with 2 Axes>"
            ]
          },
          "metadata": {},
          "output_type": "display_data"
        },
        {
          "data": {
            "text/plain": [
              "<Figure size 720x360 with 0 Axes>"
            ]
          },
          "metadata": {},
          "output_type": "display_data"
        }
      ],
      "source": [
        "print(classification_report(y_test_extract,y_pred_SMOTE_extract))\n",
        "\n",
        "#f1_score =f1_score(y_test, y_pred_RandomOverSample_extract)\n",
        "recall =recall_score(y_test_extract, y_pred_SMOTE_extract)\n",
        "precision =precision_score(y_test_extract,y_pred_SMOTE_extract)\n",
        "\n",
        "#print('f1_score =', f1_score)\n",
        "print('recall =', recall)\n",
        "print('precision', precision)\n",
        "\n",
        "conf_mat =confusion_matrix(y_test_extract,y_pred_SMOTE_extract)\n",
        "                           \n",
        "cm_display =ConfusionMatrixDisplay(confusion_matrix=conf_mat)\n",
        "\n",
        "cm_display.plot()\n",
        "\n",
        "plt.figure(figsize=(10,5))\n",
        "plt.show"
      ]
    },
    {
      "cell_type": "markdown",
      "metadata": {
        "id": "ppTPKQUvCHuH"
      },
      "source": [
        "##### evaluating using standard extracted randomOverSample dataset:"
      ]
    },
    {
      "cell_type": "code",
      "execution_count": null,
      "metadata": {
        "id": "ij-8ThoPCHuI"
      },
      "outputs": [],
      "source": [
        "xgb_classifier.fit(x_train_extract_standar_SMOTE,y_train_standar_SMOTE)\n",
        "y_pred_extract_standar_SMOTE =xgb_classifier.predict(x_test_exctract)"
      ]
    },
    {
      "cell_type": "code",
      "execution_count": null,
      "metadata": {
        "colab": {
          "base_uri": "https://localhost:8080/",
          "height": 505
        },
        "id": "bbWxxpm3CHuI",
        "outputId": "5bdf0b3c-ee01-42a3-a4d1-9fad32df6745"
      },
      "outputs": [
        {
          "name": "stdout",
          "output_type": "stream",
          "text": [
            "              precision    recall  f1-score   support\n",
            "\n",
            "           0       1.00      0.98      0.99     85295\n",
            "           1       0.09      0.91      0.17       148\n",
            "\n",
            "    accuracy                           0.98     85443\n",
            "   macro avg       0.55      0.95      0.58     85443\n",
            "weighted avg       1.00      0.98      0.99     85443\n",
            "\n",
            "recall = 0.9054054054054054\n",
            "precision 0.09416725228390724\n"
          ]
        },
        {
          "data": {
            "text/plain": [
              "<function matplotlib.pyplot.show(*args, **kw)>"
            ]
          },
          "execution_count": 126,
          "metadata": {},
          "output_type": "execute_result"
        },
        {
          "data": {
            "image/png": "[encoded data removed]",
            "text/plain": [
              "<Figure size 432x288 with 2 Axes>"
            ]
          },
          "metadata": {},
          "output_type": "display_data"
        },
        {
          "data": {
            "text/plain": [
              "<Figure size 720x360 with 0 Axes>"
            ]
          },
          "metadata": {},
          "output_type": "display_data"
        }
      ],
      "source": [
        "print(classification_report(y_test_extract,y_pred_extract_standar_SMOTE))\n",
        "\n",
        "#f1_score =f1_score(y_test, y_pred_RandomOverSample_extract)\n",
        "recall =recall_score(y_test_extract, y_pred_extract_standar_SMOTE)\n",
        "precision =precision_score(y_test_extract,y_pred_extract_standar_SMOTE)\n",
        "\n",
        "#print('f1_score =', f1_score)\n",
        "print('recall =', recall)\n",
        "print('precision', precision)\n",
        "\n",
        "conf_mat =confusion_matrix(y_test_extract,y_pred_extract_standar_SMOTE)\n",
        "                           \n",
        "cm_display =ConfusionMatrixDisplay(confusion_matrix=conf_mat)\n",
        "\n",
        "cm_display.plot()\n",
        "\n",
        "plt.figure(figsize=(10,5))\n",
        "plt.show"
      ]
    },
    {
      "cell_type": "markdown",
      "metadata": {
        "id": "_m_u-6yGYzEk"
      },
      "source": [
        "### parameter Hypertuning:"
      ]
    },
    {
      "cell_type": "code",
      "execution_count": null,
      "metadata": {
        "id": "XL8Zb2ZHOqYE"
      },
      "outputs": [],
      "source": [
        "from sklearn.model_selection import RandomizedSearchCV"
      ]
    },
    {
      "cell_type": "code",
      "execution_count": null,
      "metadata": {
        "id": "O9gzhziaIGNT"
      },
      "outputs": [],
      "source": [
        "from sklearn.ensemble import AdaBoostClassifier\n",
        "ada_classifier =AdaBoostClassifier()"
      ]
    },
    {
      "cell_type": "code",
      "execution_count": null,
      "metadata": {
        "id": "-0rbJtppINaQ"
      },
      "outputs": [],
      "source": [
        "from xgboost import XGBClassifier\n",
        "xgb_classifier =XGBClassifier()"
      ]
    },
    {
      "cell_type": "markdown",
      "metadata": {
        "id": "QMK1s42YNdkA"
      },
      "source": [
        "##### randomizedSearchCv for adaboost:"
      ]
    },
    {
      "cell_type": "code",
      "execution_count": null,
      "metadata": {
        "id": "qdug2ygLTbKM"
      },
      "outputs": [],
      "source": [
        "params_ada={\n",
        "    'n_estimators'     :[50, 60, 70, 80, 90, 100],\n",
        "    'learning_rate'    :[0.5, 0.8, 1, 1.5, 2, 2.5, 3],\n",
        "    'algorithm'        :['SAMME', 'SAMME.R']\n",
        "    }\n",
        "\n",
        "\n",
        "params_ada_new_2={\n",
        "    'n_estimators'     :[100, 120, 140, 160, 180, 200 ],\n",
        "    'learning_rate'    :[0.4, 0.6, 0.8, 1, 1.4, ,1.8, 2],\n",
        "    'algorithm'        :['SAMME', 'SAMME.R']\n",
        "    }    "
      ]
    },
    {
      "cell_type": "code",
      "execution_count": null,
      "metadata": {
        "id": "UJaVGekRKV68"
      },
      "outputs": [],
      "source": [
        "params_ada_new_2={\n",
        "    'n_estimators'     :[50, 70 ,90 ,100, 120, 150, 170, 200 ],\n",
        "    'learning_rate'    :[0.50, 0.70,0.8, 0.85, 0.9,0.95, 1],\n",
        "    'algorithm'        :['SAMME', 'SAMME.R']\n",
        "    }   "
      ]
    },
    {
      "cell_type": "code",
      "execution_count": null,
      "metadata": {
        "id": "0f0Sqs450HeF"
      },
      "outputs": [],
      "source": [
        "recall = make_scorer(recall_score)"
      ]
    },
    {
      "cell_type": "code",
      "execution_count": null,
      "metadata": {
        "colab": {
          "base_uri": "https://localhost:8080/",
          "height": 200
        },
        "id": "2cfX3C5zU1Fl",
        "outputId": "e70256f0-7638-4cd9-b7ae-4498fe79f183"
      },
      "outputs": [
        {
          "ename": "NameError",
          "evalue": "ignored",
          "output_type": "error",
          "traceback": [
            "\u001b[0;31m---------------------------------------------------------------------------\u001b[0m",
            "\u001b[0;31mNameError\u001b[0m                                 Traceback (most recent call last)",
            "\u001b[0;32m<ipython-input-2-69c16fd8a2c9>\u001b[0m in \u001b[0;36m<module>\u001b[0;34m\u001b[0m\n\u001b[1;32m      3\u001b[0m \u001b[0;31m# random_search_ada_new=RandomizedSearchCV(ada_classifier,param_distributions=params_ada ,scoring='recall',n_jobs=-1)\u001b[0m\u001b[0;34m\u001b[0m\u001b[0;34m\u001b[0m\u001b[0;34m\u001b[0m\u001b[0m\n\u001b[1;32m      4\u001b[0m \u001b[0;34m\u001b[0m\u001b[0m\n\u001b[0;32m----> 5\u001b[0;31m \u001b[0mrandom_search_ada_new_2\u001b[0m\u001b[0;34m=\u001b[0m\u001b[0mRandomizedSearchCV\u001b[0m\u001b[0;34m(\u001b[0m\u001b[0mada_classifier\u001b[0m\u001b[0;34m,\u001b[0m\u001b[0mparam_distributions\u001b[0m\u001b[0;34m=\u001b[0m\u001b[0mparams_ada_new_2\u001b[0m \u001b[0;34m,\u001b[0m\u001b[0mscoring\u001b[0m\u001b[0;34m=\u001b[0m\u001b[0;34m'roc_auc'\u001b[0m\u001b[0;34m,\u001b[0m\u001b[0mn_jobs\u001b[0m\u001b[0;34m=\u001b[0m\u001b[0;34m-\u001b[0m\u001b[0;36m1\u001b[0m\u001b[0;34m)\u001b[0m\u001b[0;34m\u001b[0m\u001b[0;34m\u001b[0m\u001b[0m\n\u001b[0m",
            "\u001b[0;31mNameError\u001b[0m: name 'RandomizedSearchCV' is not defined"
          ]
        }
      ],
      "source": [
        "#random_search_ada=RandomizedSearchCV(ada_classifier,param_distributions=params_ada,n_iter=5, scoring='recall',n_jobs=-1,cv=5,verbose=3)\n",
        "\n",
        "# random_search_ada_new=RandomizedSearchCV(ada_classifier,param_distributions=params_ada ,scoring='recall',n_jobs=-1)\n",
        "\n",
        "random_search_ada_new_2=RandomizedSearchCV(ada_classifier,param_distributions=params_ada_new_2 ,scoring='roc_auc',n_jobs=-1)"
      ]
    },
    {
      "cell_type": "code",
      "execution_count": null,
      "metadata": {
        "colab": {
          "base_uri": "https://localhost:8080/",
          "height": 235
        },
        "id": "hyMBmzPIVGIO",
        "outputId": "1757aecb-64ed-43c0-ba5f-ba215bd22511"
      },
      "outputs": [
        {
          "ename": "NameError",
          "evalue": "ignored",
          "output_type": "error",
          "traceback": [
            "\u001b[0;31m---------------------------------------------------------------------------\u001b[0m",
            "\u001b[0;31mNameError\u001b[0m                                 Traceback (most recent call last)",
            "\u001b[0;32m<ipython-input-42-c75f5dae3e0e>\u001b[0m in \u001b[0;36m<module>\u001b[0;34m\u001b[0m\n\u001b[0;32m----> 1\u001b[0;31m \u001b[0mrandom_search_ada\u001b[0m\u001b[0;34m.\u001b[0m\u001b[0mfit\u001b[0m\u001b[0;34m(\u001b[0m\u001b[0mx_train_extract_standar_SMOTE\u001b[0m\u001b[0;34m,\u001b[0m\u001b[0my_train_standar_SMOTE\u001b[0m\u001b[0;34m)\u001b[0m\u001b[0;34m\u001b[0m\u001b[0;34m\u001b[0m\u001b[0m\n\u001b[0m\u001b[1;32m      2\u001b[0m \u001b[0;31m# Fitting 5 folds for each of 5 candidates, totalling 25 fits\u001b[0m\u001b[0;34m\u001b[0m\u001b[0;34m\u001b[0m\u001b[0;34m\u001b[0m\u001b[0m\n\u001b[1;32m      3\u001b[0m \u001b[0;31m# RandomizedSearchCV(cv=5, estimator=AdaBoostClassifier(), n_iter=5, n_jobs=-1,\u001b[0m\u001b[0;34m\u001b[0m\u001b[0;34m\u001b[0m\u001b[0;34m\u001b[0m\u001b[0m\n\u001b[1;32m      4\u001b[0m \u001b[0;31m#                    param_distributions={'algorithm': ['SAMME', 'SAMME.R'],\u001b[0m\u001b[0;34m\u001b[0m\u001b[0;34m\u001b[0m\u001b[0;34m\u001b[0m\u001b[0m\n\u001b[1;32m      5\u001b[0m \u001b[0;31m#                                         'learning_rate': [0.5, 0.8, 1, 1.5, 2,\u001b[0m\u001b[0;34m\u001b[0m\u001b[0;34m\u001b[0m\u001b[0;34m\u001b[0m\u001b[0m\n",
            "\u001b[0;31mNameError\u001b[0m: name 'random_search_ada' is not defined"
          ]
        }
      ],
      "source": [
        "random_search_ada.fit(x_train_extract_standar_SMOTE,y_train_standar_SMOTE)\n",
        "# Fitting 5 folds for each of 5 candidates, totalling 25 fits\n",
        "# RandomizedSearchCV(cv=5, estimator=AdaBoostClassifier(), n_iter=5, n_jobs=-1,\n",
        "#                    param_distributions={'algorithm': ['SAMME', 'SAMME.R'],\n",
        "#                                         'learning_rate': [0.5, 0.8, 1, 1.5, 2,\n",
        "#                                                           2.5, 3],\n",
        "#                                         'n_estimators': [50, 60, 70, 80, 90,\n",
        "#                                                          100]},\n",
        "#                    scoring='recall', verbose=3)\n",
        "\n",
        "\n"
      ]
    },
    {
      "cell_type": "code",
      "execution_count": null,
      "metadata": {
        "colab": {
          "base_uri": "https://localhost:8080/"
        },
        "id": "5WI_XI3YVgKT",
        "outputId": "e2960679-dfc5-44cf-e838-6b69aab71729"
      },
      "outputs": [
        {
          "data": {
            "text/plain": [
              "AdaBoostClassifier(learning_rate=1, n_estimators=70)"
            ]
          },
          "execution_count": 59,
          "metadata": {},
          "output_type": "execute_result"
        }
      ],
      "source": [
        "random_search_ada.best_estimator_\n",
        " #AdaBoostClassifier(learning_rate=1, n_estimators=70)"
      ]
    },
    {
      "cell_type": "code",
      "execution_count": null,
      "metadata": {
        "colab": {
          "base_uri": "https://localhost:8080/"
        },
        "id": "yrAMrLNmXfgr",
        "outputId": "73d77cd7-a43f-4234-e391-11916b7c5a77"
      },
      "outputs": [
        {
          "data": {
            "text/plain": [
              "0.9415586373228821"
            ]
          },
          "execution_count": 60,
          "metadata": {},
          "output_type": "execute_result"
        }
      ],
      "source": [
        "random_search_ada.best_score_\n",
        "#0.9415586373228821"
      ]
    },
    {
      "cell_type": "code",
      "execution_count": null,
      "metadata": {
        "colab": {
          "base_uri": "https://localhost:8080/"
        },
        "id": "OCMWmtqEXga6",
        "outputId": "a523ef0e-bcf8-4505-f7d5-9633d760cbd1"
      },
      "outputs": [
        {
          "data": {
            "text/plain": [
              "{'n_estimators': 70, 'learning_rate': 1, 'algorithm': 'SAMME.R'}"
            ]
          },
          "execution_count": 61,
          "metadata": {},
          "output_type": "execute_result"
        }
      ],
      "source": [
        "random_search_ada.best_params_\n",
        "#{'n_estimators': 70, 'learning_rate': 1, 'algorithm': 'SAMME.R'}"
      ]
    },
    {
      "cell_type": "code",
      "execution_count": null,
      "metadata": {
        "colab": {
          "base_uri": "https://localhost:8080/",
          "height": 311
        },
        "id": "sD6MXPQSX_al",
        "outputId": "071927eb-91d6-4747-8565-159b3beaca5a"
      },
      "outputs": [
        {
          "ename": "KeyboardInterrupt",
          "evalue": "ignored",
          "output_type": "error",
          "traceback": [
            "\u001b[0;31m---------------------------------------------------------------------------\u001b[0m",
            "\u001b[0;31mKeyboardInterrupt\u001b[0m                         Traceback (most recent call last)",
            "\u001b[0;32m<ipython-input-53-c0b7a02bc884>\u001b[0m in \u001b[0;36m<module>\u001b[0;34m\u001b[0m\n\u001b[0;32m----> 1\u001b[0;31m \u001b[0mrandom_search_ada_new\u001b[0m\u001b[0;34m.\u001b[0m\u001b[0mfit\u001b[0m\u001b[0;34m(\u001b[0m\u001b[0mx_train_extract_standar_SMOTE\u001b[0m\u001b[0;34m,\u001b[0m\u001b[0my_train_standar_SMOTE\u001b[0m\u001b[0;34m)\u001b[0m\u001b[0;34m\u001b[0m\u001b[0;34m\u001b[0m\u001b[0m\n\u001b[0m",
            "\u001b[0;32m/usr/local/lib/python3.7/dist-packages/sklearn/model_selection/_search.py\u001b[0m in \u001b[0;36mfit\u001b[0;34m(self, X, y, groups, **fit_params)\u001b[0m\n\u001b[1;32m    889\u001b[0m                 \u001b[0;32mreturn\u001b[0m \u001b[0mresults\u001b[0m\u001b[0;34m\u001b[0m\u001b[0;34m\u001b[0m\u001b[0m\n\u001b[1;32m    890\u001b[0m \u001b[0;34m\u001b[0m\u001b[0m\n\u001b[0;32m--> 891\u001b[0;31m             \u001b[0mself\u001b[0m\u001b[0;34m.\u001b[0m\u001b[0m_run_search\u001b[0m\u001b[0;34m(\u001b[0m\u001b[0mevaluate_candidates\u001b[0m\u001b[0;34m)\u001b[0m\u001b[0;34m\u001b[0m\u001b[0;34m\u001b[0m\u001b[0m\n\u001b[0m\u001b[1;32m    892\u001b[0m \u001b[0;34m\u001b[0m\u001b[0m\n\u001b[1;32m    893\u001b[0m             \u001b[0;31m# multimetric is determined here because in the case of a callable\u001b[0m\u001b[0;34m\u001b[0m\u001b[0;34m\u001b[0m\u001b[0;34m\u001b[0m\u001b[0m\n",
            "\u001b[0;32m/usr/local/lib/python3.7/dist-packages/sklearn/model_selection/_search.py\u001b[0m in \u001b[0;36m_run_search\u001b[0;34m(self, evaluate_candidates)\u001b[0m\n\u001b[1;32m   1766\u001b[0m         evaluate_candidates(\n\u001b[1;32m   1767\u001b[0m             ParameterSampler(\n\u001b[0;32m-> 1768\u001b[0;31m                 \u001b[0mself\u001b[0m\u001b[0;34m.\u001b[0m\u001b[0mparam_distributions\u001b[0m\u001b[0;34m,\u001b[0m \u001b[0mself\u001b[0m\u001b[0;34m.\u001b[0m\u001b[0mn_iter\u001b[0m\u001b[0;34m,\u001b[0m \u001b[0mrandom_state\u001b[0m\u001b[0;34m=\u001b[0m\u001b[0mself\u001b[0m\u001b[0;34m.\u001b[0m\u001b[0mrandom_state\u001b[0m\u001b[0;34m\u001b[0m\u001b[0;34m\u001b[0m\u001b[0m\n\u001b[0m\u001b[1;32m   1769\u001b[0m             )\n\u001b[1;32m   1770\u001b[0m         )\n",
            "\u001b[0;32m/usr/local/lib/python3.7/dist-packages/sklearn/model_selection/_search.py\u001b[0m in \u001b[0;36mevaluate_candidates\u001b[0;34m(candidate_params, cv, more_results)\u001b[0m\n\u001b[1;32m    849\u001b[0m                     )\n\u001b[1;32m    850\u001b[0m                     for (cand_idx, parameters), (split_idx, (train, test)) in product(\n\u001b[0;32m--> 851\u001b[0;31m                         \u001b[0menumerate\u001b[0m\u001b[0;34m(\u001b[0m\u001b[0mcandidate_params\u001b[0m\u001b[0;34m)\u001b[0m\u001b[0;34m,\u001b[0m \u001b[0menumerate\u001b[0m\u001b[0;34m(\u001b[0m\u001b[0mcv\u001b[0m\u001b[0;34m.\u001b[0m\u001b[0msplit\u001b[0m\u001b[0;34m(\u001b[0m\u001b[0mX\u001b[0m\u001b[0;34m,\u001b[0m \u001b[0my\u001b[0m\u001b[0;34m,\u001b[0m \u001b[0mgroups\u001b[0m\u001b[0;34m)\u001b[0m\u001b[0;34m)\u001b[0m\u001b[0;34m\u001b[0m\u001b[0;34m\u001b[0m\u001b[0m\n\u001b[0m\u001b[1;32m    852\u001b[0m                     )\n\u001b[1;32m    853\u001b[0m                 )\n",
            "\u001b[0;32m/usr/local/lib/python3.7/dist-packages/joblib/parallel.py\u001b[0m in \u001b[0;36m__call__\u001b[0;34m(self, iterable)\u001b[0m\n\u001b[1;32m   1054\u001b[0m \u001b[0;34m\u001b[0m\u001b[0m\n\u001b[1;32m   1055\u001b[0m             \u001b[0;32mwith\u001b[0m \u001b[0mself\u001b[0m\u001b[0;34m.\u001b[0m\u001b[0m_backend\u001b[0m\u001b[0;34m.\u001b[0m\u001b[0mretrieval_context\u001b[0m\u001b[0;34m(\u001b[0m\u001b[0;34m)\u001b[0m\u001b[0;34m:\u001b[0m\u001b[0;34m\u001b[0m\u001b[0;34m\u001b[0m\u001b[0m\n\u001b[0;32m-> 1056\u001b[0;31m                 \u001b[0mself\u001b[0m\u001b[0;34m.\u001b[0m\u001b[0mretrieve\u001b[0m\u001b[0;34m(\u001b[0m\u001b[0;34m)\u001b[0m\u001b[0;34m\u001b[0m\u001b[0;34m\u001b[0m\u001b[0m\n\u001b[0m\u001b[1;32m   1057\u001b[0m             \u001b[0;31m# Make sure that we get a last message telling us we are done\u001b[0m\u001b[0;34m\u001b[0m\u001b[0;34m\u001b[0m\u001b[0;34m\u001b[0m\u001b[0m\n\u001b[1;32m   1058\u001b[0m             \u001b[0melapsed_time\u001b[0m \u001b[0;34m=\u001b[0m \u001b[0mtime\u001b[0m\u001b[0;34m.\u001b[0m\u001b[0mtime\u001b[0m\u001b[0;34m(\u001b[0m\u001b[0;34m)\u001b[0m \u001b[0;34m-\u001b[0m \u001b[0mself\u001b[0m\u001b[0;34m.\u001b[0m\u001b[0m_start_time\u001b[0m\u001b[0;34m\u001b[0m\u001b[0;34m\u001b[0m\u001b[0m\n",
            "\u001b[0;32m/usr/local/lib/python3.7/dist-packages/joblib/parallel.py\u001b[0m in \u001b[0;36mretrieve\u001b[0;34m(self)\u001b[0m\n\u001b[1;32m    933\u001b[0m             \u001b[0;32mtry\u001b[0m\u001b[0;34m:\u001b[0m\u001b[0;34m\u001b[0m\u001b[0;34m\u001b[0m\u001b[0m\n\u001b[1;32m    934\u001b[0m                 \u001b[0;32mif\u001b[0m \u001b[0mgetattr\u001b[0m\u001b[0;34m(\u001b[0m\u001b[0mself\u001b[0m\u001b[0;34m.\u001b[0m\u001b[0m_backend\u001b[0m\u001b[0;34m,\u001b[0m \u001b[0;34m'supports_timeout'\u001b[0m\u001b[0;34m,\u001b[0m \u001b[0;32mFalse\u001b[0m\u001b[0;34m)\u001b[0m\u001b[0;34m:\u001b[0m\u001b[0;34m\u001b[0m\u001b[0;34m\u001b[0m\u001b[0m\n\u001b[0;32m--> 935\u001b[0;31m                     \u001b[0mself\u001b[0m\u001b[0;34m.\u001b[0m\u001b[0m_output\u001b[0m\u001b[0;34m.\u001b[0m\u001b[0mextend\u001b[0m\u001b[0;34m(\u001b[0m\u001b[0mjob\u001b[0m\u001b[0;34m.\u001b[0m\u001b[0mget\u001b[0m\u001b[0;34m(\u001b[0m\u001b[0mtimeout\u001b[0m\u001b[0;34m=\u001b[0m\u001b[0mself\u001b[0m\u001b[0;34m.\u001b[0m\u001b[0mtimeout\u001b[0m\u001b[0;34m)\u001b[0m\u001b[0;34m)\u001b[0m\u001b[0;34m\u001b[0m\u001b[0;34m\u001b[0m\u001b[0m\n\u001b[0m\u001b[1;32m    936\u001b[0m                 \u001b[0;32melse\u001b[0m\u001b[0;34m:\u001b[0m\u001b[0;34m\u001b[0m\u001b[0;34m\u001b[0m\u001b[0m\n\u001b[1;32m    937\u001b[0m                     \u001b[0mself\u001b[0m\u001b[0;34m.\u001b[0m\u001b[0m_output\u001b[0m\u001b[0;34m.\u001b[0m\u001b[0mextend\u001b[0m\u001b[0;34m(\u001b[0m\u001b[0mjob\u001b[0m\u001b[0;34m.\u001b[0m\u001b[0mget\u001b[0m\u001b[0;34m(\u001b[0m\u001b[0;34m)\u001b[0m\u001b[0;34m)\u001b[0m\u001b[0;34m\u001b[0m\u001b[0;34m\u001b[0m\u001b[0m\n",
            "\u001b[0;32m/usr/local/lib/python3.7/dist-packages/joblib/_parallel_backends.py\u001b[0m in \u001b[0;36mwrap_future_result\u001b[0;34m(future, timeout)\u001b[0m\n\u001b[1;32m    540\u001b[0m         AsyncResults.get from multiprocessing.\"\"\"\n\u001b[1;32m    541\u001b[0m         \u001b[0;32mtry\u001b[0m\u001b[0;34m:\u001b[0m\u001b[0;34m\u001b[0m\u001b[0;34m\u001b[0m\u001b[0m\n\u001b[0;32m--> 542\u001b[0;31m             \u001b[0;32mreturn\u001b[0m \u001b[0mfuture\u001b[0m\u001b[0;34m.\u001b[0m\u001b[0mresult\u001b[0m\u001b[0;34m(\u001b[0m\u001b[0mtimeout\u001b[0m\u001b[0;34m=\u001b[0m\u001b[0mtimeout\u001b[0m\u001b[0;34m)\u001b[0m\u001b[0;34m\u001b[0m\u001b[0;34m\u001b[0m\u001b[0m\n\u001b[0m\u001b[1;32m    543\u001b[0m         \u001b[0;32mexcept\u001b[0m \u001b[0mCfTimeoutError\u001b[0m \u001b[0;32mas\u001b[0m \u001b[0me\u001b[0m\u001b[0;34m:\u001b[0m\u001b[0;34m\u001b[0m\u001b[0;34m\u001b[0m\u001b[0m\n\u001b[1;32m    544\u001b[0m             \u001b[0;32mraise\u001b[0m \u001b[0mTimeoutError\u001b[0m \u001b[0;32mfrom\u001b[0m \u001b[0me\u001b[0m\u001b[0;34m\u001b[0m\u001b[0;34m\u001b[0m\u001b[0m\n",
            "\u001b[0;32m/usr/lib/python3.7/concurrent/futures/_base.py\u001b[0m in \u001b[0;36mresult\u001b[0;34m(self, timeout)\u001b[0m\n\u001b[1;32m    428\u001b[0m                 \u001b[0;32mreturn\u001b[0m \u001b[0mself\u001b[0m\u001b[0;34m.\u001b[0m\u001b[0m__get_result\u001b[0m\u001b[0;34m(\u001b[0m\u001b[0;34m)\u001b[0m\u001b[0;34m\u001b[0m\u001b[0;34m\u001b[0m\u001b[0m\n\u001b[1;32m    429\u001b[0m \u001b[0;34m\u001b[0m\u001b[0m\n\u001b[0;32m--> 430\u001b[0;31m             \u001b[0mself\u001b[0m\u001b[0;34m.\u001b[0m\u001b[0m_condition\u001b[0m\u001b[0;34m.\u001b[0m\u001b[0mwait\u001b[0m\u001b[0;34m(\u001b[0m\u001b[0mtimeout\u001b[0m\u001b[0;34m)\u001b[0m\u001b[0;34m\u001b[0m\u001b[0;34m\u001b[0m\u001b[0m\n\u001b[0m\u001b[1;32m    431\u001b[0m \u001b[0;34m\u001b[0m\u001b[0m\n\u001b[1;32m    432\u001b[0m             \u001b[0;32mif\u001b[0m \u001b[0mself\u001b[0m\u001b[0;34m.\u001b[0m\u001b[0m_state\u001b[0m \u001b[0;32min\u001b[0m \u001b[0;34m[\u001b[0m\u001b[0mCANCELLED\u001b[0m\u001b[0;34m,\u001b[0m \u001b[0mCANCELLED_AND_NOTIFIED\u001b[0m\u001b[0;34m]\u001b[0m\u001b[0;34m:\u001b[0m\u001b[0;34m\u001b[0m\u001b[0;34m\u001b[0m\u001b[0m\n",
            "\u001b[0;32m/usr/lib/python3.7/threading.py\u001b[0m in \u001b[0;36mwait\u001b[0;34m(self, timeout)\u001b[0m\n\u001b[1;32m    294\u001b[0m         \u001b[0;32mtry\u001b[0m\u001b[0;34m:\u001b[0m    \u001b[0;31m# restore state no matter what (e.g., KeyboardInterrupt)\u001b[0m\u001b[0;34m\u001b[0m\u001b[0;34m\u001b[0m\u001b[0m\n\u001b[1;32m    295\u001b[0m             \u001b[0;32mif\u001b[0m \u001b[0mtimeout\u001b[0m \u001b[0;32mis\u001b[0m \u001b[0;32mNone\u001b[0m\u001b[0;34m:\u001b[0m\u001b[0;34m\u001b[0m\u001b[0;34m\u001b[0m\u001b[0m\n\u001b[0;32m--> 296\u001b[0;31m                 \u001b[0mwaiter\u001b[0m\u001b[0;34m.\u001b[0m\u001b[0macquire\u001b[0m\u001b[0;34m(\u001b[0m\u001b[0;34m)\u001b[0m\u001b[0;34m\u001b[0m\u001b[0;34m\u001b[0m\u001b[0m\n\u001b[0m\u001b[1;32m    297\u001b[0m                 \u001b[0mgotit\u001b[0m \u001b[0;34m=\u001b[0m \u001b[0;32mTrue\u001b[0m\u001b[0;34m\u001b[0m\u001b[0;34m\u001b[0m\u001b[0m\n\u001b[1;32m    298\u001b[0m             \u001b[0;32melse\u001b[0m\u001b[0;34m:\u001b[0m\u001b[0;34m\u001b[0m\u001b[0;34m\u001b[0m\u001b[0m\n",
            "\u001b[0;31mKeyboardInterrupt\u001b[0m: "
          ]
        }
      ],
      "source": [
        "random_search_ada_new.fit(x_train_extract_standar_SMOTE,y_train_standar_SMOTE)"
      ]
    },
    {
      "cell_type": "code",
      "execution_count": null,
      "metadata": {
        "colab": {
          "base_uri": "https://localhost:8080/"
        },
        "id": "R-W2sYiFYEAQ",
        "outputId": "ff8cdba6-54ac-46d0-fad2-ca04944c6cfd"
      },
      "outputs": [
        {
          "data": {
            "text/plain": [
              "AdaBoostClassifier(learning_rate=1, n_estimators=100)"
            ]
          },
          "execution_count": 44,
          "metadata": {},
          "output_type": "execute_result"
        }
      ],
      "source": [
        "random_search_ada_new.best_estimator_\n",
        "#AdaBoostClassifier(learning_rate=1, n_estimators=100)"
      ]
    },
    {
      "cell_type": "code",
      "execution_count": null,
      "metadata": {
        "colab": {
          "base_uri": "https://localhost:8080/"
        },
        "id": "K0ZOErq_YHoL",
        "outputId": "6cccb856-6764-4c81-f546-8c7ed8682624"
      },
      "outputs": [
        {
          "data": {
            "text/plain": [
              "0.9440106521957592"
            ]
          },
          "execution_count": 45,
          "metadata": {},
          "output_type": "execute_result"
        }
      ],
      "source": [
        "random_search_ada_new.best_score_\n",
        "#0.9440106521957592"
      ]
    },
    {
      "cell_type": "code",
      "execution_count": null,
      "metadata": {
        "colab": {
          "base_uri": "https://localhost:8080/"
        },
        "id": "zOcYp6G-YHoM",
        "outputId": "68c74457-4bb8-4284-b59b-a5681bd83fd8"
      },
      "outputs": [
        {
          "data": {
            "text/plain": [
              "{'n_estimators': 100, 'learning_rate': 1, 'algorithm': 'SAMME.R'}"
            ]
          },
          "execution_count": 46,
          "metadata": {},
          "output_type": "execute_result"
        }
      ],
      "source": [
        "random_search_ada_new.best_params_\n",
        "#{'n_estimators': 100, 'learning_rate': 1, 'algorithm': 'SAMME.R'}"
      ]
    },
    {
      "cell_type": "code",
      "execution_count": null,
      "metadata": {
        "id": "GyYepC8xq7ds"
      },
      "outputs": [],
      "source": [
        "#############################################################3"
      ]
    },
    {
      "cell_type": "code",
      "execution_count": null,
      "metadata": {
        "colab": {
          "base_uri": "https://localhost:8080/",
          "height": 165
        },
        "id": "3reO_DuMq7rT",
        "outputId": "9217a35c-5c0e-4eb8-af20-fada9c2de928"
      },
      "outputs": [
        {
          "ename": "NameError",
          "evalue": "ignored",
          "output_type": "error",
          "traceback": [
            "\u001b[0;31m---------------------------------------------------------------------------\u001b[0m",
            "\u001b[0;31mNameError\u001b[0m                                 Traceback (most recent call last)",
            "\u001b[0;32m<ipython-input-1-9be15029c713>\u001b[0m in \u001b[0;36m<module>\u001b[0;34m\u001b[0m\n\u001b[0;32m----> 1\u001b[0;31m \u001b[0mrandom_search_ada_new_2\u001b[0m\u001b[0;34m.\u001b[0m\u001b[0mfit\u001b[0m\u001b[0;34m(\u001b[0m\u001b[0mx_train_extract_standar_SMOTE\u001b[0m\u001b[0;34m,\u001b[0m\u001b[0my_train_standar_SMOTE\u001b[0m\u001b[0;34m)\u001b[0m\u001b[0;34m\u001b[0m\u001b[0;34m\u001b[0m\u001b[0m\n\u001b[0m",
            "\u001b[0;31mNameError\u001b[0m: name 'random_search_ada_new_2' is not defined"
          ]
        }
      ],
      "source": [
        "random_search_ada_new_2.fit(x_train_extract_standar_SMOTE,y_train_standar_SMOTE)"
      ]
    },
    {
      "cell_type": "code",
      "execution_count": null,
      "metadata": {
        "id": "wyqHRovpq7rV"
      },
      "outputs": [],
      "source": [
        "random_search_ada_new_2.best_estimator_"
      ]
    },
    {
      "cell_type": "code",
      "execution_count": null,
      "metadata": {
        "id": "vQE6oBuQq7rV"
      },
      "outputs": [],
      "source": [
        "random_search_ada_new_2.best_score_"
      ]
    },
    {
      "cell_type": "code",
      "execution_count": null,
      "metadata": {
        "id": "OQ-drdzwq7rW"
      },
      "outputs": [],
      "source": [
        "random_search_ada_new_2.best_params_"
      ]
    },
    {
      "cell_type": "code",
      "execution_count": null,
      "metadata": {
        "id": "hRLvVij9GZtr"
      },
      "outputs": [],
      "source": [
        "##########################################################"
      ]
    },
    {
      "cell_type": "code",
      "execution_count": null,
      "metadata": {
        "id": "IcoVblEGGZ84"
      },
      "outputs": [],
      "source": [
        "random_search_ada_new_2.fit(x_train_extract_standar_SMOTE,y_train_standar_SMOTE)"
      ]
    },
    {
      "cell_type": "code",
      "execution_count": null,
      "metadata": {
        "id": "U3105948GZ85"
      },
      "outputs": [],
      "source": [
        "random_search_ada_new_2.best_estimator_"
      ]
    },
    {
      "cell_type": "code",
      "execution_count": null,
      "metadata": {
        "id": "2reqZQKrGZ85"
      },
      "outputs": [],
      "source": [
        "random_search_ada_new_2.best_score_"
      ]
    },
    {
      "cell_type": "code",
      "execution_count": null,
      "metadata": {
        "id": "DKOuhytqGZ85"
      },
      "outputs": [],
      "source": [
        "random_search_ada_new_2.best_params_"
      ]
    },
    {
      "cell_type": "markdown",
      "metadata": {
        "id": "INHMF9drUWRS"
      },
      "source": [
        "##### randomizedSearchCv for xgbboost:"
      ]
    },
    {
      "cell_type": "code",
      "execution_count": null,
      "metadata": {
        "id": "fckxzzz9NdOf"
      },
      "outputs": [],
      "source": [
        "# Hyper Parameter Optimization\n",
        "params_xgb ={\n",
        "    'learning_rate'    :[0.05, 0.10, 0.15, 0.20, 0.25, 0.30, 1] ,\n",
        "    'max_depth'        :[3, 4, 5, 6, 8, 10, 12, 15],\n",
        "    'min_child_weight' :[1, 3, 5, 7],\n",
        "    'gamma'            :[0.0, 0.1, 0.2, 0.3, 0.4],\n",
        "    'colsample_bytree' :[0.3, 0.4, 0.5, 0.7]\n",
        "}"
      ]
    },
    {
      "cell_type": "code",
      "execution_count": null,
      "metadata": {
        "id": "sL1StNNlO5Zs"
      },
      "outputs": [],
      "source": [
        "# random_search_xgb=RandomizedSearchCV(xgb_classifier,param_distributions=params_xgb,n_iter=10, scoring='recall',n_jobs=-1,cv=5,verbose=3)\n",
        "\n",
        "random_search_xgb_new=RandomizedSearchCV(xgb_classifier,param_distributions=params_xgb, scoring='recall',n_jobs=-1,refit=True)"
      ]
    },
    {
      "cell_type": "code",
      "execution_count": null,
      "metadata": {
        "colab": {
          "base_uri": "https://localhost:8080/"
        },
        "id": "bGBthTrgPuee",
        "outputId": "b41a9212-e4b3-4582-d6ad-f92bd38205e3"
      },
      "outputs": [
        {
          "name": "stdout",
          "output_type": "stream",
          "text": [
            "Fitting 5 folds for each of 5 candidates, totalling 25 fits\n"
          ]
        },
        {
          "data": {
            "text/plain": [
              "RandomizedSearchCV(cv=5, estimator=XGBClassifier(), n_iter=5, n_jobs=-1,\n",
              "                   param_distributions={'colsample_bytree': [0.3, 0.4, 0.5,\n",
              "                                                             0.7],\n",
              "                                        'gamma': [0.0, 0.1, 0.2, 0.3, 0.4],\n",
              "                                        'learning_rate': [0.05, 0.1, 0.15, 0.2,\n",
              "                                                          0.25, 0.3],\n",
              "                                        'max_depth': [3, 4, 5, 6, 8, 10, 12,\n",
              "                                                      15],\n",
              "                                        'min_child_weight': [1, 3, 5, 7]},\n",
              "                   scoring='recall', verbose=3)"
            ]
          },
          "execution_count": 54,
          "metadata": {},
          "output_type": "execute_result"
        }
      ],
      "source": [
        "random_search_xgb.fit(x_train_extract_SMOTE,y_train_extract_SMOTE)"
      ]
    },
    {
      "cell_type": "code",
      "execution_count": null,
      "metadata": {
        "colab": {
          "base_uri": "https://localhost:8080/"
        },
        "id": "ahiCauDsXNFU",
        "outputId": "486543e0-f09d-49d5-e087-4dd475ad5a69"
      },
      "outputs": [
        {
          "data": {
            "text/plain": [
              "XGBClassifier(colsample_bytree=0.4, gamma=0.3, learning_rate=0.2, max_depth=10)"
            ]
          },
          "execution_count": 55,
          "metadata": {},
          "output_type": "execute_result"
        }
      ],
      "source": [
        "random_search_xgb.best_estimator_"
      ]
    },
    {
      "cell_type": "code",
      "execution_count": null,
      "metadata": {
        "id": "5dtWvzyZXAF8"
      },
      "outputs": [],
      "source": [
        "random_search_xgb.best_params_"
      ]
    },
    {
      "cell_type": "code",
      "execution_count": null,
      "metadata": {
        "id": "Z-CV4kKyXFIp"
      },
      "outputs": [],
      "source": [
        "random_search_xgb.best_score_"
      ]
    },
    {
      "cell_type": "code",
      "execution_count": null,
      "metadata": {
        "colab": {
          "base_uri": "https://localhost:8080/"
        },
        "id": "Uu1ikm5IH4ke",
        "outputId": "89f81a4b-564d-4a23-ee5c-19d220c641ad"
      },
      "outputs": [
        {
          "data": {
            "text/plain": [
              "RandomizedSearchCV(estimator=XGBClassifier(), n_jobs=-1,\n",
              "                   param_distributions={'colsample_bytree': [0.3, 0.4, 0.5,\n",
              "                                                             0.7],\n",
              "                                        'gamma': [0.0, 0.1, 0.2, 0.3, 0.4],\n",
              "                                        'learning_rate': [0.05, 0.1, 0.15, 0.2,\n",
              "                                                          0.25, 0.3],\n",
              "                                        'max_depth': [3, 4, 5, 6, 8, 10, 12,\n",
              "                                                      15],\n",
              "                                        'min_child_weight': [1, 3, 5, 7]},\n",
              "                   scoring='recall')"
            ]
          },
          "execution_count": 78,
          "metadata": {},
          "output_type": "execute_result"
        }
      ],
      "source": [
        "random_search_xgb_new.fit(x_train_extract_SMOTE,y_train_extract_SMOTE)"
      ]
    },
    {
      "cell_type": "code",
      "execution_count": null,
      "metadata": {
        "colab": {
          "base_uri": "https://localhost:8080/"
        },
        "id": "qLddjo4XEPF8",
        "outputId": "fd2b73da-1697-4f0a-b4f9-fd7ce44678e4"
      },
      "outputs": [
        {
          "data": {
            "text/plain": [
              "XGBClassifier(colsample_bytree=0.7, gamma=0.4, learning_rate=0.3, max_depth=6,\n",
              "              min_child_weight=5)"
            ]
          },
          "execution_count": 83,
          "metadata": {},
          "output_type": "execute_result"
        }
      ],
      "source": [
        "random_search_xgb_new.best_estimator_"
      ]
    },
    {
      "cell_type": "code",
      "execution_count": null,
      "metadata": {
        "colab": {
          "base_uri": "https://localhost:8080/"
        },
        "id": "v0mOEY-hEPF-",
        "outputId": "1b87e2d5-8db5-44f0-973d-5910e7fafd51"
      },
      "outputs": [
        {
          "data": {
            "text/plain": [
              "{'min_child_weight': 5,\n",
              " 'max_depth': 6,\n",
              " 'learning_rate': 0.3,\n",
              " 'gamma': 0.4,\n",
              " 'colsample_bytree': 0.7}"
            ]
          },
          "execution_count": 84,
          "metadata": {},
          "output_type": "execute_result"
        }
      ],
      "source": [
        "random_search_xgb_new.best_params_"
      ]
    },
    {
      "cell_type": "code",
      "execution_count": null,
      "metadata": {
        "colab": {
          "base_uri": "https://localhost:8080/"
        },
        "id": "TwAEESX2EPF_",
        "outputId": "1242a86d-de1b-4d4c-bfdd-c746d571ab72"
      },
      "outputs": [
        {
          "data": {
            "text/plain": [
              "0.9999748768967944"
            ]
          },
          "execution_count": 86,
          "metadata": {},
          "output_type": "execute_result"
        }
      ],
      "source": [
        "random_search_xgb_new.best_score_"
      ]
    },
    {
      "cell_type": "code",
      "execution_count": null,
      "metadata": {
        "colab": {
          "base_uri": "https://localhost:8080/"
        },
        "id": "-xT5Pw6IH4kf",
        "outputId": "f72df5b0-47c9-482f-a72f-bc20aadb19e6"
      },
      "outputs": [
        {
          "data": {
            "text/plain": [
              "XGBClassifier(colsample_bytree=0.7, gamma=0.1, learning_rate=0.25, max_depth=12)"
            ]
          },
          "execution_count": 67,
          "metadata": {},
          "output_type": "execute_result"
        }
      ],
      "source": [
        "random_search_xgb_new.best_estimator_"
      ]
    },
    {
      "cell_type": "code",
      "execution_count": null,
      "metadata": {
        "colab": {
          "base_uri": "https://localhost:8080/"
        },
        "id": "I70mxs6yH4kg",
        "outputId": "6f78d9bd-3ac5-4876-86f6-4cf8d47bf58a"
      },
      "outputs": [
        {
          "data": {
            "text/plain": [
              "{'min_child_weight': 1,\n",
              " 'max_depth': 12,\n",
              " 'learning_rate': 0.25,\n",
              " 'gamma': 0.1,\n",
              " 'colsample_bytree': 0.7}"
            ]
          },
          "execution_count": 68,
          "metadata": {},
          "output_type": "execute_result"
        }
      ],
      "source": [
        "random_search_xgb_new.best_params_"
      ]
    },
    {
      "cell_type": "code",
      "execution_count": null,
      "metadata": {
        "colab": {
          "base_uri": "https://localhost:8080/"
        },
        "id": "j8Rtj1yRH4kh",
        "outputId": "7e287e96-eb8e-469c-ad46-2346ab094863"
      },
      "outputs": [
        {
          "data": {
            "text/plain": [
              "0.9999748768967944"
            ]
          },
          "execution_count": 85,
          "metadata": {},
          "output_type": "execute_result"
        }
      ],
      "source": [
        "random_search_xgb_new.best_score_"
      ]
    },
    {
      "cell_type": "markdown",
      "metadata": {
        "id": "TlXFv9qm-wn7"
      },
      "source": [
        "## hyper parameter apply:"
      ]
    },
    {
      "cell_type": "markdown",
      "metadata": {
        "id": "jGZQJY8H9hwz"
      },
      "source": [
        "##### evaluating using standard extracted randomOverSample dataset:"
      ]
    },
    {
      "cell_type": "code",
      "execution_count": null,
      "metadata": {
        "id": "I2g2ChmkWNUQ"
      },
      "outputs": [],
      "source": [
        "import matplotlib.pyplot as plt"
      ]
    },
    {
      "cell_type": "code",
      "execution_count": null,
      "metadata": {
        "id": "to9gSLuU9ja1"
      },
      "outputs": [],
      "source": [
        "from sklearn.ensemble import AdaBoostClassifier\n",
        "ada_classifier_hyper=AdaBoostClassifier(algorithm='SAMME', learning_rate=0.8)\n",
        "ada_classifier =AdaBoostClassifier()"
      ]
    },
    {
      "cell_type": "code",
      "source": [
        "from sklearn.ensemble import AdaBoostClassifier\n",
        "ada_classifier_hyper=AdaBoostClassifier(algorithm ='SAMME.R', learning_rate= 1.2000000000000002, n_estimators= 110)"
      ],
      "metadata": {
        "id": "kmGPOrBh_BBs"
      },
      "execution_count": null,
      "outputs": []
    },
    {
      "cell_type": "code",
      "execution_count": null,
      "metadata": {
        "id": "jSTSmTxe9hw0"
      },
      "outputs": [],
      "source": [
        "ada_classifier_hyper.fit(x_train_extract_standar_SMOTE,y_train_standar_SMOTE)\n",
        "y_pred_extract_standar_SMOTE =ada_classifier_hyper.predict(x_test_exctract)"
      ]
    },
    {
      "cell_type": "code",
      "execution_count": null,
      "metadata": {
        "colab": {
          "base_uri": "https://localhost:8080/",
          "height": 235
        },
        "id": "fwiiCZyL9hw1",
        "outputId": "b2d92e42-ca75-4ef1-de2c-9e4b36b18f94"
      },
      "outputs": [
        {
          "ename": "NameError",
          "evalue": "ignored",
          "output_type": "error",
          "traceback": [
            "\u001b[0;31m---------------------------------------------------------------------------\u001b[0m",
            "\u001b[0;31mNameError\u001b[0m                                 Traceback (most recent call last)",
            "\u001b[0;32m<ipython-input-62-7700ae65a5ad>\u001b[0m in \u001b[0;36m<module>\u001b[0;34m\u001b[0m\n\u001b[1;32m      1\u001b[0m \u001b[0;32mfrom\u001b[0m \u001b[0msklearn\u001b[0m\u001b[0;34m.\u001b[0m\u001b[0mmetrics\u001b[0m \u001b[0;32mimport\u001b[0m \u001b[0mmake_scorer\u001b[0m\u001b[0;34m,\u001b[0m\u001b[0mclassification_report\u001b[0m\u001b[0;34m,\u001b[0m \u001b[0maccuracy_score\u001b[0m \u001b[0;34m,\u001b[0m\u001b[0mf1_score\u001b[0m\u001b[0;34m,\u001b[0m \u001b[0mrecall_score\u001b[0m \u001b[0;34m,\u001b[0m \u001b[0mprecision_score\u001b[0m\u001b[0;34m,\u001b[0m \u001b[0mconfusion_matrix\u001b[0m\u001b[0;34m,\u001b[0m \u001b[0mConfusionMatrixDisplay\u001b[0m\u001b[0;34m\u001b[0m\u001b[0;34m\u001b[0m\u001b[0m\n\u001b[0;32m----> 2\u001b[0;31m \u001b[0mprint\u001b[0m\u001b[0;34m(\u001b[0m\u001b[0mclassification_report\u001b[0m\u001b[0;34m(\u001b[0m\u001b[0my_test_extract\u001b[0m\u001b[0;34m,\u001b[0m\u001b[0my_pred_extract_standar_SMOTE\u001b[0m\u001b[0;34m)\u001b[0m\u001b[0;34m)\u001b[0m\u001b[0;34m\u001b[0m\u001b[0;34m\u001b[0m\u001b[0m\n\u001b[0m\u001b[1;32m      3\u001b[0m \u001b[0;34m\u001b[0m\u001b[0m\n\u001b[1;32m      4\u001b[0m \u001b[0;31m#f1_score =f1_score(y_test, y_pred_RandomOverSample_extract)\u001b[0m\u001b[0;34m\u001b[0m\u001b[0;34m\u001b[0m\u001b[0;34m\u001b[0m\u001b[0m\n\u001b[1;32m      5\u001b[0m \u001b[0mrecall\u001b[0m \u001b[0;34m=\u001b[0m\u001b[0mrecall_score\u001b[0m\u001b[0;34m(\u001b[0m\u001b[0my_test_extract\u001b[0m\u001b[0;34m,\u001b[0m \u001b[0my_pred_extract_standar_SMOTE\u001b[0m\u001b[0;34m)\u001b[0m\u001b[0;34m\u001b[0m\u001b[0;34m\u001b[0m\u001b[0m\n",
            "\u001b[0;31mNameError\u001b[0m: name 'y_pred_extract_standar_SMOTE' is not defined"
          ]
        }
      ],
      "source": [
        "from sklearn.metrics import make_scorer,classification_report, accuracy_score ,f1_score, recall_score , precision_score, confusion_matrix, ConfusionMatrixDisplay\n",
        "print(classification_report(y_test_extract,y_pred_extract_standar_SMOTE))\n",
        "\n",
        "#f1_score =f1_score(y_test, y_pred_RandomOverSample_extract)\n",
        "recall =recall_score(y_test_extract, y_pred_extract_standar_SMOTE)\n",
        "precision =precision_score(y_test_extract,y_pred_extract_standar_SMOTE)\n",
        "\n",
        "#print('f1_score =', f1_score)\n",
        "print('recall =', recall)\n",
        "print('precision', precision)\n",
        "\n",
        "conf_mat =confusion_matrix(y_test_extract,y_pred_extract_standar_SMOTE)\n",
        "                           \n",
        "cm_display =ConfusionMatrixDisplay(confusion_matrix=conf_mat)\n",
        "\n",
        "cm_display.plot()\n",
        "\n",
        "plt.figure(figsize=(10,5))\n",
        "plt.show"
      ]
    },
    {
      "cell_type": "code",
      "execution_count": null,
      "metadata": {
        "id": "gF5ek3OT9-o6"
      },
      "outputs": [],
      "source": []
    },
    {
      "cell_type": "markdown",
      "metadata": {
        "id": "bUaTQbKq9-36"
      },
      "source": [
        "##### evaluating using extracted features randomOverSample dataset:"
      ]
    },
    {
      "cell_type": "code",
      "execution_count": null,
      "metadata": {
        "id": "Swh5L29Q-eIO"
      },
      "outputs": [],
      "source": [
        "from xgboost import XGBClassifier\n",
        "xgb_classifier_hyper =XGBClassifier(colsample_bytree=0.4, gamma=0.3, learning_rate=0.2, max_depth=10)\n",
        "xgb_classifier_hyper=XGBClassifier(colsample_bytree=0.7, gamma=0.1, learning_rate=0.25, max_depth=12)\n"
      ]
    },
    {
      "cell_type": "code",
      "execution_count": null,
      "metadata": {
        "id": "tdVfNUni_Rxq"
      },
      "outputs": [],
      "source": [
        "xgb_classifier_hyper=XGBClassifier(colsample_bytree=0.7, gamma=0.1, learning_rate=0.25, max_depth=12)"
      ]
    },
    {
      "cell_type": "code",
      "execution_count": null,
      "metadata": {
        "id": "AZgONn5YxWyZ"
      },
      "outputs": [],
      "source": [
        "xgb_classifier_hyper=XGBClassifier(colsample_bytree=0.7, gamma=0.1, max_depth=12)"
      ]
    },
    {
      "cell_type": "code",
      "execution_count": null,
      "metadata": {
        "id": "hNjaQOYBKJk-"
      },
      "outputs": [],
      "source": [
        "xgb_classifier_hyper=XGBClassifier(colsample_bytree=0.7, gamma=0.4, learning_rate=0.3, max_depth=6,\n",
        "              min_child_weight=5)"
      ]
    },
    {
      "cell_type": "code",
      "execution_count": null,
      "metadata": {
        "id": "gsUXN-nv9-36"
      },
      "outputs": [],
      "source": [
        "xgb_classifier_hyper.fit(x_train_extract_SMOTE,y_train_extract_SMOTE)\n",
        "y_pred_SMOTE_extract=xgb_classifier_hyper.predict(x_test_exctract)"
      ]
    },
    {
      "cell_type": "code",
      "execution_count": null,
      "metadata": {
        "id": "p8XU4EF3yIrI"
      },
      "outputs": [],
      "source": [
        "from sklearn.metrics import make_scorer,classification_report, accuracy_score ,f1_score, recall_score , precision_score, confusion_matrix, ConfusionMatrixDisplay"
      ]
    },
    {
      "cell_type": "code",
      "execution_count": null,
      "metadata": {
        "id": "qwjwsz-HyUmi"
      },
      "outputs": [],
      "source": [
        "import matplotlib.pyplot as plt\n"
      ]
    },
    {
      "cell_type": "code",
      "execution_count": null,
      "metadata": {
        "colab": {
          "base_uri": "https://localhost:8080/",
          "height": 505
        },
        "id": "ci9lXOxG9-37",
        "outputId": "e855534f-1bf0-46a7-cd66-22d7c159f491"
      },
      "outputs": [
        {
          "name": "stdout",
          "output_type": "stream",
          "text": [
            "              precision    recall  f1-score   support\n",
            "\n",
            "           0       1.00      1.00      1.00     85295\n",
            "           1       0.47      0.89      0.61       148\n",
            "\n",
            "    accuracy                           1.00     85443\n",
            "   macro avg       0.73      0.94      0.81     85443\n",
            "weighted avg       1.00      1.00      1.00     85443\n",
            "\n",
            "recall = 0.8851351351351351\n",
            "precision 0.46785714285714286\n"
          ]
        },
        {
          "data": {
            "text/plain": [
              "<function matplotlib.pyplot.show(*args, **kw)>"
            ]
          },
          "execution_count": 91,
          "metadata": {},
          "output_type": "execute_result"
        },
        {
          "data": {
            "image/png": "[encoded data removed]",
            "text/plain": [
              "<Figure size 432x288 with 2 Axes>"
            ]
          },
          "metadata": {},
          "output_type": "display_data"
        },
        {
          "data": {
            "text/plain": [
              "<Figure size 720x360 with 0 Axes>"
            ]
          },
          "metadata": {},
          "output_type": "display_data"
        }
      ],
      "source": [
        "print(classification_report(y_test_extract,y_pred_SMOTE_extract))\n",
        "\n",
        "# f1_score =f1_score(y_test, y_pred_SMOTE_extract)\n",
        "recall =recall_score(y_test_extract, y_pred_SMOTE_extract)\n",
        "precision =precision_score(y_test_extract,y_pred_SMOTE_extract)\n",
        "\n",
        "# print('f1_score =', f1_score)\n",
        "print('recall =', recall)\n",
        "print('precision', precision)\n",
        "\n",
        "conf_mat =confusion_matrix(y_test_extract,y_pred_SMOTE_extract)\n",
        "                           \n",
        "cm_display =ConfusionMatrixDisplay(confusion_matrix=conf_mat)\n",
        "\n",
        "cm_display.plot()\n",
        "\n",
        "plt.figure(figsize=(10,5))\n",
        "plt.show"
      ]
    },
    {
      "cell_type": "markdown",
      "metadata": {
        "id": "ila3PSYyIRp8"
      },
      "source": [
        "## HyperParameter Tuning using GridSearchCV:"
      ]
    },
    {
      "cell_type": "code",
      "execution_count": null,
      "metadata": {
        "id": "XHyNtANdJXUB"
      },
      "outputs": [],
      "source": [
        "from sklearn.ensemble import AdaBoostClassifier\n",
        "ada_classifier_hyper=AdaBoostClassifier()"
      ]
    },
    {
      "cell_type": "code",
      "execution_count": null,
      "metadata": {
        "id": "Yl6s4uh_IO_i"
      },
      "outputs": [],
      "source": [
        "from sklearn.model_selection import GridSearchCV\n",
        "\n",
        "params_ada={\n",
        "    'n_estimators'     :np.arange(50,120,10),\n",
        "    'learning_rate'    :np.arange(0.4,1.4,0.2),\n",
        "    'algorithm'        :['SAMME', 'SAMME.R']\n",
        "    }\n",
        "\n",
        "\n",
        "params_ada_new={\n",
        "    'n_estimators'     :np.arange(110,130,10),\n",
        "    'learning_rate'    :np.arange(1.2,1.6,0.2),\n",
        "    'algorithm'        :['SAMME.R']\n",
        "    }    "
      ]
    },
    {
      "cell_type": "code",
      "source": [
        "###################################################################(params_ada_new)=>Begin"
      ],
      "metadata": {
        "id": "BrClBcqaDzlb"
      },
      "execution_count": null,
      "outputs": []
    },
    {
      "cell_type": "code",
      "source": [
        "from sklearn.model_selection import GridSearchCV\n",
        "ada_classifier_hyper_new=AdaBoostClassifier()\n",
        "params_ada_new={\n",
        "    'n_estimators'     :np.arange(110,130,10),\n",
        "    'learning_rate'    :np.arange(1.2,1.6,0.2),\n",
        "    'algorithm'        :['SAMME.R']\n",
        "    }    \n",
        "\n",
        "ada_grid_new =GridSearchCV(estimator=ada_classifier_hyper_new,scoring='recall', param_grid=params_ada_new, cv=5)\n",
        "ada_grid_new.fit(x_train_extract_standar_SMOTE,y_train_standar_SMOTE)\n",
        "print('the best parameters are %s with a score of %0.05f'\n",
        "% (ada_grid_new.best_params_, ada_grid_new.best_score_))"
      ],
      "metadata": {
        "colab": {
          "base_uri": "https://localhost:8080/"
        },
        "id": "1I1Il7NXDYjA",
        "outputId": "b85e4c3c-b018-4d31-f157-e2c7781915e0"
      },
      "execution_count": null,
      "outputs": [
        {
          "output_type": "stream",
          "name": "stdout",
          "text": [
            "the best parameters are {'algorithm': 'SAMME.R', 'learning_rate': 1.5999999999999999, 'n_estimators': 120} with a score of 0.94890\n"
          ]
        }
      ]
    },
    {
      "cell_type": "code",
      "source": [
        "ada_grid_new.best_estimator_"
      ],
      "metadata": {
        "colab": {
          "base_uri": "https://localhost:8080/"
        },
        "id": "tvvcNSUCDwcp",
        "outputId": "dfb9d543-fe92-4ea6-e357-a3e443ec4bfa"
      },
      "execution_count": null,
      "outputs": [
        {
          "output_type": "execute_result",
          "data": {
            "text/plain": [
              "AdaBoostClassifier(learning_rate=1.5999999999999999, n_estimators=120)"
            ]
          },
          "metadata": {},
          "execution_count": 38
        }
      ]
    },
    {
      "cell_type": "code",
      "source": [
        "################################################################(params_ada_new)=>End"
      ],
      "metadata": {
        "id": "hL0OPwGPDyRA"
      },
      "execution_count": null,
      "outputs": []
    },
    {
      "cell_type": "code",
      "execution_count": null,
      "metadata": {
        "id": "U-M-mU3_JSLi"
      },
      "outputs": [],
      "source": [
        "ada_grid =GridSearchCV(estimator=ada_classifier_hyper, param_grid=params_ada, cv=5)"
      ]
    },
    {
      "cell_type": "code",
      "execution_count": null,
      "metadata": {
        "id": "_PCHE6-tJvsk",
        "colab": {
          "base_uri": "https://localhost:8080/"
        },
        "outputId": "5ebcc965-2283-40c2-ffc3-50d5f33e30d3"
      },
      "outputs": [
        {
          "output_type": "execute_result",
          "data": {
            "text/plain": [
              "GridSearchCV(cv=5, estimator=AdaBoostClassifier(),\n",
              "             param_grid={'algorithm': ['SAMME', 'SAMME.R'],\n",
              "                         'learning_rate': array([0.4, 0.6, 0.8, 1. , 1.2]),\n",
              "                         'n_estimators': array([ 50,  60,  70,  80,  90, 100, 110])})"
            ]
          },
          "metadata": {},
          "execution_count": 34
        }
      ],
      "source": [
        "ada_grid.fit(x_train_extract_standar_SMOTE,y_train_standar_SMOTE)"
      ]
    },
    {
      "cell_type": "code",
      "execution_count": null,
      "metadata": {
        "id": "r-zzQFm5J5Ou",
        "colab": {
          "base_uri": "https://localhost:8080/"
        },
        "outputId": "ddefc3f9-1c66-4881-884c-087da1315c9a"
      },
      "outputs": [
        {
          "output_type": "stream",
          "name": "stdout",
          "text": [
            "the best parameters are {'algorithm': 'SAMME.R', 'learning_rate': 1.2000000000000002, 'n_estimators': 110} with a score of 0.95999\n"
          ]
        }
      ],
      "source": [
        "print('the best parameters are %s with a score of %0.05f'\n",
        "% (ada_grid.best_params_, ada_grid.best_score_))"
      ]
    },
    {
      "cell_type": "code",
      "source": [
        "ada_grid.best_estimator_"
      ],
      "metadata": {
        "colab": {
          "base_uri": "https://localhost:8080/",
          "height": 165
        },
        "id": "Is_NGnSR-llW",
        "outputId": "c401584a-95ae-458b-a0ea-ff28e6dbb2f3"
      },
      "execution_count": null,
      "outputs": [
        {
          "output_type": "error",
          "ename": "NameError",
          "evalue": "ignored",
          "traceback": [
            "\u001b[0;31m---------------------------------------------------------------------------\u001b[0m",
            "\u001b[0;31mNameError\u001b[0m                                 Traceback (most recent call last)",
            "\u001b[0;32m<ipython-input-1-1a6c2a07a4f0>\u001b[0m in \u001b[0;36m<module>\u001b[0;34m\u001b[0m\n\u001b[0;32m----> 1\u001b[0;31m \u001b[0mada_grid\u001b[0m\u001b[0;34m.\u001b[0m\u001b[0mbest_estimator_\u001b[0m\u001b[0;34m\u001b[0m\u001b[0;34m\u001b[0m\u001b[0m\n\u001b[0m",
            "\u001b[0;31mNameError\u001b[0m: name 'ada_grid' is not defined"
          ]
        }
      ]
    },
    {
      "cell_type": "code",
      "execution_count": null,
      "metadata": {
        "id": "bh1GpyIeKXGP",
        "colab": {
          "base_uri": "https://localhost:8080/",
          "height": 165
        },
        "outputId": "3074df3b-fed8-4201-f61b-629c0cb36bf0"
      },
      "outputs": [
        {
          "output_type": "error",
          "ename": "AttributeError",
          "evalue": "ignored",
          "traceback": [
            "\u001b[0;31m---------------------------------------------------------------------------\u001b[0m",
            "\u001b[0;31mAttributeError\u001b[0m                            Traceback (most recent call last)",
            "\u001b[0;32m<ipython-input-36-94c5f205738c>\u001b[0m in \u001b[0;36m<module>\u001b[0;34m\u001b[0m\n\u001b[0;32m----> 1\u001b[0;31m \u001b[0mada_grid_results\u001b[0m \u001b[0;34m=\u001b[0m\u001b[0mpd\u001b[0m\u001b[0;34m.\u001b[0m\u001b[0mconcat\u001b[0m\u001b[0;34m(\u001b[0m\u001b[0;34m[\u001b[0m\u001b[0mpd\u001b[0m\u001b[0;34m.\u001b[0m\u001b[0mDataFrame\u001b[0m\u001b[0;34m(\u001b[0m\u001b[0mada_grid\u001b[0m\u001b[0;34m.\u001b[0m\u001b[0mcv_results_\u001b[0m\u001b[0;34m[\u001b[0m\u001b[0;34m'params'\u001b[0m\u001b[0;34m]\u001b[0m\u001b[0;34m)\u001b[0m\u001b[0;34m,\u001b[0m\u001b[0mpd\u001b[0m\u001b[0;34m.\u001b[0m\u001b[0mDataFrame\u001b[0m\u001b[0;34m(\u001b[0m\u001b[0mada_grid\u001b[0m\u001b[0;34m.\u001b[0m\u001b[0mcv_results\u001b[0m\u001b[0;34m[\u001b[0m\u001b[0;34m'mean_test_score'\u001b[0m\u001b[0;34m]\u001b[0m\u001b[0;34m,\u001b[0m\u001b[0mcolumns\u001b[0m\u001b[0;34m=\u001b[0m\u001b[0;34m[\u001b[0m\u001b[0;34m'Accuracy'\u001b[0m\u001b[0;34m]\u001b[0m\u001b[0;34m)\u001b[0m\u001b[0;34m]\u001b[0m\u001b[0;34m,\u001b[0m\u001b[0maxis\u001b[0m\u001b[0;34m=\u001b[0m\u001b[0;36m1\u001b[0m\u001b[0;34m)\u001b[0m\u001b[0;34m\u001b[0m\u001b[0;34m\u001b[0m\u001b[0m\n\u001b[0m",
            "\u001b[0;31mAttributeError\u001b[0m: 'GridSearchCV' object has no attribute 'cv_results'"
          ]
        }
      ],
      "source": [
        "ada_grid_results =pd.concat([pd.DataFrame(ada_grid.cv_results_['params']),pd.DataFrame(ada_grid.cv_results['mean_test_score'],columns=['Accuracy'])],axis=1)"
      ]
    },
    {
      "cell_type": "code",
      "execution_count": null,
      "metadata": {
        "id": "muCYwaj5Odog"
      },
      "outputs": [],
      "source": [
        "ada_grid_results.sort_values(by=['Accuracy'])"
      ]
    },
    {
      "cell_type": "code",
      "execution_count": null,
      "metadata": {
        "id": "JwDKWAiKN_bl"
      },
      "outputs": [],
      "source": [
        "print(ada_grid_results['Accuracy']).max()"
      ]
    },
    {
      "cell_type": "code",
      "execution_count": null,
      "metadata": {
        "id": "MAkJrjl4LQqR"
      },
      "outputs": [],
      "source": [
        "ada_grid_contour =ada_grid_results.groupby(['algorithm' ,'n_estimators','learning_rate']).mean()\n",
        "ada_grid_contour"
      ]
    },
    {
      "cell_type": "code",
      "execution_count": null,
      "metadata": {
        "id": "kYVnN5DROAF7"
      },
      "outputs": [],
      "source": [
        "print(ada_grid_contour['Accuracy']).max()"
      ]
    },
    {
      "cell_type": "code",
      "execution_count": null,
      "metadata": {
        "id": "2dcXg1gUOkmy"
      },
      "outputs": [],
      "source": [
        "ada_grid_contour.sort_values(by=['Accuracy'])"
      ]
    },
    {
      "cell_type": "code",
      "execution_count": null,
      "metadata": {
        "id": "P6THmuzQLlr5"
      },
      "outputs": [],
      "source": [
        "ada_grid_contour_reset =ada_grid_contour.reset_index()\n",
        "ada_grid_contour_reset.columns =['algorithm' ,'n_estimators','learning_rate','Accuracy']\n",
        "grid_pivot =ada_grid_contour_reset.pivot('algorithm' ,'n_estimators','learning_rate')\n",
        "grid_pivot"
      ]
    },
    {
      "cell_type": "code",
      "source": [
        "########################################################################################"
      ],
      "metadata": {
        "id": "lhCy8GMh-jJs"
      },
      "execution_count": null,
      "outputs": []
    },
    {
      "cell_type": "code",
      "source": [
        "from sklearn.ensemble import AdaBoostClassifier\n",
        "ada_classifier_hyper=AdaBoostClassifier(learning_rate=1.5999999999999999, n_estimators=120)\n",
        "# ada_classifier_hyper=AdaBoostClassifier()"
      ],
      "metadata": {
        "id": "IX8KScxD_1DJ"
      },
      "execution_count": null,
      "outputs": []
    },
    {
      "cell_type": "code",
      "execution_count": null,
      "metadata": {
        "id": "IP_jYjfe_1DK"
      },
      "outputs": [],
      "source": [
        "ada_classifier_hyper.fit(x_train_extract_standar_SMOTE,y_train_standar_SMOTE)\n",
        "y_pred_extract_standar_SMOTE =ada_classifier_hyper.predict(x_test_exctract)"
      ]
    },
    {
      "cell_type": "code",
      "execution_count": null,
      "metadata": {
        "colab": {
          "base_uri": "https://localhost:8080/",
          "height": 522
        },
        "outputId": "b16093fb-38a3-425e-f0be-faf9bc8e8bf9",
        "id": "pib6YM1r_1DK"
      },
      "outputs": [
        {
          "output_type": "stream",
          "name": "stdout",
          "text": [
            "              precision    recall  f1-score   support\n",
            "\n",
            "           0       1.00      0.97      0.98     85295\n",
            "           1       0.05      0.91      0.09       148\n",
            "\n",
            "    accuracy                           0.97     85443\n",
            "   macro avg       0.52      0.94      0.54     85443\n",
            "weighted avg       1.00      0.97      0.98     85443\n",
            "\n",
            "f1_score = 0.08927381745502998\n",
            "recall = 0.9054054054054054\n",
            "precision 0.046951646811492644\n"
          ]
        },
        {
          "output_type": "execute_result",
          "data": {
            "text/plain": [
              "<function matplotlib.pyplot.show(*args, **kw)>"
            ]
          },
          "metadata": {},
          "execution_count": 50
        },
        {
          "output_type": "display_data",
          "data": {
            "text/plain": [
              "<Figure size 432x288 with 2 Axes>"
            ],
            "image/png": "[encoded data removed]"
          },
          "metadata": {
            "needs_background": "light"
          }
        },
        {
          "output_type": "display_data",
          "data": {
            "text/plain": [
              "<Figure size 720x360 with 0 Axes>"
            ]
          },
          "metadata": {}
        }
      ],
      "source": [
        "from sklearn.metrics import make_scorer,classification_report, accuracy_score ,f1_score, recall_score , precision_score, confusion_matrix, ConfusionMatrixDisplay\n",
        "print(classification_report(y_test_extract,y_pred_extract_standar_SMOTE))\n",
        "\n",
        "f1_score =f1_score(y_test_extract, y_pred_extract_standar_SMOTE)\n",
        "recall =recall_score(y_test_extract, y_pred_extract_standar_SMOTE)\n",
        "precision =precision_score(y_test_extract,y_pred_extract_standar_SMOTE)\n",
        "\n",
        "print('f1_score =', f1_score)\n",
        "print('recall =', recall)\n",
        "print('precision', precision)\n",
        "\n",
        "conf_mat =confusion_matrix(y_test_extract,y_pred_extract_standar_SMOTE)\n",
        "                           \n",
        "cm_display =ConfusionMatrixDisplay(confusion_matrix=conf_mat)\n",
        "\n",
        "cm_display.plot()\n",
        "\n",
        "plt.figure(figsize=(10,5))\n",
        "plt.show"
      ]
    },
    {
      "cell_type": "markdown",
      "source": [
        "# xgboost try:"
      ],
      "metadata": {
        "id": "hZWawLdK-mcA"
      }
    },
    {
      "cell_type": "code",
      "source": [
        "from numpy import mean\n",
        "from sklearn.model_selection import cross_val_score, RepeatedStratifiedKFold\n",
        "from xgboost import XGBClassifier\n",
        "\n",
        "\n",
        "xg_model =XGBClassifier()\n",
        "\n",
        "cv=RepeatedStratifiedKFold(n_splits=5, n_repeats=3, random_state=1)\n",
        "\n",
        "scores=cross_val_score(xg_model,x_train_extract_smote,y_train_extract,scoring='roc_auc',cv=cv,n_jobs=-1)\n",
        "\n",
        "print('Mean ROC AUC: %.5f' %mean(scores))"
      ],
      "metadata": {
        "colab": {
          "base_uri": "https://localhost:8080/"
        },
        "id": "AQfe0c0l-qP_",
        "outputId": "549ba23b-10cf-480c-f6f9-a2c94c3bae3d"
      },
      "execution_count": null,
      "outputs": [
        {
          "output_type": "stream",
          "name": "stdout",
          "text": [
            "Mean ROC AUC: 0.97910\n"
          ]
        }
      ]
    },
    {
      "cell_type": "code",
      "source": [
        "xg_model =XGBClassifier()"
      ],
      "metadata": {
        "id": "zodZj2UeRIUC"
      },
      "execution_count": null,
      "outputs": []
    },
    {
      "cell_type": "code",
      "source": [
        "cv=RepeatedStratifiedKFold(n_splits=5, n_repeats=3, random_state=1)\n",
        "scores=cross_val_score(x_train_extract_standar_SMOTE,y_train_standar_SMOTE,scoring='recall',cv=cv,n_jobs=-1)"
      ],
      "metadata": {
        "colab": {
          "base_uri": "https://localhost:8080/",
          "height": 182
        },
        "id": "_GaSfibJQ_bm",
        "outputId": "0285828e-c344-40c1-8d75-75491c4aa178"
      },
      "execution_count": null,
      "outputs": [
        {
          "output_type": "error",
          "ename": "NameError",
          "evalue": "ignored",
          "traceback": [
            "\u001b[0;31m---------------------------------------------------------------------------\u001b[0m",
            "\u001b[0;31mNameError\u001b[0m                                 Traceback (most recent call last)",
            "\u001b[0;32m<ipython-input-23-77f9161c5890>\u001b[0m in \u001b[0;36m<module>\u001b[0;34m\u001b[0m\n\u001b[1;32m      1\u001b[0m \u001b[0mcv\u001b[0m\u001b[0;34m=\u001b[0m\u001b[0mRepeatedStratifiedKFold\u001b[0m\u001b[0;34m(\u001b[0m\u001b[0mn_splits\u001b[0m\u001b[0;34m=\u001b[0m\u001b[0;36m5\u001b[0m\u001b[0;34m,\u001b[0m \u001b[0mn_repeats\u001b[0m\u001b[0;34m=\u001b[0m\u001b[0;36m3\u001b[0m\u001b[0;34m,\u001b[0m \u001b[0mrandom_state\u001b[0m\u001b[0;34m=\u001b[0m\u001b[0;36m1\u001b[0m\u001b[0;34m)\u001b[0m\u001b[0;34m\u001b[0m\u001b[0;34m\u001b[0m\u001b[0m\n\u001b[0;32m----> 2\u001b[0;31m \u001b[0mscores\u001b[0m\u001b[0;34m=\u001b[0m\u001b[0mcross_val_score\u001b[0m\u001b[0;34m(\u001b[0m\u001b[0mx_train_extract_standar_SMOTE\u001b[0m\u001b[0;34m,\u001b[0m\u001b[0my_train_standar_SMOTE\u001b[0m\u001b[0;34m,\u001b[0m\u001b[0mscoring\u001b[0m\u001b[0;34m=\u001b[0m\u001b[0;34m'recall'\u001b[0m\u001b[0;34m,\u001b[0m\u001b[0mcv\u001b[0m\u001b[0;34m=\u001b[0m\u001b[0mcv\u001b[0m\u001b[0;34m,\u001b[0m\u001b[0mn_jobs\u001b[0m\u001b[0;34m=\u001b[0m\u001b[0;34m-\u001b[0m\u001b[0;36m1\u001b[0m\u001b[0;34m)\u001b[0m\u001b[0;34m\u001b[0m\u001b[0;34m\u001b[0m\u001b[0m\n\u001b[0m",
            "\u001b[0;31mNameError\u001b[0m: name 'x_train_extract_standar_SMOTE' is not defined"
          ]
        }
      ]
    },
    {
      "cell_type": "code",
      "source": [
        "print('Recall: %.5f' %mean(scores))"
      ],
      "metadata": {
        "colab": {
          "base_uri": "https://localhost:8080/"
        },
        "id": "-mVJLDDBa8_d",
        "outputId": "faa3748c-edbb-4d4f-a54d-a0e39f6a999e"
      },
      "execution_count": null,
      "outputs": [
        {
          "output_type": "stream",
          "name": "stdout",
          "text": [
            "Recall: 0.76429\n"
          ]
        }
      ]
    },
    {
      "cell_type": "code",
      "source": [
        "from collections import Counter\n",
        "\n",
        "counter =Counter(y_train)\n",
        "\n",
        "#estimate scale_pos_weight value\n",
        "estimate =counter[0]/counter[1]\n",
        "print('Estimate: %3f' %estimate)"
      ],
      "metadata": {
        "colab": {
          "base_uri": "https://localhost:8080/"
        },
        "id": "YbPz2AmABesp",
        "outputId": "02d83d5b-ad7f-4ca5-f4af-8036ad4bc6a8"
      },
      "execution_count": null,
      "outputs": [
        {
          "output_type": "stream",
          "name": "stdout",
          "text": [
            "Estimate: 578.546512\n"
          ]
        }
      ]
    },
    {
      "cell_type": "code",
      "source": [
        "model=XGBClassifier(scale_pos_weight=estimate)\n",
        "\n",
        "cv=RepeatedStratifiedKFold(n_splits=10, n_repeats=3, random_state=1)\n",
        "\n",
        "scores=cross_val_score(model,x_train_extract,y_train_extract,scoring='roc_auc',cv=cv,n_jobs=-1)\n",
        "\n",
        "print('Mean ROC AUC: %.5f' %mean(scores))\n"
      ],
      "metadata": {
        "colab": {
          "base_uri": "https://localhost:8080/"
        },
        "id": "OWTtnAIlCFd3",
        "outputId": "2f824bef-ab01-417c-a1a3-d56d7f44488e"
      },
      "execution_count": null,
      "outputs": [
        {
          "output_type": "stream",
          "name": "stdout",
          "text": [
            "Mean ROC AUC: 0.97292\n"
          ]
        }
      ]
    }
  ],
  "metadata": {
    "colab": {
      "collapsed_sections": [
        "-sI7jD9tzZRN",
        "OuzqKv_dzf38",
        "pLF6SR1230Ph",
        "qkTEdohO3CIq",
        "lqkP0JMsJqk4",
        "PnceAbhlryge",
        "bDkXNShysO-U",
        "zCkzpPaTy2yR",
        "AbUbbhq1AnA7",
        "0RlsE4n0Aq8U",
        "ujf_pmBCM6V0",
        "SATrRfliKD8w",
        "I_1xMpSO90rm",
        "IDo4uv76Gngy",
        "guk8PSPRGy51",
        "0xHuW6qSCGLh",
        "ZlguOLpXCGLm",
        "qUdErvfbCHt0",
        "r2txSQ2JCHuG"
      ],
      "provenance": []
    },
    "gpuClass": "standard",
    "kernelspec": {
      "display_name": "Python 3",
      "name": "python3"
    },
    "language_info": {
      "name": "python"
    }
  },
  "nbformat": 4,
  "nbformat_minor": 0
}